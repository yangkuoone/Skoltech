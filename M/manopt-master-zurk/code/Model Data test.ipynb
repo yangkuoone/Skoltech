{
 "cells": [
  {
   "cell_type": "code",
   "execution_count": 1,
   "metadata": {
    "collapsed": false
   },
   "outputs": [],
   "source": [
    "import numpy as np\n",
    "import scipy as sp\n",
    "import pandas as pd\n",
    "import networkx as nx\n",
    "\n",
    "from bigclam_code.Extends import bigclam_orig\n",
    "from algorithms import copra, LancichinettiBenchmark, walktrap, BigClam, NMF_clust, OCCAM, SAAC\n",
    "from Experiments import run_methods_model_data"
   ]
  },
  {
   "cell_type": "code",
   "execution_count": 2,
   "metadata": {
    "collapsed": false
   },
   "outputs": [],
   "source": [
    "methods = {#'BigClam-orig': lambda G, K: bigclam_orig(nx.adjacency_matrix(G).todense(), K),\n",
    "           'COPRA': lambda G, K: copra(nx.adjacency_matrix(G).todense(), K),\n",
    "           'NMF': lambda G, K: NMF_clust(nx.adjacency_matrix(G), K),\n",
    "          ##'CFinder': lambda A, K, name: CFinder(A, K),\n",
    "          ##'CPM': lambda A, K, name: [list(x) for x in get_percolated_cliques(nx.from_numpy_matrix(1.0 * (A != 0)), 5)]\n",
    "           'walktrap': lambda G, K: walktrap(nx.adjacency_matrix(G).todense(), K),\n",
    "           'OCCAM-SVD': lambda G, K:  OCCAM(nx.adjacency_matrix(G), K, W_mode='svd'),\n",
    "           'OCCAM-LogLoss': lambda G, K:  OCCAM(nx.adjacency_matrix(G), K, W_mode='bigclam'),\n",
    "           'OCCAM-NMF': lambda G, K:  OCCAM(nx.adjacency_matrix(G), K, W_mode='nmf'),\n",
    "           #'OCCAM-SVD-l1': lambda G, K:  OCCAM(nx.adjacency_matrix(G), K, W_mode='svd', norm_mode='l1'),\n",
    "           'OCCAM-LogLoss-l1': lambda G, K:  OCCAM(nx.adjacency_matrix(G), K, W_mode='bigclam', norm_mode='l1'),\n",
    "           #'OCCAM-NMF-l1': lambda G, K:  OCCAM(nx.adjacency_matrix(G), K, W_mode='nmf', norm_mode='l1'),\n",
    "           #'OCCAM-SVD-kmedians': lambda G, K:  OCCAM(nx.adjacency_matrix(G), K, W_mode='svd', clustering_mode=\"kmedians\", verbose=1),\n",
    "           #'OCCAM-LogLoss-kmedians': lambda G, K:  OCCAM(nx.adjacency_matrix(G), K, W_mode='bigclam', clustering_mode=\"kmedians\", verbose=1),\n",
    "           'SAAC-SVD': lambda G, K: SAAC(nx.adjacency_matrix(G), K, W_mode='svd'),\n",
    "           'SAAC-LogLoss': lambda G, K: SAAC(nx.adjacency_matrix(G), K, W_mode='bigclam'),\n",
    "           'SAAC-NMF': lambda G, K: SAAC(nx.adjacency_matrix(G), K, W_mode='nmf'),\n",
    "        }"
   ]
  },
  {
   "cell_type": "code",
   "execution_count": 3,
   "metadata": {
    "collapsed": true
   },
   "outputs": [],
   "source": [
    "seed = 21113222\n",
    "data_params = {\n",
    "    'N': None,\n",
    "     'mut': None,\n",
    "     'maxk': 50,\n",
    "     'k': 30,\n",
    "     'om': 2,\n",
    "     'muw': None,\n",
    "     'beta': 2,\n",
    "     't1': 2,\n",
    "     't2': 2,\n",
    "     'on': 0,\n",
    "     }"
   ]
  },
  {
   "cell_type": "code",
   "execution_count": null,
   "metadata": {
    "collapsed": false
   },
   "outputs": [],
   "source": [
    "data_params['N'] = 200\n",
    "data_params['mut'] = 0.1\n",
    "data_params['muw'] = 0.1\n",
    "print '~~~~~~~~~~~~~~ {} {} {} ~~~~~~~~~~~~~~'.format(data_params['N'], data_params['mut'], data_params['muw'])\n",
    "run_methods_model_data(methods, data_params, 'dump-N-{}-mut-{}'.format(data_params['N'], data_params['mut']))\n",
    "\n",
    "data_params['mut'] = 0.3\n",
    "data_params['muw'] = 0.3\n",
    "print '~~~~~~~~~~~~~~ {} {} {} ~~~~~~~~~~~~~~'.format(data_params['N'], data_params['mut'], data_params['muw'])\n",
    "run_methods_model_data(methods, data_params, 'dump-N-{}-mut-{}'.format(data_params['N'], data_params['mut']))\n",
    "\n",
    "data_params['N'] = 1000\n",
    "data_params['mut'] = 0.1\n",
    "data_params['muw'] = 0.1\n",
    "print '~~~~~~~~~~~~~~ {} {} {} ~~~~~~~~~~~~~~'.format(data_params['N'], data_params['mut'], data_params['muw'])\n",
    "run_methods_model_data(methods, data_params, 'dump-N-{}-mut-{}'.format(data_params['N'], data_params['mut']))\n",
    "\n",
    "data_params['mut'] = 0.3\n",
    "data_params['muw'] = 0.3\n",
    "print '~~~~~~~~~~~~~~ {} {} {} ~~~~~~~~~~~~~~'.format(data_params['N'], data_params['mut'], data_params['muw'])\n",
    "run_methods_model_data(methods, data_params, 'dump-N-{}-mut-{}'.format(data_params['N'], data_params['mut']))"
   ]
  },
  {
   "cell_type": "code",
   "execution_count": null,
   "metadata": {
    "collapsed": true
   },
   "outputs": [],
   "source": []
  }
 ],
 "metadata": {
  "anaconda-cloud": {},
  "kernelspec": {
   "display_name": "Python 2",
   "language": "python",
   "name": "python2"
  },
  "language_info": {
   "codemirror_mode": {
    "name": "ipython",
    "version": 2
   },
   "file_extension": ".py",
   "mimetype": "text/x-python",
   "name": "python",
   "nbconvert_exporter": "python",
   "pygments_lexer": "ipython2",
   "version": "2.7.11"
  }
 },
 "nbformat": 4,
 "nbformat_minor": 0
}
