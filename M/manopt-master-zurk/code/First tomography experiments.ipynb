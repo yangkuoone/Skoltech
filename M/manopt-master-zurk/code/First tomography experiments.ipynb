{
 "cells": [
  {
   "cell_type": "markdown",
   "metadata": {},
   "source": [
    "# First tomography experiments\n",
    "Konstantin Slavnov, 09/11/2016"
   ]
  },
  {
   "cell_type": "markdown",
   "metadata": {},
   "source": [
    "**Main Goal:** Find out Matrix factorization approach applicability to tomography tasks"
   ]
  },
  {
   "cell_type": "markdown",
   "metadata": {},
   "source": [
    "Plan:\n",
    "* Formulate simple tomography image reconstruction problem\n",
    "* Develop several methods to solve the problem\n",
    "    * Based on Matrix factorization technique\n",
    "    * Based on Manifold learning technique\n",
    "* Test on simple artificial data and several real snapshots\n",
    "* Research methods properties\n",
    "* Make conclusions"
   ]
  },
  {
   "cell_type": "markdown",
   "metadata": {},
   "source": [
    "## The problem"
   ]
  },
  {
   "cell_type": "markdown",
   "metadata": {},
   "source": [
    "<font color='red'>**TODO:**</font> https://en.wikipedia.org/wiki/Discrete_tomography\n",
    "\n",
    "We have an unknown matrix $A \\in \\mathbb{R}^{n\\times m}$. All we have is several projections of $A$. In most simple case we have only sum of elements in each row and column\n",
    "$$\n",
    "    r_i = \\sum_j A_{ij}, \\;  i = 1, \\ldots, n \\\\\n",
    "    c_j = \\sum_i A_{ij}, \\;  j = 1, \\ldots, m.\n",
    "$$\n",
    "\n",
    "Let us illustrate such situation in binary case."
   ]
  },
  {
   "cell_type": "markdown",
   "metadata": {},
   "source": [
    "<img src=\"../imgs/problem_tomography.png\", width=400, height=300/>"
   ]
  },
  {
   "cell_type": "markdown",
   "metadata": {},
   "source": [
    "Now, let write the optimization task, which corresponds to our problem assuming that $A$ — low-rank (k-rank) matrix.\n",
    "\n",
    "\\begin{equation*}\n",
    "\\begin{aligned}\n",
    "& \\underset{A}{\\text{minimize}}\n",
    "& & C\\|A \\|_1 + \\sum_i \\left|\\xi_i\\right| + \\sum_j \\left|\\eta_j\\right| \\\\\n",
    "& \\text{subject to}\n",
    "& & \\sum_j A_{ij} = r_i + \\xi_i, \\; i = 1, \\ldots, n,\\\\\n",
    "&&& \\sum_i A_{ij} = c_j + \\eta_j, \\; j = 1, \\ldots, m,\\\\\n",
    "&&& \\mathrm{rank}(A) = k.\n",
    "\\end{aligned}\n",
    "\\end{equation*}\n",
    "\n",
    "$\\xi_i$ and $\\eta_j$ was introduced, because we expected some errors in $r_i$, $c_j$ measurement. Or if we have more conditions, it can be impossible to satisfy all of them precisely. So we have mismatch penalty. In most simple case we consider, that $\\xi_i=0$, $\\eta_j=0$ and also we can put $C=0$."
   ]
  },
  {
   "cell_type": "markdown",
   "metadata": {},
   "source": [
    "Another way to work with such problem is to minimize rank directly through rank relaxation function. For example\n",
    "\n",
    "\\begin{equation*}\n",
    "\\begin{aligned}\n",
    "& \\underset{A}{\\text{minimize}}\n",
    "& & \\|A \\|_* + \\sum_i \\left|\\xi_i\\right| + \\sum_j \\left|\\eta_j\\right| \\\\\n",
    "& \\text{subject to}\n",
    "& & \\sum_j A_{ij} = r_i + \\xi_i, \\; i = 1, \\ldots, n,\\\\\n",
    "&&& \\sum_i A_{ij} = c_j + \\eta_j, \\; j = 1, \\ldots, m,\\\\\n",
    "\\end{aligned}\n",
    "\\end{equation*}\n",
    "\n",
    "where $\\|A \\|_*$ — nuclear norm. \"Nuclear norm minimization is a recent heuristic introduced by Fazel in [19], and is an extension of the trace heuristic often used by the control community; see, e.g., [4, 28]. Indeed, when the matrix variable is symmetric and positive semidefinite, the nuclear norm of X is the sum of the (nonnegative) eigenvalues and thus equal to the trace of X. Hence, for positive semidefinite unknowns, (1.5) would simply minimize the trace over the constraint set.\"  \n",
    "\n",
    "[source](http://download.springer.com/static/pdf/484/art%253A10.1007%252Fs10208-009-9045-5.pdf?originUrl=http%3A%2F%2Flink.springer.com%2Farticle%2F10.1007%2Fs10208-009-9045-5&token2=exp=1478691603~acl=%2Fstatic%2Fpdf%2F484%2Fart%25253A10.1007%25252Fs10208-009-9045-5.pdf%3ForiginUrl%3Dhttp%253A%252F%252Flink.springer.com%252Farticle%252F10.1007%252Fs10208-009-9045-5*~hmac=3ceced15d68b3db3d199adc29718daf7d73b4c7b13010997eaec80abffe0cf7b)"
   ]
  },
  {
   "cell_type": "markdown",
   "metadata": {},
   "source": [
    "One another possible optimization task without low-rank assumption:\n",
    "\n",
    "\\begin{equation*}\n",
    "\\begin{aligned}\n",
    "& \\underset{A}{\\text{minimize}}\n",
    "& & \\|A \\|_1 \\\\\n",
    "& \\text{subject to}\n",
    "& & \\sum_j A_{ij} = r_i, \\; i = 1, \\ldots, n,\\\\\n",
    "&&& \\sum_i A_{ij} = c_j, \\; j = 1, \\ldots, m.\n",
    "\\end{aligned}\n",
    "\\end{equation*}"
   ]
  },
  {
   "cell_type": "markdown",
   "metadata": {},
   "source": [
    "### Problem 1"
   ]
  },
  {
   "cell_type": "markdown",
   "metadata": {},
   "source": [
    "Let us consider most simple case for beginning and let us change absolute value to square\n",
    "\n",
    "\\begin{equation*}\n",
    "\\begin{aligned}\n",
    "& \\underset{A}{\\text{minimize}}\n",
    "& & \\sum_i \\xi_i^2 + \\sum_j \\eta_j^2 \\\\\n",
    "& \\text{subject to}\n",
    "& & \\sum_j A_{ij} = r_i + \\xi_i, \\; i = 1, \\ldots, n,\\\\\n",
    "&&& \\sum_i A_{ij} = c_j + \\eta_j, \\; j = 1, \\ldots, m,\\\\\n",
    "&&& \\mathrm{rank}(A) = k.\n",
    "\\end{aligned}\n",
    "\\end{equation*}"
   ]
  },
  {
   "cell_type": "markdown",
   "metadata": {},
   "source": [
    "<font color='red'>**TODO:**</font> write formulas derivation"
   ]
  },
  {
   "cell_type": "markdown",
   "metadata": {},
   "source": [
    "So our problem reduced to\n",
    "$$\n",
    "e_m^T A^T A e_m + e_n^T A A^T e_n - 2 r^T A e_m - 2 c^T A^T e_n \\longrightarrow \\min_{A:\\,\\mathrm{rk}(A)=k}\n",
    "$$\n",
    "Let's try to use manifold optimization."
   ]
  },
  {
   "cell_type": "markdown",
   "metadata": {},
   "source": [
    "### Solution 1"
   ]
  },
  {
   "cell_type": "code",
   "execution_count": 157,
   "metadata": {
    "collapsed": false
   },
   "outputs": [],
   "source": [
    "import numpy as np\n",
    "from theano import *\n",
    "import theano.tensor as T\n",
    "from theano import grad\n",
    "from theano import function\n",
    "from pymanopt.manifolds import FixedRankEmbedded, PSDFixedRank\n",
    "from pymanopt import Problem\n",
    "from pymanopt.solvers import SteepestDescent, ConjugateGradient, NelderMead\n",
    "\n",
    "import seaborn as sns\n",
    "import matplotlib.pyplot as plt\n",
    "%matplotlib inline\n",
    "sns.set(style=\"white\")"
   ]
  },
  {
   "cell_type": "code",
   "execution_count": 150,
   "metadata": {
    "collapsed": false
   },
   "outputs": [],
   "source": [
    "U, V = T.dmatrices('U','V')\n",
    "S = T.dvector('S')\n",
    "A = U.dot(T.diag(S)).dot(V)\n",
    "\n",
    "A_init = np.array([[0,0  ,0,0],\n",
    "                   [0,100,0,0],\n",
    "                   [0,0,100,0],\n",
    "                   [0,0,0  ,0]])\n",
    "\n",
    "r = shared(A_init.sum(axis=1))\n",
    "c = shared(A_init.sum(axis=0))\n",
    "L1 = 0.1\n",
    "z = L1 * A.norm(1) + A.T.dot(A).sum() + A.dot(A.T).sum() - 2 * r.T.dot(A.sum(axis=1)) - 2 * c.T.dot(A.sum(axis=0).T)\n",
    "\n",
    "cost = function([U, S, V], z)"
   ]
  },
  {
   "cell_type": "code",
   "execution_count": 166,
   "metadata": {
    "collapsed": false
   },
   "outputs": [
    {
     "name": "stdout",
     "output_type": "stream",
     "text": [
      "Compiling cost function...\n",
      "Computing gradient of cost function...\n",
      "Optimizing...\n",
      "Terminated - min stepsize reached after 138 iterations, 0.41 seconds.\n",
      "\n"
     ]
    }
   ],
   "source": [
    "manifold = FixedRankEmbedded(4, 4, 2)\n",
    "problem = Problem(manifold=manifold, cost=z, arg=(U, S, V), verbosity=1)\n",
    "solver = ConjugateGradient()\n",
    "\n",
    "# let Pymanopt do the rest\n",
    "Xopt = solver.solve(problem,)"
   ]
  },
  {
   "cell_type": "code",
   "execution_count": 167,
   "metadata": {
    "collapsed": false
   },
   "outputs": [
    {
     "name": "stdout",
     "output_type": "stream",
     "text": [
      "======= SOLUTION =======\n",
      "[[-11.48251593  11.99659568  11.88697882 -12.40105836]\n",
      " [ 11.81938706  37.65145147  37.76428424  12.76487744]\n",
      " [ 11.44565111  38.04191981  38.15118474  12.36124454]\n",
      " [-11.78252203  12.31003324  12.1975524  -12.7250634 ]]\n",
      "row sum: [  6.06688247e-11   9.99767416e+01   9.99690606e+01   7.78793193e-05]\n",
      "col sum: [  1.29771570e-03   9.99661692e+01   9.99783771e+01   3.59747144e-05]\n"
     ]
    }
   ],
   "source": [
    "print(\"======= SOLUTION =======\")\n",
    "A_res = Xopt[0].dot(np.diag(Xopt[1])).dot(Xopt[2])\n",
    "print(Ares)\n",
    "print(\"row sum:\", A_res.sum(axis=1))\n",
    "print(\"col sum:\", A_res.sum(axis=0))"
   ]
  },
  {
   "cell_type": "code",
   "execution_count": 168,
   "metadata": {
    "collapsed": false
   },
   "outputs": [
    {
     "data": {
      "text/plain": [
       "Elemwise{add,no_inplace}.0"
      ]
     },
     "execution_count": 168,
     "metadata": {},
     "output_type": "execute_result"
    }
   ],
   "source": [
    "grad(z, A)"
   ]
  },
  {
   "cell_type": "markdown",
   "metadata": {
    "collapsed": true
   },
   "source": [
    "So, row and col sums of matrix estimation is really close to initial one.\n",
    "But matrix is different:"
   ]
  },
  {
   "cell_type": "code",
   "execution_count": 169,
   "metadata": {
    "collapsed": false
   },
   "outputs": [
    {
     "data": {
      "text/plain": [
       "<matplotlib.axes._subplots.AxesSubplot at 0x2555b547898>"
      ]
     },
     "execution_count": 169,
     "metadata": {},
     "output_type": "execute_result"
    },
    {
     "data": {
      "image/png": "[encoded data removed]",
      "text/plain": [
       "<matplotlib.figure.Figure at 0x2555b58f5f8>"
      ]
     },
     "metadata": {},
     "output_type": "display_data"
    }
   ],
   "source": [
    "fig, (ax1, ax2) = plt.subplots(ncols=2, sharey=True,)\n",
    "fig.set_figheight(5)\n",
    "fig.set_figwidth(12)\n",
    "sns.heatmap(A_init, ax=ax1, vmin=0, vmax=100)\n",
    "sns.heatmap(A_res, ax=ax2, vmin=0, vmax=100)"
   ]
  },
  {
   "cell_type": "markdown",
   "metadata": {},
   "source": [
    "Also adding L1 regularization improves quality (you can try to put L1 value to zero and see result)"
   ]
  }
 ],
 "metadata": {
  "kernelspec": {
   "display_name": "Python 3",
   "language": "python",
   "name": "python3"
  },
  "language_info": {
   "codemirror_mode": {
    "name": "ipython",
    "version": 3.0
   },
   "file_extension": ".py",
   "mimetype": "text/x-python",
   "name": "python",
   "nbconvert_exporter": "python",
   "pygments_lexer": "ipython3",
   "version": "3.5.2"
  }
 },
 "nbformat": 4,
 "nbformat_minor": 0
}