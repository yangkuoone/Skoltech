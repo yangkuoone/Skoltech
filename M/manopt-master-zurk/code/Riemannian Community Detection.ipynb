{
 "cells": [
  {
   "cell_type": "markdown",
   "metadata": {},
   "source": [
    "# Riemannian 1-bit matrix completion and factorization"
   ]
  },
  {
   "cell_type": "markdown",
   "metadata": {},
   "source": [
    "* Let our data be an adjancy matrix $A$ of a non-directed graph with $n$ vertices.\n",
    "\n",
    "\n",
    "* Introduce $M_{uv}$ - the value determining the probability of an edge between $u, v$.\n",
    "$$p(u,v) = 1 - \\exp( - M_{uv}),$$\n",
    "where $M$ is a symmetric matrix $M = M^T$.\n",
    "\n",
    "* We can write the likelihood of our data:\n",
    "$$\n",
    "    l(M) = \\sum_{(u,v)\\in E} \\log(1 - \\exp(- M_{uv})) - \\sum_{(u,v) \\notin E} M_{uv} \\rightarrow \\max_{M_{uv} \\ge 0, M = M^T}.\n",
    "$$\n",
    "\n",
    "* In order to proceed and make the estimation problem feasible we need to impose certain restrictions on matrix $M_{uv}$. One possible approach is to assume that matrix $M$ is low rank: $rank{M} \\le k$ with $k << n$. The respective optimization problem is\n",
    "$$\n",
    "    l(M) = \\sum_{(u,v)\\in E} \\log(1 - \\exp(- M_{uv})) - \\sum_{(u,v) \\notin E} M_{uv} \\rightarrow \\max_{M_{uv} \\ge 0, M = M^T, rank{M} \\le k}.\n",
    "$$\n",
    "\n",
    "* Ideally, we would like to solve directly this problem, but the alternative can be in considering fixed-rank situation $rank{M} = k$ leading to the problem\n",
    "$$\n",
    "    l(M) = \\sum_{(u,v)\\in E} \\log(1 - \\exp(- M_{uv})) - \\sum_{(u,v) \\notin E} M_{uv} \\rightarrow \\max_{M_{uv} \\ge 0, M = M^T, rank{M} = k},\n",
    "$$\n",
    "which is an optimization on the Riemannian manifold.\n",
    "\n",
    "* Afterwards we can decompose the solution as a product: $ M = F F^T$, where $F \\in \\mathbb{R}^{n \\times k}$ and consider rows of $F$ as community membership weights.\n",
    " "
   ]
  },
  {
   "cell_type": "markdown",
   "metadata": {},
   "source": [
    "## Questions\n",
    "\n",
    "1) What are peculiarities of the manifold $rank M = k$ under additional constraints  $M_{uv} \\ge 0$ and $M = M^T$?\n",
    "\n",
    "2) What is the complexity of usual Riemannian optimization methods? Can we make them more scalable?\n",
    "\n",
    "3) What we can say about decomposition $M = F F^T$ in case when $rank{M} = k$, $M_{uv} \\ge 0$ and $F \\in \\mathbb{R}^{n \\times k}$? Can we make $F_{uv} \\ge 0$?\n",
    "\n",
    "4) This model is also suitable for matrix completion if we consider general $M \\in \\mathbb{R}^{n \\times m}$, $M_{uv} \\ge 0$ and we observe certain binary outcomes $a_{uv} \\in \\{0, 1\\}$ for some subset of pairs $(u, v) \\in S \\subseteq \\{1, \\dots, n\\} \\times \\{1, \\dots, m\\}$.\n",
    "\n",
    "5) We can consider some other variants of imposing structure on $M$:\n",
    "\n",
    "- sparse matrix;\n",
    "- matrix generated from graphon;\n",
    "- Eucledian distance matrix;\n",
    "- ... ."
   ]
  },
  {
   "cell_type": "markdown",
   "metadata": {},
   "source": [
    "# Straightforward approach"
   ]
  },
  {
   "cell_type": "markdown",
   "metadata": {},
   "source": [
    "Let's build primitive Adjacency matrix factorisation approach"
   ]
  },
  {
   "cell_type": "code",
   "execution_count": 29,
   "metadata": {
    "collapsed": false
   },
   "outputs": [],
   "source": [
    "import numpy as np\n",
    "import scipy as sp\n",
    "from theano import *\n",
    "import theano.tensor as T\n",
    "from theano import grad\n",
    "from theano import function\n",
    "from pymanopt.manifolds import FixedRankEmbedded, PSDFixedRank\n",
    "from pymanopt import Problem\n",
    "from pymanopt.solvers import SteepestDescent, ConjugateGradient, NelderMead\n",
    "from math import isnan\n",
    "# import imageio\n",
    "from scipy.sparse.linalg import eigsh\n",
    "from IPython.display import Image\n",
    "from log_progress import log_progress\n",
    "\n",
    "import seaborn as sns\n",
    "import matplotlib.pyplot as plt\n",
    "%matplotlib inline\n",
    "sns.set(style=\"white\")"
   ]
  },
  {
   "cell_type": "code",
   "execution_count": 31,
   "metadata": {
    "collapsed": true
   },
   "outputs": [],
   "source": [
    "def test_example():\n",
    "    return np.array([[0, 1, 1, 1, 0, 0, 0],\n",
    "                     [1, 0, 1, 1, 0, 0, 0],\n",
    "                     [1, 1, 0, 1, 0, 0, 0],\n",
    "                     [1, 1, 1, 0, 1, 1, 1],\n",
    "                     [0, 0, 0, 1, 0, 1, 1],\n",
    "                     [0, 0, 0, 1, 1, 0, 1],\n",
    "                     [0, 0, 0, 1, 1, 1, 0]])\n",
    "\n",
    "def test_example3():\n",
    "    return np.array([[0, 1, 0],\n",
    "                     [1, 0, 1],\n",
    "                     [0, 1, 0]])"
   ]
  },
  {
   "cell_type": "code",
   "execution_count": 32,
   "metadata": {
    "collapsed": false
   },
   "outputs": [],
   "source": [
    "eps_forse = 1e-8\n",
    "\n",
    "U, V = T.dmatrices('U','V')\n",
    "S = T.dvector('S')\n",
    "A = U.dot(T.diag(S)).dot(V) # optimize\n",
    "\n",
    "A = shared(test_example()) # adjacency matrix of graph\n",
    "not_A = 1 - A - np.eye(7) # adjacency matrix of A^C\n",
    "U_cut = T.maximum(0, U) # (???)\n",
    "V_cut = T.maximum(0, V) # (???)\n",
    "FF_est = U.dot(T.diag(S)).dot(V) # USV\n",
    "FF_est_cut = U_cut.dot(T.diag(S)).dot(V_cut) # cutted USV (???)\n",
    "P = 1 - T.exp(-FF_est - eps_forse)\n",
    "logP = T.log(P)\n",
    "\n",
    "llh = T.sum(logP * A) - T.sum(not_A * FF_est) # likelihood of our data\n",
    "llh_grad = T.grad(llh, [U, S, V]) # gradient of likelihood function\n",
    "\n",
    "C = 0.001\n",
    "pen = C * T.sum(T.exp(-U))\n",
    "\n",
    "loglikelihood = function([U, S, V], llh)\n",
    "loglikelihood_grad = function([U, S, V], llh_grad)\n",
    "loglikelihood_grad_M = T.grad(llh, FF_est)\n",
    "A_est = function([U, S, V], P)"
   ]
  },
  {
   "cell_type": "markdown",
   "metadata": {},
   "source": [
    "# Quadratic model"
   ]
  },
  {
   "cell_type": "code",
   "execution_count": 33,
   "metadata": {
    "collapsed": false
   },
   "outputs": [],
   "source": [
    "P2 = FF_est - A\n",
    "\n",
    "se = -T.sum(P2*P2)\n",
    "se_grad = T.grad(se, [U, S, V])\n",
    "se_grad_M = T.grad(se, FF_est)\n",
    "\n",
    "square_err = function([U, S, V], se)\n",
    "square_err_grad = function([U, S, V], se_grad)\n",
    "square_err_grad_M = function([U, S, V], se_grad_M)\n",
    "\n",
    "A2_est = function([U, S, V], P2)"
   ]
  },
  {
   "cell_type": "code",
   "execution_count": 34,
   "metadata": {
    "collapsed": false
   },
   "outputs": [],
   "source": [
    "from collections import namedtuple\n",
    "\n",
    "krankproj = namedtuple('krankproj', field_names=['Vp', 'M', 'Up'])"
   ]
  },
  {
   "cell_type": "code",
   "execution_count": 35,
   "metadata": {
    "collapsed": false
   },
   "outputs": [],
   "source": [
    "def init():\n",
    "    n=7\n",
    "    U_init = np.random.rand(n,2)\n",
    "    #U_init = np.array([[1,1,1,1,0,0,0],\n",
    "    #                   [0,0,0,1,1,1,1]]).T + np.random.rand(n,2) * 0.2\n",
    "    S_init = np.random.rand(2)\n",
    "    if S_init[0] < S_init[1]:\n",
    "        S_init[0], S_init[1] = S_init[1], S_init[0]\n",
    "    V_init = U_init.T\n",
    "    \n",
    "    return (U_init, S_init, V_init)\n",
    "\n",
    "\n",
    "def man_norm(d):\n",
    "    Ud, Sd, Vd = d\n",
    "    \n",
    "    return np.sqrt((np.sum(Ud*Ud) + np.sum(Sd* Sd) + np.sum(Vd* Vd)))\n",
    "\n",
    "\n",
    "def proj(X, alpha, d):\n",
    "    zero_cut=False\n",
    "    #U, S, V = X[0] + alpha * d[0], X[1] + alpha * d[1], X[2] + alpha * d[2]\n",
    "    newX = np.dot(X[0], np.dot(np.diag(X[1]), X[2])) + alpha * (X[0].dot(d.M.dot(X[2])) + d.Up.dot(X[2]) +\n",
    "            X[0].dot(d.Vp.T))\n",
    "    #np.dot(d[0], np.dot(np.diag(d[1]), d[2]))\n",
    "    Un, Sn, Vn = np.linalg.svd(newX)\n",
    "    if zero_cut:\n",
    "        Un[Un<1e-6] = 1e-6\n",
    "        Sn[Sn<1e-6] = 1e-6\n",
    "        Vn[Vn<1e-6] = 1e-6\n",
    "    return Un[:, :2], Sn[:2], Vn[:2]\n",
    "\n",
    "def proj_M(X, Z):\n",
    "    if isinstance(Z, tuple) or isinstance(Z, list):\n",
    "        Z = Z[0].dot(np.diag(Z[1])).dot(Z[2])\n",
    "    #print(Z)\n",
    "    ZV = Z.dot(X[2].T)\n",
    "    UtZV = X[0].T.dot(ZV)\n",
    "    ZtU = Z.T.dot(X[0])\n",
    "    Zproj = krankproj(\n",
    "        M=UtZV,\n",
    "        Vp=ZV - X[0].dot(UtZV),\n",
    "        Up=ZtU - X[2].T.dot(UtZV.T))\n",
    "    return Zproj"
   ]
  },
  {
   "cell_type": "code",
   "execution_count": 36,
   "metadata": {
    "collapsed": false,
    "scrolled": true
   },
   "outputs": [
    {
     "name": "stdout",
     "output_type": "stream",
     "text": [
      "x.Up = [0.314408204725, 0.924562998917;\n",
      "      0.418908136364, 0.0567832166507;\n",
      "      0.638411017922, 0.0937655989925;\n",
      "      0.515245531199, 0.645743428542;\n",
      "      0.353656536597, 0.238034869386;\n",
      "      0.847305079228, 0.120770107562;\n",
      "      0.91308702203, 0.398184318986];\n",
      "\n",
      "x.M = [0.789504411938;\n",
      "      0.0700342046044]';\n",
      "\n",
      "x.Vp = [0.314408204725, 0.418908136364, 0.638411017922, 0.515245531199, 0.353656536597, 0.847305079228, 0.91308702203;\n",
      "      0.924562998917, 0.0567832166507, 0.0937655989925, 0.645743428542, 0.238034869386, 0.120770107562, 0.398184318986]';\n",
      "\n",
      "\n"
     ]
    }
   ],
   "source": [
    "np.random.seed(1123)\n",
    "X = init()\n",
    "#d = init()\n",
    "\n",
    "def py2mat(X):\n",
    "    templ = \"x.Up = [{}];\\n\\nx.M = [{}]';\\n\\nx.Vp = [{}]';\\n\\n\"\n",
    "    ss = []\n",
    "    for k in range(len(X)):\n",
    "        s = []\n",
    "        for x in X[k]:\n",
    "            try:\n",
    "                s.append(', '.join(str(h) for h in x))\n",
    "            except:\n",
    "                s.append(str(x))\n",
    "        s = ';\\n      '.join(s)\n",
    "        ss.append(s)\n",
    "    return templ.format(*ss)\n",
    "\n",
    "print(py2mat(X))\n",
    "#print(py2mat(d))\n",
    "#print(proj(X, 1, d))\n",
    "#print()\n",
    "#print(proj_M(X, d))"
   ]
  },
  {
   "cell_type": "code",
   "execution_count": 37,
   "metadata": {
    "collapsed": false
   },
   "outputs": [],
   "source": [
    "def search(objective, x, d, f0, df0, old_alpha=None):\n",
    "        \"\"\"\n",
    "        Function to perform backtracking line-search.\n",
    "        Arguments:\n",
    "            - objective\n",
    "                objective function to optimise\n",
    "            - manifold\n",
    "                manifold to optimise over\n",
    "            - x\n",
    "                starting point on the manifold\n",
    "            - d\n",
    "                tangent vector at x (descent direction)\n",
    "            - df0\n",
    "                directional derivative at x along d\n",
    "        Returns:\n",
    "            - stepsize\n",
    "                norm of the vector retracted to reach newx from x\n",
    "            - newx\n",
    "                next iterate suggested by the line-search\n",
    "        \"\"\"\n",
    "        #Compute the norm of the search direction\n",
    "        norm_d = man_norm(d)\n",
    "        \n",
    "        if old_alpha is None or old_alpha*norm_d <= 1e-10:\n",
    "            alpha = 1 / norm_d\n",
    "            alpha = float(alpha)\n",
    "        else:\n",
    "            alpha = 2 * old_alpha\n",
    "        \n",
    "        # Make the chosen step and compute the cost there.\n",
    "        try:\n",
    "            newx = proj(x, alpha, d)\n",
    "            newf = objective(*newx)\n",
    "        except sp.linalg.LinAlgError as e:\n",
    "            newx = float('nan')\n",
    "            newf = float('nan')\n",
    "        step_count = 1\n",
    "        suff_decr=1e-4\n",
    "        maxiter=25\n",
    "        contraction_factor=0.5\n",
    "        # Backtrack while the Armijo criterion is not satisfied\n",
    "        while (((newf < f0 + suff_decr * alpha * df0) or isnan(newf)) and\n",
    "            step_count <= maxiter):\n",
    "\n",
    "            # Reduce the step size\n",
    "            alpha = contraction_factor * alpha\n",
    "            try:\n",
    "                # and look closer down the line\n",
    "                newx = proj(x, alpha, d)\n",
    "                newf = objective(*newx)\n",
    "            except sp.linalg.LinAlgError as e:\n",
    "                pass\n",
    "            \n",
    "            step_count = step_count + 1\n",
    "            \n",
    "        \n",
    "        # If we got here without obtaining a decrease, we reject the step.\n",
    "        if newf < f0:\n",
    "            #print('!', end=' ')\n",
    "            alpha = 0.00001\n",
    "            newx = proj(x, alpha, d)\n",
    "            \n",
    "        stepsize = alpha\n",
    "        #newx = manifold.retr(x, stepsize * d)\n",
    "\n",
    "        return stepsize"
   ]
  },
  {
   "cell_type": "code",
   "execution_count": 46,
   "metadata": {
    "collapsed": false,
    "scrolled": true
   },
   "outputs": [],
   "source": [
    "M = 10\n",
    "norms_iters = []\n",
    "costs_iters = []\n",
    "Xs_iters = []\n",
    "maxiter = 1\n",
    "tol = 1e-8\n",
    "alpha=None\n",
    "np.random.seed(1123)\n",
    "for i in log_progress(range(M)):\n",
    "    X = init()\n",
    "    norms = []\n",
    "    costs = []\n",
    "    Xs = []\n",
    "    ksi = loglikelihood_grad(*X)\n",
    "    for iter in range(maxiter):\n",
    "        ksi_old = ksi\n",
    "        ksi_new = loglikelihood_grad(*X)\n",
    "        ksi_full = np.dot(ksi_new[0], np.dot(np.diag(ksi_new[1]), ksi_new[2]))\n",
    "#         print(ksi_full)\n",
    "        ksi_new_M = proj_M(X, ksi_new)\n",
    "        #ksi = [0.9*new + 0.1*old for new, old in zip(ksi_new, ksi_old)]\n",
    "        ksi=ksi_new_M\n",
    "        norm = man_norm(ksi)\n",
    "        cost = loglikelihood(*X)\n",
    "        #if abs(norm - norm2)>1e-4:\n",
    "        #    print '!',\n",
    "        norms.append(norm)\n",
    "        costs.append(cost)\n",
    "        Xs.append(X)\n",
    "        if norm < tol:\n",
    "            break\n",
    "        #step\n",
    "        alpha = search(square_err, X, ksi, square_err(*X), norm**2, alpha)\n",
    "        X = proj(X, alpha, ksi)\n",
    "        #print(iter, norm, cost, alpha)\n",
    "#         print (iter)\n",
    "    norms_iters.append(norms)\n",
    "    costs_iters.append(costs)\n",
    "    Xs_iters.append(Xs)\n",
    "Xopt = X"
   ]
  },
  {
   "cell_type": "code",
   "execution_count": 29,
   "metadata": {
    "collapsed": true
   },
   "outputs": [],
   "source": [
    "def drawing(X):\n",
    "    fig, (ax1, ax2, ax3, ax4) = plt.subplots(ncols=4, sharey=False,)\n",
    "    fig.set_figheight(4)\n",
    "    fig.set_figwidth(18)\n",
    "    sns.heatmap(A.get_value(), ax=ax1, vmin=0, vmax=1, square=True)\n",
    "    sns.heatmap(A_est(X[0], X[1], X[2]), ax=ax2, vmin=0, vmax=1, square=True)\n",
    "    sns.heatmap(X[2].T* np.sqrt(X[1]), ax=ax3,  vmin=-1, vmax=1, square=True)\n",
    "    sns.heatmap(X[0] - X[2].T, ax=ax4, square=True)\n",
    "    return fig"
   ]
  },
  {
   "cell_type": "code",
   "execution_count": 22,
   "metadata": {
    "collapsed": false
   },
   "outputs": [
    {
     "data": {
      "image/png": "[encoded data removed]",
      "text/plain": [
       "<matplotlib.figure.Figure at 0x113402f28>"
      ]
     },
     "metadata": {},
     "output_type": "display_data"
    }
   ],
   "source": [
    "fig=drawing(Xs_iters[0][-1])"
   ]
  },
  {
   "cell_type": "code",
   "execution_count": 12,
   "metadata": {
    "collapsed": true
   },
   "outputs": [],
   "source": [
    "def animate(generator, drawing):\n",
    "    with imageio.get_writer('temp.gif', mode='I') as writer:\n",
    "        for item in log_progress(generator, every=1):\n",
    "            fig = drawing(item)\n",
    "            fig.savefig('temp.png', dpi=72, bbox_inches='tight', pad_inches=0)\n",
    "            plt.close(fig)\n",
    "            image = imageio.imread('temp.png')\n",
    "            writer.append_data(image)\n",
    "    return Image(url='temp.gif')"
   ]
  },
  {
   "cell_type": "code",
   "execution_count": 23,
   "metadata": {
    "collapsed": false,
    "scrolled": false
   },
   "outputs": [
    {
     "ename": "NameError",
     "evalue": "name 'animate' is not defined",
     "output_type": "error",
     "traceback": [
      "\u001b[0;31m---------------------------------------------------------------------------\u001b[0m",
      "\u001b[0;31mNameError\u001b[0m                                 Traceback (most recent call last)",
      "\u001b[0;32m<ipython-input-23-4e9ead082f29>\u001b[0m in \u001b[0;36m<module>\u001b[0;34m()\u001b[0m\n\u001b[0;32m----> 1\u001b[0;31m \u001b[0manimate\u001b[0m\u001b[0;34m(\u001b[0m\u001b[0mXs_iters\u001b[0m\u001b[0;34m[\u001b[0m\u001b[0;34m-\u001b[0m\u001b[0;36m1\u001b[0m\u001b[0;34m]\u001b[0m\u001b[0;34m[\u001b[0m\u001b[0;34m:\u001b[0m\u001b[0;34m:\u001b[0m\u001b[0;36m3\u001b[0m\u001b[0;34m]\u001b[0m\u001b[0;34m,\u001b[0m \u001b[0mdrawing\u001b[0m\u001b[0;34m)\u001b[0m\u001b[0;34m\u001b[0m\u001b[0m\n\u001b[0m",
      "\u001b[0;31mNameError\u001b[0m: name 'animate' is not defined"
     ]
    }
   ],
   "source": [
    "animate(Xs_iters[-1][::3], drawing)"
   ]
  },
  {
   "cell_type": "code",
   "execution_count": 33,
   "metadata": {
    "collapsed": false,
    "scrolled": false
   },
   "outputs": [
    {
     "data": {
      "image/png": "[encoded data removed]",
      "text/plain": [
       "<matplotlib.figure.Figure at 0x118b59b70>"
      ]
     },
     "metadata": {},
     "output_type": "display_data"
    }
   ],
   "source": [
    "plt.figure(figsize=(15, 15))\n",
    "ax = plt.subplot(211)\n",
    "#ax.set_xscale(\"log\")\n",
    "ax.set_yscale(\"log\")\n",
    "for norms in norms_iters:\n",
    "    plt.plot(np.array(norms))\n",
    "ax = plt.subplot(212)\n",
    "#ax.set_xscale(\"log\")\n",
    "#ax.set_yscale(\"log\")\n",
    "for costs in costs_iters:\n",
    "    plt.plot(np.array(costs))\n",
    "#plt.ylim([6,12])"
   ]
  },
  {
   "cell_type": "code",
   "execution_count": 59,
   "metadata": {
    "collapsed": false
   },
   "outputs": [
    {
     "data": {
      "text/plain": [
       "array(-41.65453483140276)"
      ]
     },
     "execution_count": 59,
     "metadata": {},
     "output_type": "execute_result"
    }
   ],
   "source": [
    "costs_iters[0][-10]"
   ]
  },
  {
   "cell_type": "code",
   "execution_count": 20,
   "metadata": {
    "collapsed": true
   },
   "outputs": [],
   "source": [
    "n=7\n",
    "M = 10\n",
    "manifold = FixedRankEmbedded(n, n, 2)\n",
    "problem = Problem(manifold=manifold, cost=se, arg=(U, S, V), verbosity=0)\n",
    "solver = SteepestDescent(logverbosity=2, minstepsize=1e-40, maxiter=1000)"
   ]
  },
  {
   "cell_type": "code",
   "execution_count": 14,
   "metadata": {
    "collapsed": false,
    "scrolled": true
   },
   "outputs": [
    {
     "name": "stdout",
     "output_type": "stream",
     "text": [
      "0 SVD did not converge\n",
      "1 SVD did not converge\n",
      "2 3 SVD did not converge\n",
      "4 5 6 7 8 9 SVD did not converge\n"
     ]
    }
   ],
   "source": [
    "llh_iters = []\n",
    "for i in range(M):\n",
    "    #print(i, end=' ') \n",
    "    print i,\n",
    "    U_init, S_init, V_init = init()\n",
    "    # let Pymanopt do the rest\n",
    "    try:\n",
    "        res = solver.solve(problem, x = (U_init, S_init, V_init))\n",
    "        Xopt, iters = res[0], res[1]['iterations']\n",
    "        llh_iters.append(iters)\n",
    "        #print(res[1]['stoppingreason'])\n",
    "    except Exception as e:\n",
    "        print(e)"
   ]
  },
  {
   "cell_type": "code",
   "execution_count": 17,
   "metadata": {
    "collapsed": false,
    "scrolled": false
   },
   "outputs": [
    {
     "data": {
      "text/plain": [
       "[<matplotlib.lines.Line2D at 0xc4815f8>]"
      ]
     },
     "execution_count": 17,
     "metadata": {},
     "output_type": "execute_result"
    },
    {
     "data": {
      "image/png": "[encoded data removed]",
      "text/plain": [
       "<matplotlib.figure.Figure at 0xc2bde80>"
      ]
     },
     "metadata": {},
     "output_type": "display_data"
    }
   ],
   "source": [
    "plt.figure(figsize=(10,10))\n",
    "ax = plt.subplot(111)\n",
    "ax.set_xscale(\"log\")\n",
    "for iters in llh_iters:\n",
    "    plt.semilogy(np.array(iters['gradnorm']))\n",
    "\n",
    "#for iters in llh_iters:\n",
    "plt.semilogy(np.array(norms), )"
   ]
  },
  {
   "cell_type": "code",
   "execution_count": 24,
   "metadata": {
    "collapsed": false,
    "scrolled": false
   },
   "outputs": [
    {
     "ename": "NameError",
     "evalue": "name 'Xopt' is not defined",
     "output_type": "error",
     "traceback": [
      "\u001b[1;31m---------------------------------------------------------------------------\u001b[0m",
      "\u001b[1;31mNameError\u001b[0m                                 Traceback (most recent call last)",
      "\u001b[1;32m<ipython-input-24-1b83db295eb0>\u001b[0m in \u001b[0;36m<module>\u001b[1;34m()\u001b[0m\n\u001b[0;32m      3\u001b[0m \u001b[0mfig\u001b[0m\u001b[1;33m.\u001b[0m\u001b[0mset_figwidth\u001b[0m\u001b[1;33m(\u001b[0m\u001b[1;36m18\u001b[0m\u001b[1;33m)\u001b[0m\u001b[1;33m\u001b[0m\u001b[0m\n\u001b[0;32m      4\u001b[0m \u001b[0msns\u001b[0m\u001b[1;33m.\u001b[0m\u001b[0mheatmap\u001b[0m\u001b[1;33m(\u001b[0m\u001b[0mA\u001b[0m\u001b[1;33m.\u001b[0m\u001b[0mget_value\u001b[0m\u001b[1;33m(\u001b[0m\u001b[1;33m)\u001b[0m\u001b[1;33m,\u001b[0m \u001b[0max\u001b[0m\u001b[1;33m=\u001b[0m\u001b[0max1\u001b[0m\u001b[1;33m,\u001b[0m \u001b[0mvmin\u001b[0m\u001b[1;33m=\u001b[0m\u001b[1;36m0\u001b[0m\u001b[1;33m,\u001b[0m \u001b[0mvmax\u001b[0m\u001b[1;33m=\u001b[0m\u001b[1;36m1\u001b[0m\u001b[1;33m,\u001b[0m \u001b[0msquare\u001b[0m\u001b[1;33m=\u001b[0m\u001b[1;32mTrue\u001b[0m\u001b[1;33m)\u001b[0m\u001b[1;33m\u001b[0m\u001b[0m\n\u001b[1;32m----> 5\u001b[1;33m \u001b[0msns\u001b[0m\u001b[1;33m.\u001b[0m\u001b[0mheatmap\u001b[0m\u001b[1;33m(\u001b[0m\u001b[0mA_est\u001b[0m\u001b[1;33m(\u001b[0m\u001b[0mXopt\u001b[0m\u001b[1;33m[\u001b[0m\u001b[1;36m0\u001b[0m\u001b[1;33m]\u001b[0m\u001b[1;33m,\u001b[0m \u001b[0mXopt\u001b[0m\u001b[1;33m[\u001b[0m\u001b[1;36m1\u001b[0m\u001b[1;33m]\u001b[0m\u001b[1;33m,\u001b[0m \u001b[0mXopt\u001b[0m\u001b[1;33m[\u001b[0m\u001b[1;36m2\u001b[0m\u001b[1;33m]\u001b[0m\u001b[1;33m)\u001b[0m\u001b[1;33m,\u001b[0m \u001b[0max\u001b[0m\u001b[1;33m=\u001b[0m\u001b[0max2\u001b[0m\u001b[1;33m,\u001b[0m \u001b[0mvmin\u001b[0m\u001b[1;33m=\u001b[0m\u001b[1;36m0\u001b[0m\u001b[1;33m,\u001b[0m \u001b[0mvmax\u001b[0m\u001b[1;33m=\u001b[0m\u001b[1;36m1\u001b[0m\u001b[1;33m,\u001b[0m \u001b[0msquare\u001b[0m\u001b[1;33m=\u001b[0m\u001b[1;32mTrue\u001b[0m\u001b[1;33m)\u001b[0m\u001b[1;33m\u001b[0m\u001b[0m\n\u001b[0m\u001b[0;32m      6\u001b[0m \u001b[0msns\u001b[0m\u001b[1;33m.\u001b[0m\u001b[0mheatmap\u001b[0m\u001b[1;33m(\u001b[0m\u001b[0mXopt\u001b[0m\u001b[1;33m[\u001b[0m\u001b[1;36m2\u001b[0m\u001b[1;33m]\u001b[0m\u001b[1;33m.\u001b[0m\u001b[0mT\u001b[0m\u001b[1;33m*\u001b[0m \u001b[0mnp\u001b[0m\u001b[1;33m.\u001b[0m\u001b[0msqrt\u001b[0m\u001b[1;33m(\u001b[0m\u001b[0mXopt\u001b[0m\u001b[1;33m[\u001b[0m\u001b[1;36m1\u001b[0m\u001b[1;33m]\u001b[0m\u001b[1;33m)\u001b[0m\u001b[1;33m,\u001b[0m \u001b[0max\u001b[0m\u001b[1;33m=\u001b[0m\u001b[0max3\u001b[0m\u001b[1;33m,\u001b[0m \u001b[0msquare\u001b[0m\u001b[1;33m=\u001b[0m\u001b[1;32mTrue\u001b[0m\u001b[1;33m)\u001b[0m\u001b[1;33m\u001b[0m\u001b[0m\n\u001b[0;32m      7\u001b[0m \u001b[0msns\u001b[0m\u001b[1;33m.\u001b[0m\u001b[0mheatmap\u001b[0m\u001b[1;33m(\u001b[0m\u001b[0mXopt\u001b[0m\u001b[1;33m[\u001b[0m\u001b[1;36m0\u001b[0m\u001b[1;33m]\u001b[0m \u001b[1;33m-\u001b[0m \u001b[0mXopt\u001b[0m\u001b[1;33m[\u001b[0m\u001b[1;36m2\u001b[0m\u001b[1;33m]\u001b[0m\u001b[1;33m.\u001b[0m\u001b[0mT\u001b[0m\u001b[1;33m,\u001b[0m \u001b[0max\u001b[0m\u001b[1;33m=\u001b[0m\u001b[0max4\u001b[0m\u001b[1;33m,\u001b[0m \u001b[0msquare\u001b[0m\u001b[1;33m=\u001b[0m\u001b[1;32mTrue\u001b[0m\u001b[1;33m)\u001b[0m\u001b[1;33m\u001b[0m\u001b[0m\n",
      "\u001b[1;31mNameError\u001b[0m: name 'Xopt' is not defined"
     ]
    },
    {
     "data": {
      "image/png": "[encoded data removed]",
      "text/plain": [
       "<matplotlib.figure.Figure at 0x1ba3150afd0>"
      ]
     },
     "metadata": {},
     "output_type": "display_data"
    }
   ],
   "source": [
    "fig, (ax1, ax2, ax3, ax4) = plt.subplots(ncols=4, sharey=False,)\n",
    "fig.set_figheight(4)\n",
    "fig.set_figwidth(18)\n",
    "sns.heatmap(A.get_value(), ax=ax1, vmin=0, vmax=1, square=True)\n",
    "sns.heatmap(A_est(Xopt[0], Xopt[1], Xopt[2]), ax=ax2, vmin=0, vmax=1, square=True)\n",
    "sns.heatmap(Xopt[2].T* np.sqrt(Xopt[1]), ax=ax3, square=True)\n",
    "sns.heatmap(Xopt[0] - Xopt[2].T, ax=ax4, square=True)"
   ]
  },
  {
   "cell_type": "code",
   "execution_count": null,
   "metadata": {
    "collapsed": false,
    "scrolled": true
   },
   "outputs": [],
   "source": [
    "# U1 = np.array([[1, 1, 0],\n",
    "#                [0, 1, 1]]).T\n",
    "# S1 = np.array([1,1])\n",
    "# V1 = U1.T\n",
    "# print(U1)\n",
    "# print()\n",
    "# print(S1)\n",
    "# print()\n",
    "# print(V1)\n",
    "# print()\n",
    "# print(loglikelihood(U1, S1, V1))\n",
    "# print()\n",
    "# print(loglikelihood_U_grad(U1, S1, V1))"
   ]
  },
  {
   "cell_type": "code",
   "execution_count": 4,
   "metadata": {
    "collapsed": false,
    "scrolled": true
   },
   "outputs": [
    {
     "name": "stdout",
     "output_type": "stream",
     "text": [
      "0 1 2 3 4 5 6 7 8 SVD did not converge\n",
      "9 SVD did not converge\n",
      "10 11 SVD did not converge\n",
      "12 SVD did not converge\n",
      "13 SVD did not converge\n",
      "14 SVD did not converge\n",
      "15 SVD did not converge\n",
      "16 SVD did not converge\n",
      "17 "
     ]
    },
    {
     "ename": "KeyboardInterrupt",
     "evalue": "",
     "output_type": "error",
     "traceback": [
      "\u001b[1;31m---------------------------------------------------------------------------\u001b[0m",
      "\u001b[1;31mKeyboardInterrupt\u001b[0m                         Traceback (most recent call last)",
      "\u001b[1;32m<ipython-input-4-292c66f71c86>\u001b[0m in \u001b[0;36m<module>\u001b[1;34m()\u001b[0m\n\u001b[0;32m     14\u001b[0m     \u001b[1;31m# let Pymanopt do the rest\u001b[0m\u001b[1;33m\u001b[0m\u001b[1;33m\u001b[0m\u001b[0m\n\u001b[0;32m     15\u001b[0m     \u001b[1;32mtry\u001b[0m\u001b[1;33m:\u001b[0m\u001b[1;33m\u001b[0m\u001b[0m\n\u001b[1;32m---> 16\u001b[1;33m         \u001b[0mres\u001b[0m \u001b[1;33m=\u001b[0m \u001b[0msolver\u001b[0m\u001b[1;33m.\u001b[0m\u001b[0msolve\u001b[0m\u001b[1;33m(\u001b[0m\u001b[0mproblem\u001b[0m\u001b[1;33m,\u001b[0m \u001b[0mx\u001b[0m \u001b[1;33m=\u001b[0m \u001b[1;33m(\u001b[0m\u001b[0mU_init\u001b[0m\u001b[1;33m,\u001b[0m \u001b[0mS_init\u001b[0m\u001b[1;33m,\u001b[0m \u001b[0mV_init\u001b[0m\u001b[1;33m)\u001b[0m\u001b[1;33m)\u001b[0m\u001b[1;33m\u001b[0m\u001b[0m\n\u001b[0m\u001b[0;32m     17\u001b[0m         \u001b[0mXopt\u001b[0m\u001b[1;33m,\u001b[0m \u001b[0miters\u001b[0m \u001b[1;33m=\u001b[0m \u001b[0mres\u001b[0m\u001b[1;33m[\u001b[0m\u001b[1;36m0\u001b[0m\u001b[1;33m]\u001b[0m\u001b[1;33m,\u001b[0m \u001b[0mres\u001b[0m\u001b[1;33m[\u001b[0m\u001b[1;36m1\u001b[0m\u001b[1;33m]\u001b[0m\u001b[1;33m[\u001b[0m\u001b[1;34m'iterations'\u001b[0m\u001b[1;33m]\u001b[0m\u001b[1;33m\u001b[0m\u001b[0m\n\u001b[0;32m     18\u001b[0m         \u001b[0mllh_iters\u001b[0m\u001b[1;33m.\u001b[0m\u001b[0mappend\u001b[0m\u001b[1;33m(\u001b[0m\u001b[0miters\u001b[0m\u001b[1;33m)\u001b[0m\u001b[1;33m\u001b[0m\u001b[0m\n",
      "\u001b[1;32mC:\\Anaconda3\\lib\\site-packages\\pymanopt\\solvers\\steepest_descent.py\u001b[0m in \u001b[0;36msolve\u001b[1;34m(self, problem, x, reuselinesearch)\u001b[0m\n\u001b[0;32m     73\u001b[0m             \u001b[1;31m# Calculate new cost, grad and gradnorm\u001b[0m\u001b[1;33m\u001b[0m\u001b[1;33m\u001b[0m\u001b[0m\n\u001b[0;32m     74\u001b[0m             \u001b[0mcost\u001b[0m \u001b[1;33m=\u001b[0m \u001b[0mobjective\u001b[0m\u001b[1;33m(\u001b[0m\u001b[0mx\u001b[0m\u001b[1;33m)\u001b[0m\u001b[1;33m\u001b[0m\u001b[0m\n\u001b[1;32m---> 75\u001b[1;33m             \u001b[0mgrad\u001b[0m \u001b[1;33m=\u001b[0m \u001b[0mgradient\u001b[0m\u001b[1;33m(\u001b[0m\u001b[0mx\u001b[0m\u001b[1;33m)\u001b[0m\u001b[1;33m\u001b[0m\u001b[0m\n\u001b[0m\u001b[0;32m     76\u001b[0m             \u001b[0mgradnorm\u001b[0m \u001b[1;33m=\u001b[0m \u001b[0mman\u001b[0m\u001b[1;33m.\u001b[0m\u001b[0mnorm\u001b[0m\u001b[1;33m(\u001b[0m\u001b[0mx\u001b[0m\u001b[1;33m,\u001b[0m \u001b[0mgrad\u001b[0m\u001b[1;33m)\u001b[0m\u001b[1;33m\u001b[0m\u001b[0m\n\u001b[0;32m     77\u001b[0m             \u001b[0miter\u001b[0m \u001b[1;33m=\u001b[0m \u001b[0miter\u001b[0m \u001b[1;33m+\u001b[0m \u001b[1;36m1\u001b[0m\u001b[1;33m\u001b[0m\u001b[0m\n",
      "\u001b[1;32mC:\\Anaconda3\\lib\\site-packages\\pymanopt\\core\\problem.py\u001b[0m in \u001b[0;36mgrad\u001b[1;34m(x)\u001b[0m\n\u001b[0;32m    122\u001b[0m \u001b[1;33m\u001b[0m\u001b[0m\n\u001b[0;32m    123\u001b[0m             \u001b[1;32mdef\u001b[0m \u001b[0mgrad\u001b[0m\u001b[1;33m(\u001b[0m\u001b[0mx\u001b[0m\u001b[1;33m)\u001b[0m\u001b[1;33m:\u001b[0m\u001b[1;33m\u001b[0m\u001b[0m\n\u001b[1;32m--> 124\u001b[1;33m                 \u001b[1;32mreturn\u001b[0m \u001b[0mself\u001b[0m\u001b[1;33m.\u001b[0m\u001b[0mmanifold\u001b[0m\u001b[1;33m.\u001b[0m\u001b[0megrad2rgrad\u001b[0m\u001b[1;33m(\u001b[0m\u001b[0mx\u001b[0m\u001b[1;33m,\u001b[0m \u001b[0megrad\u001b[0m\u001b[1;33m(\u001b[0m\u001b[0mx\u001b[0m\u001b[1;33m)\u001b[0m\u001b[1;33m)\u001b[0m\u001b[1;33m\u001b[0m\u001b[0m\n\u001b[0m\u001b[0;32m    125\u001b[0m             \u001b[0mself\u001b[0m\u001b[1;33m.\u001b[0m\u001b[0m_grad\u001b[0m \u001b[1;33m=\u001b[0m \u001b[0mgrad\u001b[0m\u001b[1;33m\u001b[0m\u001b[0m\n\u001b[0;32m    126\u001b[0m         \u001b[1;32mreturn\u001b[0m \u001b[0mself\u001b[0m\u001b[1;33m.\u001b[0m\u001b[0m_grad\u001b[0m\u001b[1;33m\u001b[0m\u001b[0m\n",
      "\u001b[1;32mC:\\Anaconda3\\lib\\site-packages\\pymanopt\\tools\\autodiff\\_theano.py\u001b[0m in \u001b[0;36m<lambda>\u001b[1;34m(x)\u001b[0m\n\u001b[0;32m     47\u001b[0m             \u001b[1;31m# Assume we are on a product manifold\u001b[0m\u001b[1;33m\u001b[0m\u001b[1;33m\u001b[0m\u001b[0m\n\u001b[0;32m     48\u001b[0m             \u001b[0mcompiled\u001b[0m \u001b[1;33m=\u001b[0m \u001b[0mtheano\u001b[0m\u001b[1;33m.\u001b[0m\u001b[0mfunction\u001b[0m\u001b[1;33m(\u001b[0m\u001b[1;33m[\u001b[0m\u001b[0marg\u001b[0m \u001b[1;32mfor\u001b[0m \u001b[0marg\u001b[0m \u001b[1;32min\u001b[0m \u001b[0margument\u001b[0m\u001b[1;33m]\u001b[0m\u001b[1;33m,\u001b[0m \u001b[0mobjective\u001b[0m\u001b[1;33m)\u001b[0m\u001b[1;33m\u001b[0m\u001b[0m\n\u001b[1;32m---> 49\u001b[1;33m             \u001b[1;32mreturn\u001b[0m \u001b[1;32mlambda\u001b[0m \u001b[0mx\u001b[0m\u001b[1;33m:\u001b[0m \u001b[0mcompiled\u001b[0m\u001b[1;33m(\u001b[0m\u001b[1;33m*\u001b[0m\u001b[0mx\u001b[0m\u001b[1;33m)\u001b[0m\u001b[1;33m\u001b[0m\u001b[0m\n\u001b[0m\u001b[0;32m     50\u001b[0m \u001b[1;33m\u001b[0m\u001b[0m\n\u001b[0;32m     51\u001b[0m     \u001b[1;33m@\u001b[0m\u001b[0massert_backend_available\u001b[0m\u001b[1;33m\u001b[0m\u001b[0m\n",
      "\u001b[1;32mC:\\Anaconda3\\lib\\site-packages\\theano\\compile\\function_module.py\u001b[0m in \u001b[0;36m__call__\u001b[1;34m(self, *args, **kwargs)\u001b[0m\n\u001b[0;32m    857\u001b[0m         \u001b[0mt0_fn\u001b[0m \u001b[1;33m=\u001b[0m \u001b[0mtime\u001b[0m\u001b[1;33m.\u001b[0m\u001b[0mtime\u001b[0m\u001b[1;33m(\u001b[0m\u001b[1;33m)\u001b[0m\u001b[1;33m\u001b[0m\u001b[0m\n\u001b[0;32m    858\u001b[0m         \u001b[1;32mtry\u001b[0m\u001b[1;33m:\u001b[0m\u001b[1;33m\u001b[0m\u001b[0m\n\u001b[1;32m--> 859\u001b[1;33m             \u001b[0moutputs\u001b[0m \u001b[1;33m=\u001b[0m \u001b[0mself\u001b[0m\u001b[1;33m.\u001b[0m\u001b[0mfn\u001b[0m\u001b[1;33m(\u001b[0m\u001b[1;33m)\u001b[0m\u001b[1;33m\u001b[0m\u001b[0m\n\u001b[0m\u001b[0;32m    860\u001b[0m         \u001b[1;32mexcept\u001b[0m \u001b[0mException\u001b[0m\u001b[1;33m:\u001b[0m\u001b[1;33m\u001b[0m\u001b[0m\n\u001b[0;32m    861\u001b[0m             \u001b[1;32mif\u001b[0m \u001b[0mhasattr\u001b[0m\u001b[1;33m(\u001b[0m\u001b[0mself\u001b[0m\u001b[1;33m.\u001b[0m\u001b[0mfn\u001b[0m\u001b[1;33m,\u001b[0m \u001b[1;34m'position_of_error'\u001b[0m\u001b[1;33m)\u001b[0m\u001b[1;33m:\u001b[0m\u001b[1;33m\u001b[0m\u001b[0m\n",
      "\u001b[1;32mC:\\Anaconda3\\lib\\site-packages\\theano\\gof\\vm.py\u001b[0m in \u001b[0;36m__call__\u001b[1;34m(self)\u001b[0m\n\u001b[0;32m    295\u001b[0m                         \u001b[0mold_s\u001b[0m\u001b[1;33m[\u001b[0m\u001b[1;36m0\u001b[0m\u001b[1;33m]\u001b[0m \u001b[1;33m=\u001b[0m \u001b[1;32mNone\u001b[0m\u001b[1;33m\u001b[0m\u001b[0m\n\u001b[0;32m    296\u001b[0m             \u001b[1;32mexcept\u001b[0m\u001b[1;33m:\u001b[0m\u001b[1;33m\u001b[0m\u001b[0m\n\u001b[1;32m--> 297\u001b[1;33m                 \u001b[0mlink\u001b[0m\u001b[1;33m.\u001b[0m\u001b[0mraise_with_op\u001b[0m\u001b[1;33m(\u001b[0m\u001b[0mnode\u001b[0m\u001b[1;33m,\u001b[0m \u001b[0mthunk\u001b[0m\u001b[1;33m)\u001b[0m\u001b[1;33m\u001b[0m\u001b[0m\n\u001b[0m\u001b[0;32m    298\u001b[0m \u001b[1;33m\u001b[0m\u001b[0m\n\u001b[0;32m    299\u001b[0m \u001b[1;33m\u001b[0m\u001b[0m\n",
      "\u001b[1;32mC:\\Anaconda3\\lib\\site-packages\\theano\\gof\\link.py\u001b[0m in \u001b[0;36mraise_with_op\u001b[1;34m(node, thunk, exc_info, storage_map)\u001b[0m\n\u001b[0;32m    113\u001b[0m     \u001b[1;32mif\u001b[0m \u001b[0mexc_type\u001b[0m \u001b[1;33m==\u001b[0m \u001b[0mKeyboardInterrupt\u001b[0m\u001b[1;33m:\u001b[0m\u001b[1;33m\u001b[0m\u001b[0m\n\u001b[0;32m    114\u001b[0m         \u001b[1;31m# print a simple traceback from KeyboardInterrupt\u001b[0m\u001b[1;33m\u001b[0m\u001b[1;33m\u001b[0m\u001b[0m\n\u001b[1;32m--> 115\u001b[1;33m         \u001b[0mreraise\u001b[0m\u001b[1;33m(\u001b[0m\u001b[0mexc_type\u001b[0m\u001b[1;33m,\u001b[0m \u001b[0mexc_value\u001b[0m\u001b[1;33m,\u001b[0m \u001b[0mexc_trace\u001b[0m\u001b[1;33m)\u001b[0m\u001b[1;33m\u001b[0m\u001b[0m\n\u001b[0m\u001b[0;32m    116\u001b[0m     \u001b[1;32mtry\u001b[0m\u001b[1;33m:\u001b[0m\u001b[1;33m\u001b[0m\u001b[0m\n\u001b[0;32m    117\u001b[0m         \u001b[0mtrace\u001b[0m \u001b[1;33m=\u001b[0m \u001b[0mnode\u001b[0m\u001b[1;33m.\u001b[0m\u001b[0moutputs\u001b[0m\u001b[1;33m[\u001b[0m\u001b[1;36m0\u001b[0m\u001b[1;33m]\u001b[0m\u001b[1;33m.\u001b[0m\u001b[0mtag\u001b[0m\u001b[1;33m.\u001b[0m\u001b[0mtrace\u001b[0m\u001b[1;33m\u001b[0m\u001b[0m\n",
      "\u001b[1;32mC:\\Anaconda3\\lib\\site-packages\\six.py\u001b[0m in \u001b[0;36mreraise\u001b[1;34m(tp, value, tb)\u001b[0m\n\u001b[0;32m    684\u001b[0m         \u001b[1;32mif\u001b[0m \u001b[0mvalue\u001b[0m\u001b[1;33m.\u001b[0m\u001b[0m__traceback__\u001b[0m \u001b[1;32mis\u001b[0m \u001b[1;32mnot\u001b[0m \u001b[0mtb\u001b[0m\u001b[1;33m:\u001b[0m\u001b[1;33m\u001b[0m\u001b[0m\n\u001b[0;32m    685\u001b[0m             \u001b[1;32mraise\u001b[0m \u001b[0mvalue\u001b[0m\u001b[1;33m.\u001b[0m\u001b[0mwith_traceback\u001b[0m\u001b[1;33m(\u001b[0m\u001b[0mtb\u001b[0m\u001b[1;33m)\u001b[0m\u001b[1;33m\u001b[0m\u001b[0m\n\u001b[1;32m--> 686\u001b[1;33m         \u001b[1;32mraise\u001b[0m \u001b[0mvalue\u001b[0m\u001b[1;33m\u001b[0m\u001b[0m\n\u001b[0m\u001b[0;32m    687\u001b[0m \u001b[1;33m\u001b[0m\u001b[0m\n\u001b[0;32m    688\u001b[0m \u001b[1;32melse\u001b[0m\u001b[1;33m:\u001b[0m\u001b[1;33m\u001b[0m\u001b[0m\n",
      "\u001b[1;32mC:\\Anaconda3\\lib\\site-packages\\theano\\gof\\vm.py\u001b[0m in \u001b[0;36m__call__\u001b[1;34m(self)\u001b[0m\n\u001b[0;32m    291\u001b[0m                 for thunk, node, old_storage in zip(self.thunks, self.nodes,\n\u001b[0;32m    292\u001b[0m                                                     self.post_thunk_clear):\n\u001b[1;32m--> 293\u001b[1;33m                     \u001b[0mthunk\u001b[0m\u001b[1;33m(\u001b[0m\u001b[1;33m)\u001b[0m\u001b[1;33m\u001b[0m\u001b[0m\n\u001b[0m\u001b[0;32m    294\u001b[0m                     \u001b[1;32mfor\u001b[0m \u001b[0mold_s\u001b[0m \u001b[1;32min\u001b[0m \u001b[0mold_storage\u001b[0m\u001b[1;33m:\u001b[0m\u001b[1;33m\u001b[0m\u001b[0m\n\u001b[0;32m    295\u001b[0m                         \u001b[0mold_s\u001b[0m\u001b[1;33m[\u001b[0m\u001b[1;36m0\u001b[0m\u001b[1;33m]\u001b[0m \u001b[1;33m=\u001b[0m \u001b[1;32mNone\u001b[0m\u001b[1;33m\u001b[0m\u001b[0m\n",
      "\u001b[1;32mC:\\Anaconda3\\lib\\site-packages\\theano\\gof\\op.py\u001b[0m in \u001b[0;36mrval\u001b[1;34m(p, i, o, n)\u001b[0m\n\u001b[0;32m    910\u001b[0m             \u001b[1;31m# default arguments are stored in the closure of `rval`\u001b[0m\u001b[1;33m\u001b[0m\u001b[1;33m\u001b[0m\u001b[0m\n\u001b[0;32m    911\u001b[0m             \u001b[1;32mdef\u001b[0m \u001b[0mrval\u001b[0m\u001b[1;33m(\u001b[0m\u001b[0mp\u001b[0m\u001b[1;33m=\u001b[0m\u001b[0mp\u001b[0m\u001b[1;33m,\u001b[0m \u001b[0mi\u001b[0m\u001b[1;33m=\u001b[0m\u001b[0mnode_input_storage\u001b[0m\u001b[1;33m,\u001b[0m \u001b[0mo\u001b[0m\u001b[1;33m=\u001b[0m\u001b[0mnode_output_storage\u001b[0m\u001b[1;33m,\u001b[0m \u001b[0mn\u001b[0m\u001b[1;33m=\u001b[0m\u001b[0mnode\u001b[0m\u001b[1;33m)\u001b[0m\u001b[1;33m:\u001b[0m\u001b[1;33m\u001b[0m\u001b[0m\n\u001b[1;32m--> 912\u001b[1;33m                 \u001b[0mr\u001b[0m \u001b[1;33m=\u001b[0m \u001b[0mp\u001b[0m\u001b[1;33m(\u001b[0m\u001b[0mn\u001b[0m\u001b[1;33m,\u001b[0m \u001b[1;33m[\u001b[0m\u001b[0mx\u001b[0m\u001b[1;33m[\u001b[0m\u001b[1;36m0\u001b[0m\u001b[1;33m]\u001b[0m \u001b[1;32mfor\u001b[0m \u001b[0mx\u001b[0m \u001b[1;32min\u001b[0m \u001b[0mi\u001b[0m\u001b[1;33m]\u001b[0m\u001b[1;33m,\u001b[0m \u001b[0mo\u001b[0m\u001b[1;33m)\u001b[0m\u001b[1;33m\u001b[0m\u001b[0m\n\u001b[0m\u001b[0;32m    913\u001b[0m                 \u001b[1;32mfor\u001b[0m \u001b[0mo\u001b[0m \u001b[1;32min\u001b[0m \u001b[0mnode\u001b[0m\u001b[1;33m.\u001b[0m\u001b[0moutputs\u001b[0m\u001b[1;33m:\u001b[0m\u001b[1;33m\u001b[0m\u001b[0m\n\u001b[0;32m    914\u001b[0m                     \u001b[0mcompute_map\u001b[0m\u001b[1;33m[\u001b[0m\u001b[0mo\u001b[0m\u001b[1;33m]\u001b[0m\u001b[1;33m[\u001b[0m\u001b[1;36m0\u001b[0m\u001b[1;33m]\u001b[0m \u001b[1;33m=\u001b[0m \u001b[1;32mTrue\u001b[0m\u001b[1;33m\u001b[0m\u001b[0m\n",
      "\u001b[1;32mC:\\Anaconda3\\lib\\site-packages\\theano\\tensor\\blas.py\u001b[0m in \u001b[0;36mperform\u001b[1;34m(self, node, inp, out)\u001b[0m\n\u001b[0;32m   1550\u001b[0m         \u001b[0mz\u001b[0m\u001b[1;33m,\u001b[0m \u001b[1;33m=\u001b[0m \u001b[0mout\u001b[0m\u001b[1;33m\u001b[0m\u001b[0m\n\u001b[0;32m   1551\u001b[0m         \u001b[1;32mtry\u001b[0m\u001b[1;33m:\u001b[0m\u001b[1;33m\u001b[0m\u001b[0m\n\u001b[1;32m-> 1552\u001b[1;33m             \u001b[0mz\u001b[0m\u001b[1;33m[\u001b[0m\u001b[1;36m0\u001b[0m\u001b[1;33m]\u001b[0m \u001b[1;33m=\u001b[0m \u001b[0mnumpy\u001b[0m\u001b[1;33m.\u001b[0m\u001b[0masarray\u001b[0m\u001b[1;33m(\u001b[0m\u001b[0mnumpy\u001b[0m\u001b[1;33m.\u001b[0m\u001b[0mdot\u001b[0m\u001b[1;33m(\u001b[0m\u001b[0mx\u001b[0m\u001b[1;33m,\u001b[0m \u001b[0my\u001b[0m\u001b[1;33m)\u001b[0m\u001b[1;33m)\u001b[0m\u001b[1;33m\u001b[0m\u001b[0m\n\u001b[0m\u001b[0;32m   1553\u001b[0m         \u001b[1;32mexcept\u001b[0m \u001b[0mValueError\u001b[0m \u001b[1;32mas\u001b[0m \u001b[0me\u001b[0m\u001b[1;33m:\u001b[0m\u001b[1;33m\u001b[0m\u001b[0m\n\u001b[0;32m   1554\u001b[0m             \u001b[1;31m# The error raised by numpy has no shape information, we mean to\u001b[0m\u001b[1;33m\u001b[0m\u001b[1;33m\u001b[0m\u001b[0m\n",
      "\u001b[1;31mKeyboardInterrupt\u001b[0m: "
     ]
    }
   ],
   "source": [
    "n=7\n",
    "M = 100\n",
    "manifold = FixedRankEmbedded(n, n, 2)\n",
    "problem = Problem(manifold=manifold, cost=-llh, arg=(U, S, V), verbosity=0)\n",
    "solver = SteepestDescent(logverbosity=2, minstepsize=1e-100)\n",
    "llh_iters = []\n",
    "for i in range(M):\n",
    "    #print(i, end=' ') \n",
    "    U_init = np.random.rand(n,2)\n",
    "    #U_init = np.array([[1,1,1,1,0,0,0],\n",
    "    #                   [0,0,0,1,1,1,1]]).T + np.random.rand(n,2) * 0.2\n",
    "    S_init = np.array([0.8,0.9])\n",
    "    V_init = U_init.T\n",
    "    # let Pymanopt do the rest\n",
    "    try:\n",
    "        res = solver.solve(problem, x = (U_init, S_init, V_init))\n",
    "        Xopt, iters = res[0], res[1]['iterations']\n",
    "        llh_iters.append(iters)\n",
    "    except Exception as e:\n",
    "        print(e)"
   ]
  },
  {
   "cell_type": "code",
   "execution_count": 7,
   "metadata": {
    "collapsed": false
   },
   "outputs": [
    {
     "data": {
      "text/plain": [
       "<matplotlib.axes._subplots.AxesSubplot at 0xa43fa90>"
      ]
     },
     "execution_count": 7,
     "metadata": {},
     "output_type": "execute_result"
    },
    {
     "data": {
      "image/png": "[encoded data removed]",
      "text/plain": [
       "<matplotlib.figure.Figure at 0x9bc5828>"
      ]
     },
     "metadata": {},
     "output_type": "display_data"
    }
   ],
   "source": [
    "fig, (ax1, ax2, ax3, ax4) = plt.subplots(ncols=4, sharey=False,)\n",
    "fig.set_figheight(4)\n",
    "fig.set_figwidth(18)\n",
    "sns.heatmap(A.get_value(), ax=ax1, vmin=0, vmax=1, square=True)\n",
    "sns.heatmap(A_est(Xopt[0], Xopt[1], Xopt[2]), ax=ax2, vmin=0, vmax=1, square=True)\n",
    "sns.heatmap(Xopt[2].T* np.sqrt(Xopt[1]), ax=ax3, square=True)\n",
    "sns.heatmap(Xopt[0] - Xopt[2].T, ax=ax4, square=True)"
   ]
  },
  {
   "cell_type": "code",
   "execution_count": null,
   "metadata": {
    "collapsed": true
   },
   "outputs": [],
   "source": [
    "print(\"======= SOLUTION =======\")\n",
    "FF_est = Xopt[0].dot(np.diag(Xopt[1])).dot(Xopt[2])\n",
    "print(FF_est)\n",
    "print()\n",
    "print(A_est(*Xopt))"
   ]
  },
  {
   "cell_type": "code",
   "execution_count": null,
   "metadata": {
    "collapsed": true
   },
   "outputs": [],
   "source": [
    "A_est(Xopt[0], Xopt[1], Xopt[2])"
   ]
  },
  {
   "cell_type": "code",
   "execution_count": null,
   "metadata": {
    "collapsed": true
   },
   "outputs": [],
   "source": [
    "Xopt"
   ]
  },
  {
   "cell_type": "code",
   "execution_count": null,
   "metadata": {
    "collapsed": true
   },
   "outputs": [],
   "source": [
    "A.get_value()"
   ]
  },
  {
   "cell_type": "code",
   "execution_count": null,
   "metadata": {
    "collapsed": true
   },
   "outputs": [],
   "source": []
  }
 ],
 "metadata": {
  "anaconda-cloud": {},
  "kernelspec": {
   "display_name": "Python 3",
   "language": "python",
   "name": "python3"
  },
  "language_info": {
   "codemirror_mode": {
    "name": "ipython",
    "version": 3
   },
   "file_extension": ".py",
   "mimetype": "text/x-python",
   "name": "python",
   "nbconvert_exporter": "python",
   "pygments_lexer": "ipython3",
   "version": "3.6.0"
  }
 },
 "nbformat": 4,
 "nbformat_minor": 0
}
