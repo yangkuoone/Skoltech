{
 "cells": [
  {
   "cell_type": "code",
   "execution_count": 29,
   "metadata": {
    "collapsed": false
   },
   "outputs": [],
   "source": [
    "import numpy as np\n",
    "from cvxpy import *\n",
    "import matplotlib.pyplot as plt\n",
    "cities = ['Atlanta','Boston', 'Calgary', 'Charleston','Chicago','Dallas', \n",
    "          'Denver', 'Duluth', 'ElPaso','Helena', 'Houston', 'KansasCity', 'LasVegas',\n",
    "          'LittleRock', 'LosAngeles', 'Miami', 'Montreal', 'Nashville',\n",
    "          'NewOrleans', 'NewYork', 'OklahomaCity', 'Omaha', 'Phoenix',\n",
    "          'Pittsburgh', 'Portland', 'Raleigh', 'SaintLouis','SaltLakeCity',\n",
    "          'SanFrancisco','SantaFe', 'SaultStMarie', 'Seattle', 'Toronto',\n",
    "          'Vancouver', 'Washington', 'Winnipeg'];\n",
    "\n",
    "blue = ['Winnipeg','Helena',4,\n",
    "    'Portland','SaltLakeCity',6,\n",
    "    'Omaha','Chicago',4,\n",
    "    'Montreal','NewYork',3,\n",
    "    'KansasCity','SaintLouis',2,\n",
    "    'SantaFe','OklahomaCity',3,\n",
    "    'Atlanta','Miami',5];\n",
    "\n",
    "blue = GetMatrix(blue,cities);\n",
    "\n",
    "white = ['Calgary','Winnipeg',6,\n",
    "    'Chicago','Toronto',4,\n",
    "    'SaintLouis','Chicago',2,\n",
    "    'Pittsburgh','NewYork',2,\n",
    "    'SanFrancisco','SaltLakeCity',5,\n",
    "    'Phoenix','Denver',5,\n",
    "    'LittleRock','Nashville',3];\n",
    "\n",
    "white = GetMatrix(white,cities);\n",
    "\n",
    "green = ['Portland','SanFrancisco',5,\n",
    "    'Helena','Denver',4,\n",
    "    'SaintLouis','Pittsburgh',5,\n",
    "    'LittleRock','NewOrleans',3,\n",
    "    'ElPaso','Houston',6];\n",
    "\n",
    "green = GetMatrix(green,cities);\n",
    "\n",
    "red = ['Helena','Omaha',5,\n",
    "    'Denver','OklahomaCity',4,\n",
    "    'ElPaso','Dallas',4,\n",
    "    'NewOrleans','Miami',6,\n",
    "    'NewYork','Boston',2,\n",
    "    'Duluth','Chicago',3];\n",
    "\n",
    "red = GetMatrix(red,cities);\n",
    "\n",
    "purple = ['Helena','SaltLakeCity',3,\n",
    "    'Denver','Omaha',4,\n",
    "    'Duluth','Toronto',6,\n",
    "    'Charleston','Miami',4,\n",
    "    'SanFrancisco','LosAngeles',3];\n",
    "purple = GetMatrix(purple,cities);\n",
    "\n",
    "orange = ['LasVegas','SaltLakeCity',3,\n",
    "    'Helena','Duluth',6,\n",
    "    'Chicago','Pittsburgh',3,\n",
    "    'Denver','KansasCity',4,\n",
    "    'NewYork','Washington',2,\n",
    "    'Atlanta','NewOrleans',4];\n",
    "\n",
    "orange = GetMatrix(orange,cities);\n",
    "\n",
    "black = ['LosAngeles','ElPaso',6,\n",
    "    'Winnipeg','Duluth',4,\n",
    "    'SaultStMarie','Montreal',5,\n",
    "    'Nashville','Raleigh',3];\n",
    "\n",
    "black = GetMatrix(black,cities);\n",
    "\n",
    "yellow = ['Seattle','Helena',6,\n",
    "    'ElPaso','OklahomaCity',5,\n",
    "    'Nashville','Pittsburgh',4];\n",
    "\n",
    "yellow = GetMatrix(yellow,cities);\n",
    "\n",
    "gray = ['Vancouver','Seattle',1,\n",
    "    'Portland','Seattle',1,\n",
    "    'Vancouver','Calgary',3,\n",
    "    'Seattle','Calgary',4,\n",
    "    'Calgary','Helena',4,\n",
    "    'Winnipeg','SaultStMarie',6,\n",
    "    'Duluth','SaultStMarie',3,\n",
    "    'SaultStMarie','Toronto',2,\n",
    "    'Toronto','Montreal',3,\n",
    "    'Montreal','Boston',2,\n",
    "    'Toronto','Pittsburgh',2,\n",
    "    'LasVegas','LosAngeles',2,\n",
    "    'LosAngeles','Phoenix',3,\n",
    "    'Phoenix','ElPaso',3,\n",
    "    'ElPaso','SantaFe',2,\n",
    "    'Phoenix','SantaFe',3,\n",
    "    'SantaFe','Denver',2,\n",
    "    'Duluth','Omaha',2,\n",
    "    'Omaha','KansasCity',1,\n",
    "    'KansasCity','OklahomaCity',2,\n",
    "    'OklahomaCity','Dallas',2,\n",
    "    'Dallas','Houston',1,\n",
    "    'Houston','NewOrleans',2,\n",
    "    'Dallas','LittleRock',2,\n",
    "    'OklahomaCity','LittleRock',2,\n",
    "    'LittleRock','SaintLouis',2,\n",
    "    'SaintLouis','Nashville',2,\n",
    "    'Nashville','Atlanta',1,\n",
    "    'Atlanta','Charleston',2,\n",
    "    'Charleston','Raleigh',2,\n",
    "    'Atlanta','Raleigh',2,\n",
    "    'Raleigh','Washington',2,\n",
    "    'Raleigh','Pittsburgh',2,\n",
    "    'Washington','Pittsburgh',2];\n",
    "\n",
    "gray = GetMatrix(gray,cities);\n",
    "\n",
    "profit = blue*1.0+white*1.5+green*2.0+red*2.0+purple*2.5+orange*1.0+black*1.0+yellow*2.0+gray*1.0;\n",
    "\n",
    "#TODO: symmetrize the matrix if necessary by uncommenting the next line\n",
    "profit_sym = np.dstack([profit, profit.transpose()]).max(axis=2)\n",
    "\n",
    "costs = np.ones((len(cities),1))*10;\n",
    "\n",
    "#TODO put your solution here"
   ]
  },
  {
   "cell_type": "code",
   "execution_count": 30,
   "metadata": {
    "collapsed": false
   },
   "outputs": [],
   "source": [
    "def GetMatrix(links,cities):\n",
    "\n",
    "    A = np.zeros((len(cities), len(cities)));\n",
    "    for i in xrange(0, len(links), 3):\n",
    "        A[cities.index(links[i]), cities.index(links[i + 1])] =  links[i+2]\n",
    "           \n",
    "    return A        "
   ]
  },
  {
   "cell_type": "code",
   "execution_count": 46,
   "metadata": {
    "collapsed": false
   },
   "outputs": [
    {
     "data": {
      "image/png": "[encoded data removed]",
      "text/plain": [
       "<matplotlib.figure.Figure at 0x9b97400>"
      ]
     },
     "metadata": {},
     "output_type": "display_data"
    }
   ],
   "source": [
    "plt.spy(profit)\n",
    "plt.show()"
   ]
  },
  {
   "cell_type": "code",
   "execution_count": 48,
   "metadata": {
    "collapsed": false
   },
   "outputs": [
    {
     "data": {
      "image/png": "[encoded data removed]",
      "text/plain": [
       "<matplotlib.figure.Figure at 0x8e3d518>"
      ]
     },
     "metadata": {},
     "output_type": "display_data"
    }
   ],
   "source": [
    "plt.spy(profit_sym)\n",
    "plt.show()"
   ]
  },
  {
   "cell_type": "code",
   "execution_count": 43,
   "metadata": {
    "collapsed": false
   },
   "outputs": [
    {
     "name": "stdout",
     "output_type": "stream",
     "text": [
      "22.0\n"
     ]
    }
   ],
   "source": [
    "x = t\n",
    "obj = Maximize((trace(profit_sym.T * F) - sum_entries(F * costs)))\n",
    "constraints = [F == F.T]\n",
    "prob = Problem(obj, constraints)\n",
    "prob.solve()\n",
    "print prob.value\n",
    "Fval = np.round(F.value, 5)"
   ]
  },
  {
   "cell_type": "code",
   "execution_count": 41,
   "metadata": {
    "collapsed": false
   },
   "outputs": [],
   "source": [
    "is_open = np.zeros(36)\n",
    "for i in range(36):\n",
    "    for j in range(36):\n",
    "        if Fval[i][j] != 0:\n",
    "            is_open[i] = 1\n",
    "            is_open[j] = 1"
   ]
  },
  {
   "cell_type": "code",
   "execution_count": 42,
   "metadata": {
    "collapsed": false
   },
   "outputs": [
    {
     "name": "stdout",
     "output_type": "stream",
     "text": [
      "[ 0.  0.  0.  1.  0.  0.  0.  1.  1.  1.  1.  0.  0.  0.  0.  1.  0.  0.\n",
      "  1.  0.  0.  0.  0.  0.  0.  0.  0.  0.  0.  0.  0.  1.  1.  0.  0.  0.]\n"
     ]
    }
   ],
   "source": [
    "print is_open"
   ]
  },
  {
   "cell_type": "code",
   "execution_count": null,
   "metadata": {
    "collapsed": true
   },
   "outputs": [],
   "source": [
    "arshak = np.array([ 1,  0,  1.,  1.,  1.,  1. , 1. , 1. , 1. , 1.,  1.  ,0. , 0. , 1. , 1.,  1.,  0. , 1.,\n",
    "   1. , 0.,  1. , 1.,  1.,  1.,  1.,  0.,  1.,  1.,  1.,  0.,  1.,  1.,  1.,  0.,  0.,  1.])\n",
    "\n"
   ]
  }
 ],
 "metadata": {
  "anaconda-cloud": {},
  "kernelspec": {
   "display_name": "Python [default]",
   "language": "python",
   "name": "python2"
  },
  "language_info": {
   "codemirror_mode": {
    "name": "ipython",
    "version": 2
   },
   "file_extension": ".py",
   "mimetype": "text/x-python",
   "name": "python",
   "nbconvert_exporter": "python",
   "pygments_lexer": "ipython2",
   "version": "2.7.12"
  }
 },
 "nbformat": 4,
 "nbformat_minor": 0
}
