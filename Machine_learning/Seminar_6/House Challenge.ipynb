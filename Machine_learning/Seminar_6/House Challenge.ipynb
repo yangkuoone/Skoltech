{
 "cells": [
  {
   "cell_type": "markdown",
   "metadata": {
    "deletable": true,
    "editable": true
   },
   "source": [
    "# Ensemble Methods: Challenge Session"
   ]
  },
  {
   "cell_type": "code",
   "execution_count": null,
   "metadata": {
    "collapsed": true,
    "deletable": true,
    "editable": true
   },
   "outputs": [],
   "source": [
    "import numpy  as np\n",
    "import pandas as pd\n",
    "\n",
    "%matplotlib inline\n",
    "import matplotlib.pyplot as plt"
   ]
  },
  {
   "cell_type": "markdown",
   "metadata": {
    "deletable": true,
    "editable": true
   },
   "source": [
    "## House Prices: Advanced Regression Techniques\n",
    "\n",
    "Source:\n",
    "https://www.kaggle.com/c/house-prices-advanced-regression-techniques\n",
    "\n",
    "> With 79 explanatory variables describing (almost) every aspect of\n",
    "> residential homes in Ames, Iowa, this competition challenges you to\n",
    "> predict the final price of each home.\n",
    "> The potential for creative feature engineering provides a rich \n",
    "> opportunity for fun and learning. This dataset lends itself to\n",
    "> advanced regression techniques like random forests and gradient\n",
    "> boosting."
   ]
  },
  {
   "cell_type": "markdown",
   "metadata": {
    "deletable": true,
    "editable": true
   },
   "source": [
    "This prediction challenge uses RMSE of predictions versus targets as the quality metric:\n",
    "$$ \\mathtt{RMSE}\n",
    "    = \\sqrt{ \\frac1T \\sum_{t=1}^T (y_t - \\hat{y}_t)^2}\n",
    "    \\,. $$"
   ]
  },
  {
   "cell_type": "code",
   "execution_count": null,
   "metadata": {
    "collapsed": false,
    "deletable": true,
    "editable": true
   },
   "outputs": [],
   "source": [
    "from sklearn.metrics import explained_variance_score, mean_squared_error"
   ]
  },
  {
   "cell_type": "markdown",
   "metadata": {
    "deletable": true,
    "editable": true
   },
   "source": [
    "## Load an preprocess the data"
   ]
  },
  {
   "cell_type": "markdown",
   "metadata": {
    "deletable": true,
    "editable": true
   },
   "source": [
    "Load the ``csv`` data"
   ]
  },
  {
   "cell_type": "code",
   "execution_count": null,
   "metadata": {
    "collapsed": true,
    "deletable": true,
    "editable": true
   },
   "outputs": [],
   "source": [
    "train = pd.read_csv(\"housing/train.csv\")\n",
    "test = pd.read_csv(\"housing/test.csv\")"
   ]
  },
  {
   "cell_type": "markdown",
   "metadata": {
    "deletable": true,
    "editable": true
   },
   "source": [
    "Inspect"
   ]
  },
  {
   "cell_type": "code",
   "execution_count": null,
   "metadata": {
    "collapsed": false,
    "deletable": true,
    "editable": true
   },
   "outputs": [],
   "source": [
    "train.head()"
   ]
  },
  {
   "cell_type": "markdown",
   "metadata": {
    "deletable": true,
    "editable": true
   },
   "source": [
    "#### Data Fields\n",
    "Target varaibls:\n",
    "* **SalePrice** the property's sale price in dollars.\n",
    "\n",
    "Explanatory variables:\n",
    "* **MSSubClass** -- The building class\n",
    "* **MSZoning** -- The general zoning classification\n",
    "* **LotFrontage** -- Linear feet of street connected to property\n",
    "* **LotArea** -- Lot size in square feet\n",
    "* **Street** -- Type of road access\n",
    "* **Alley** -- Type of alley access\n",
    "* **LotShape** -- General shape of property\n",
    "* **LandContour** -- Flatness of the property\n",
    "* **Utilities** -- Type of utilities available\n",
    "* **LotConfig** -- Lot configuration\n",
    "* **LandSlope** -- Slope of property\n",
    "* **Neighborhood** -- Physical locations within Ames city limits\n",
    "* **Condition1** -- Proximity to main road or railroad\n",
    "* **Condition2** -- Proximity to main road or railroad (if a second is present)\n",
    "* **BldgType** -- Type of dwelling\n",
    "* **HouseStyle** -- Style of dwelling\n",
    "* **OverallQual** -- Overall material and finish quality\n",
    "* **OverallCond** -- Overall condition rating\n",
    "* **YearBuilt** -- Original construction date\n",
    "* **YearRemodAdd** -- Remodel date\n",
    "* **RoofStyle** -- Type of roof\n",
    "* **RoofMatl** -- Roof material\n",
    "* **Exterior1st** -- Exterior covering on house\n",
    "* **Exterior2nd** -- Exterior covering on house (if more than one material)\n",
    "* **MasVnrType** -- Masonry veneer type\n",
    "* **MasVnrArea** -- Masonry veneer area in square feet\n",
    "* **ExterQual** -- Exterior material quality\n",
    "* **ExterCond** -- Present condition of the material on the exterior\n",
    "* **Foundation** -- Type of foundation\n",
    "* **BsmtQual** -- Height of the basement\n",
    "* **BsmtCond** -- General condition of the basement\n",
    "* **BsmtExposure** -- Walkout or garden level basement walls\n",
    "* **BsmtFinType1** -- Quality of basement finished area\n",
    "* **BsmtFinSF1** -- Type 1 finished square feet\n",
    "* **BsmtFinType2** -- Quality of second finished area (if present)\n",
    "* **BsmtFinSF2** -- Type 2 finished square feet\n",
    "* **BsmtUnfSF** -- Unfinished square feet of basement area\n",
    "* **TotalBsmtSF** -- Total square feet of basement area\n",
    "* **Heating** -- Type of heating\n",
    "* **HeatingQC** -- Heating quality and condition\n",
    "* **CentralAir** -- Central air conditioning\n",
    "* **Electrical** -- Electrical system\n",
    "* **1stFlrSF** -- First Floor square feet\n",
    "* **2ndFlrSF** -- Second floor square feet\n",
    "* **LowQualFinSF** -- Low quality finished square feet (all floors)\n",
    "* **GrLivArea** -- Above grade (ground) living area square feet\n",
    "* **BsmtFullBath** -- Basement full bathrooms\n",
    "* **BsmtHalfBath** -- Basement half bathrooms\n",
    "* **FullBath** -- Full bathrooms above grade\n",
    "* **HalfBath** -- Half baths above grade\n",
    "* **Bedroom** -- Number of bedrooms above basement level\n",
    "* **Kitchen** -- Number of kitchens\n",
    "* **KitchenQual** -- Kitchen quality\n",
    "* **TotRmsAbvGrd** -- Total rooms above grade (does not include bathrooms)\n",
    "* **Functional** -- Home functionality rating\n",
    "* **Fireplaces** -- Number of fireplaces\n",
    "* **FireplaceQu** -- Fireplace quality\n",
    "* **GarageType** -- Garage location\n",
    "* **GarageYrBlt** -- Year garage was built\n",
    "* **GarageFinish** -- Interior finish of the garage\n",
    "* **GarageCars** -- Size of garage in car capacity\n",
    "* **GarageArea** -- Size of garage in square feet\n",
    "* **GarageQual** -- Garage quality\n",
    "* **GarageCond** -- Garage condition\n",
    "* **PavedDrive** -- Paved driveway\n",
    "* **WoodDeckSF** -- Wood deck area in square feet\n",
    "* **OpenPorchSF** -- Open porch area in square feet\n",
    "* **EnclosedPorch** -- Enclosed porch area in square feet\n",
    "* **3SsnPorch** -- Three season porch area in square feet\n",
    "* **ScreenPorch** -- Screen porch area in square feet\n",
    "* **PoolArea** -- Pool area in square feet\n",
    "* **PoolQC** -- Pool quality\n",
    "* **Fence** -- Fence quality\n",
    "* **MiscFeature** -- Miscellaneous feature not covered in other categories\n",
    "* **MiscVal** -- $Value of miscellaneous feature\n",
    "* **MoSold** -- Month Sold\n",
    "* **YrSold** -- Year Sold\n",
    "* **SaleType** -- Type of sale\n",
    "* **SaleCondition** -- Condition of sale"
   ]
  },
  {
   "cell_type": "markdown",
   "metadata": {
    "deletable": true,
    "editable": true
   },
   "source": [
    "Pool the train and test datasets"
   ]
  },
  {
   "cell_type": "code",
   "execution_count": null,
   "metadata": {
    "collapsed": true,
    "deletable": true,
    "editable": true
   },
   "outputs": [],
   "source": [
    "all_data = pd.concat((train.loc[:,'MSSubClass':'SaleCondition'],\n",
    "                      test.loc[:,'MSSubClass':'SaleCondition']))"
   ]
  },
  {
   "cell_type": "markdown",
   "metadata": {
    "deletable": true,
    "editable": true
   },
   "source": [
    "Get the colnames of all the numeric features"
   ]
  },
  {
   "cell_type": "code",
   "execution_count": null,
   "metadata": {
    "collapsed": true,
    "deletable": true,
    "editable": true
   },
   "outputs": [],
   "source": [
    "numeric_ = all_data.dtypes[all_data.dtypes != \"object\"].index"
   ]
  },
  {
   "cell_type": "markdown",
   "metadata": {
    "deletable": true,
    "editable": true
   },
   "source": [
    "And log-transform skewed numeric features:"
   ]
  },
  {
   "cell_type": "code",
   "execution_count": null,
   "metadata": {
    "collapsed": false,
    "deletable": true,
    "editable": true
   },
   "outputs": [],
   "source": [
    "from scipy.stats import skew\n",
    "skewed_ = train[numeric_].apply(lambda x: skew(x.dropna()))\n",
    "skewed_ = skewed_[skewed_ > 0.75].index\n",
    "\n",
    "all_data[skewed_] = np.log1p(all_data[skewed_])"
   ]
  },
  {
   "cell_type": "markdown",
   "metadata": {
    "deletable": true,
    "editable": true
   },
   "source": [
    "Do the one-hot encoding of the (string) data"
   ]
  },
  {
   "cell_type": "code",
   "execution_count": null,
   "metadata": {
    "collapsed": true,
    "deletable": true,
    "editable": true
   },
   "outputs": [],
   "source": [
    "all_data = pd.get_dummies(all_data)"
   ]
  },
  {
   "cell_type": "markdown",
   "metadata": {
    "deletable": true,
    "editable": true
   },
   "source": [
    "Fill the missing values in each column with its average on the train"
   ]
  },
  {
   "cell_type": "code",
   "execution_count": null,
   "metadata": {
    "collapsed": true,
    "deletable": true,
    "editable": true
   },
   "outputs": [],
   "source": [
    "all_data = all_data.fillna(train.mean())"
   ]
  },
  {
   "cell_type": "markdown",
   "metadata": {
    "deletable": true,
    "editable": true
   },
   "source": [
    "Do a log transform the target (``SalePrice``)"
   ]
  },
  {
   "cell_type": "code",
   "execution_count": null,
   "metadata": {
    "collapsed": true,
    "deletable": true,
    "editable": true
   },
   "outputs": [],
   "source": [
    "train[\"SalePrice\"] = np.log1p(train[\"SalePrice\"])"
   ]
  },
  {
   "cell_type": "markdown",
   "metadata": {
    "deletable": true,
    "editable": true
   },
   "source": [
    "Now do the split!"
   ]
  },
  {
   "cell_type": "code",
   "execution_count": null,
   "metadata": {
    "collapsed": true,
    "deletable": true,
    "editable": true
   },
   "outputs": [],
   "source": [
    "df_X_train = all_data[:train.shape[0]]\n",
    "df_X_test = all_data[train.shape[0]:]\n",
    "df_y_train = train.SalePrice"
   ]
  },
  {
   "cell_type": "markdown",
   "metadata": {
    "deletable": true,
    "editable": true
   },
   "source": [
    "Inspect the data"
   ]
  },
  {
   "cell_type": "code",
   "execution_count": null,
   "metadata": {
    "collapsed": false,
    "deletable": true,
    "editable": true
   },
   "outputs": [],
   "source": [
    "df_X_train.head()"
   ]
  },
  {
   "cell_type": "markdown",
   "metadata": {
    "deletable": true,
    "editable": true
   },
   "source": [
    "Now do a 75-25 train/validation split"
   ]
  },
  {
   "cell_type": "code",
   "execution_count": null,
   "metadata": {
    "collapsed": false,
    "deletable": true,
    "editable": true
   },
   "outputs": [],
   "source": [
    "from sklearn.model_selection import train_test_split\n",
    "\n",
    "X, y = df_X_train.values.copy(), df_y_train.values.copy()\n",
    "X_test = df_X_test.values.copy()\n",
    "\n",
    "X_train, X_valid, y_train, y_valid = train_test_split(X, y, test_size=0.25)"
   ]
  },
  {
   "cell_type": "markdown",
   "metadata": {
    "deletable": true,
    "editable": true
   },
   "source": [
    "# Train, validate & apply regression"
   ]
  },
  {
   "cell_type": "markdown",
   "metadata": {
    "deletable": true,
    "editable": true
   },
   "source": [
    "Train/validate your ensemble model here"
   ]
  },
  {
   "cell_type": "markdown",
   "metadata": {
    "deletable": true,
    "editable": true
   },
   "source": [
    "Samples:\n",
    "* ``(X_train, y_train)`` -- train\n",
    "* ``(X_valid, y_valid)`` -- validation"
   ]
  },
  {
   "cell_type": "code",
   "execution_count": null,
   "metadata": {
    "collapsed": true,
    "deletable": true,
    "editable": true
   },
   "outputs": [],
   "source": [
    "###############################\n",
    "##### PUT YOUR MODEL HERE #####\n",
    "###############################"
   ]
  },
  {
   "cell_type": "markdown",
   "metadata": {
    "deletable": true,
    "editable": true
   },
   "source": [
    "## Make a submission"
   ]
  },
  {
   "cell_type": "markdown",
   "metadata": {
    "deletable": true,
    "editable": true
   },
   "source": [
    "Samples:\n",
    "* ``(X, y)`` -- full train dataset\n",
    "* ``X_test`` -- the test dataset (no target $y$)"
   ]
  },
  {
   "cell_type": "code",
   "execution_count": null,
   "metadata": {
    "collapsed": false,
    "deletable": true,
    "editable": true
   },
   "outputs": [],
   "source": [
    "###############################\n",
    "##### PUT YOUR MODEL HERE #####\n",
    "###############################\n",
    "\n",
    "y_pred = np.zeros(X_test.shape[0], dtype=np.int)"
   ]
  },
  {
   "cell_type": "markdown",
   "metadata": {
    "deletable": true,
    "editable": true
   },
   "source": [
    "Write the submission to ``\"my_submission.csv\"``\n",
    "* ``y_pred`` -- predictions on the test ``X_test``"
   ]
  },
  {
   "cell_type": "code",
   "execution_count": null,
   "metadata": {
    "collapsed": false,
    "deletable": true,
    "editable": true
   },
   "outputs": [],
   "source": [
    "pd.DataFrame(dict(Id=test.Id,\n",
    "                  SalePrice=y_pred.astype(float)),\n",
    "             columns=[\"Id\", \"SalePrice\"])\\\n",
    "  .to_csv(\"my_submission.csv\", index=False)"
   ]
  }
 ],
 "metadata": {
  "kernelspec": {
   "display_name": "Python 3",
   "language": "python",
   "name": "python3"
  },
  "language_info": {
   "codemirror_mode": {
    "name": "ipython",
    "version": 3
   },
   "file_extension": ".py",
   "mimetype": "text/x-python",
   "name": "python",
   "nbconvert_exporter": "python",
   "pygments_lexer": "ipython3",
   "version": "3.6.0"
  }
 },
 "nbformat": 4,
 "nbformat_minor": 0
}
