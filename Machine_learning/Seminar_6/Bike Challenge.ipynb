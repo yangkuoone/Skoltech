{
 "cells": [
  {
   "cell_type": "markdown",
   "metadata": {
    "deletable": true,
    "editable": true
   },
   "source": [
    "# Ensemble Methods: Challenge Session"
   ]
  },
  {
   "cell_type": "code",
   "execution_count": null,
   "metadata": {
    "collapsed": true,
    "deletable": true,
    "editable": true
   },
   "outputs": [],
   "source": [
    "import numpy  as np\n",
    "import pandas as pd\n",
    "\n",
    "%matplotlib inline\n",
    "import matplotlib.pyplot as plt"
   ]
  },
  {
   "cell_type": "markdown",
   "metadata": {
    "deletable": true,
    "editable": true
   },
   "source": [
    "## Bike Sharing Demand\n",
    "\n",
    "Source:\n",
    "https://www.kaggle.com/c/bike-sharing-demand\n",
    "\n",
    "> You are provided hourly rental data spanning two years. \n",
    "> ... the training set is comprised of the first 19 days of each month,\n",
    "> while the test set is the 20th to the end of the month. You must predict\n",
    "> the total count of bikes rented during each hour covered by the test set,\n",
    "> using only information available prior to the rental period."
   ]
  },
  {
   "cell_type": "markdown",
   "metadata": {
    "deletable": true,
    "editable": true
   },
   "source": [
    "This prediction challenge uses RMSE of log-targets as teh quality metric:\n",
    "$$ \\mathtt{RMSLE}\n",
    "    = \\sqrt{ \\frac1T \\sum_{t=1}^T (\\log (y_t+1) - \\log (\\hat{y}_t+1))^2}\n",
    "    \\,. $$"
   ]
  },
  {
   "cell_type": "code",
   "execution_count": null,
   "metadata": {
    "collapsed": true,
    "deletable": true,
    "editable": true
   },
   "outputs": [],
   "source": [
    "def rmsle(y_true, y_pred):\n",
    "    delta_ = np.nan_to_num(np.log(y_pred + 1))\n",
    "    delta_ -= np.log(y_true + 1)\n",
    "    return np.sqrt(np.nanmean(delta_ ** 2))"
   ]
  },
  {
   "cell_type": "markdown",
   "metadata": {
    "deletable": true,
    "editable": true
   },
   "source": [
    "### Load the data"
   ]
  },
  {
   "cell_type": "code",
   "execution_count": null,
   "metadata": {
    "collapsed": false,
    "deletable": true,
    "editable": true,
    "scrolled": false
   },
   "outputs": [],
   "source": [
    "def load_data(filelike):\n",
    "    df = pd.read_csv(filelike, header=0)\n",
    "    df.datetime = pd.to_datetime(df.datetime)\n",
    "    df.reset_index(inplace=True, drop=True)\n",
    "    return df\n",
    "\n",
    "data, test = load_data('bike/train.csv'), load_data('bike/test.csv')"
   ]
  },
  {
   "cell_type": "markdown",
   "metadata": {
    "deletable": true,
    "editable": true
   },
   "source": [
    "Inspect the data"
   ]
  },
  {
   "cell_type": "code",
   "execution_count": null,
   "metadata": {
    "collapsed": false,
    "deletable": true,
    "editable": true
   },
   "outputs": [],
   "source": [
    "data.head()"
   ]
  },
  {
   "cell_type": "code",
   "execution_count": null,
   "metadata": {
    "collapsed": false,
    "deletable": true,
    "editable": true
   },
   "outputs": [],
   "source": [
    "test.head()"
   ]
  },
  {
   "cell_type": "markdown",
   "metadata": {
    "deletable": true,
    "editable": true
   },
   "source": [
    "Print the shapes"
   ]
  },
  {
   "cell_type": "code",
   "execution_count": null,
   "metadata": {
    "collapsed": false,
    "deletable": true,
    "editable": true,
    "scrolled": true
   },
   "outputs": [],
   "source": [
    "print(\"Train %dx%d\"%data.shape, \"Test %dx%d\"%test.shape)"
   ]
  },
  {
   "cell_type": "markdown",
   "metadata": {
    "deletable": true,
    "editable": true
   },
   "source": [
    "#### Data Fields\n",
    "\n",
    "* **datetime** -- hourly date + timestamp  \n",
    "* **season** --  1 = spring, 2 = summer, 3 = fall, 4 = winter \n",
    "* **holiday** -- whether the day is considered a holiday\n",
    "* **workingday** -- whether the day is neither a weekend nor holiday\n",
    "* **temp** -- temperature in Celsius\n",
    "* **atemp** -- \"feels like\" temperature in Celsius\n",
    "* **humidity** -- relative humidity\n",
    "* **windspeed** -- wind speed\n",
    "* **casual** -- number of non-registered user rentals initiated\n",
    "* **registered** -- number of registered user rentals initiated\n",
    "* **count** -- number of total rentals\n",
    "\n",
    "\n",
    "* **weather**:\n",
    "    1. Clear, Few clouds, Partly cloudy, Partly cloudy \n",
    "    2. Mist + Cloudy, Mist + Broken clouds, Mist + Few clouds, Mist \n",
    "    3. Light Snow, Light Rain + Thunderstorm + Scattered clouds, Light Rain + Scattered clouds \n",
    "    4. Heavy Rain + Ice Pallets + Thunderstorm + Mist, Snow + Fog"
   ]
  },
  {
   "cell_type": "markdown",
   "metadata": {
    "deletable": true,
    "editable": true
   },
   "source": [
    "Create full samples and remove from `X` the columns absent in `test`"
   ]
  },
  {
   "cell_type": "code",
   "execution_count": null,
   "metadata": {
    "collapsed": false,
    "deletable": true,
    "editable": true
   },
   "outputs": [],
   "source": [
    "X_full = data.drop(\"count\", axis=1, errors=\"ignore\").copy()\n",
    "y_full = data[\"count\"].copy()\n",
    "\n",
    "X_test = test.copy()\n",
    "X_full = X_full[X_test.columns]"
   ]
  },
  {
   "cell_type": "markdown",
   "metadata": {
    "deletable": true,
    "editable": true
   },
   "source": [
    "Create the train/validation split.\n",
    "Train on the data up to (and including) the **10**-th of each month."
   ]
  },
  {
   "cell_type": "code",
   "execution_count": null,
   "metadata": {
    "collapsed": true,
    "deletable": true,
    "editable": true
   },
   "outputs": [],
   "source": [
    "train_mask = X_full.datetime.dt.day <= 10\n",
    "X_train, y_train = X_full[train_mask], y_full[train_mask]\n",
    "X_valid, y_valid = X_full[~train_mask], y_full[~train_mask]"
   ]
  },
  {
   "cell_type": "markdown",
   "metadata": {
    "deletable": true,
    "editable": true
   },
   "source": [
    "# Extract features for train/validation/test samples"
   ]
  },
  {
   "cell_type": "markdown",
   "metadata": {
    "deletable": true,
    "editable": true
   },
   "source": [
    "A compact one-hot encoder for dataframes"
   ]
  },
  {
   "cell_type": "code",
   "execution_count": null,
   "metadata": {
    "collapsed": false,
    "deletable": true,
    "editable": true
   },
   "outputs": [],
   "source": [
    "from sklearn.preprocessing import OneHotEncoder\n",
    "\n",
    "def one_hot(series, n_values, name):\n",
    "    one_hot_ = OneHotEncoder(n_values, sparse=False)\n",
    "    series_ = one_hot_.fit_transform(series.values[:, np.newaxis])\n",
    "    return pd.DataFrame(series_.astype(int), index=series.index,\n",
    "                        columns=[\"%s_%02d\"%(name, v,)\n",
    "                                 for v in range(n_values)])"
   ]
  },
  {
   "cell_type": "markdown",
   "metadata": {
    "deletable": true,
    "editable": true
   },
   "source": [
    "Extract datetime-related features"
   ]
  },
  {
   "cell_type": "code",
   "execution_count": null,
   "metadata": {
    "collapsed": false,
    "deletable": true,
    "editable": true
   },
   "outputs": [],
   "source": [
    "def extract_features(df, encode=False):\n",
    "    df_ = df.copy()\n",
    "    df_[\"year\"] = df_.datetime.dt.year - 2010\n",
    "    if not encode:\n",
    "        df_[\"month\"] = df_.datetime.dt.month\n",
    "        df_[\"weekday\"] = df_.datetime.dt.weekday\n",
    "        df_[\"hour\"] = df_.datetime.dt.hour\n",
    "    else:\n",
    "        df_ = pd.concat(\n",
    "            [df_,\n",
    "             one_hot(df_.datetime.dt.hour, 24, \"hour\"),\n",
    "             one_hot(df_.datetime.dt.month - 1, 12, \"month\"),\n",
    "             one_hot(df_[\"season\"] - 1, 4, \"season\"),\n",
    "             one_hot(df_.datetime.dt.weekday, 7, \"weekday\"),\n",
    "            ], axis=1)\n",
    "        df_.drop(\"season\", axis=1, inplace=True)\n",
    "    df_.drop(\"datetime\", axis=1, inplace=True)\n",
    "    return df_.values"
   ]
  },
  {
   "cell_type": "markdown",
   "metadata": {
    "deletable": true,
    "editable": true
   },
   "source": [
    "Get the train, validation and test datasets. "
   ]
  },
  {
   "cell_type": "code",
   "execution_count": null,
   "metadata": {
    "collapsed": false,
    "deletable": true,
    "editable": true
   },
   "outputs": [],
   "source": [
    "def get_X_y(df_X, df_y=None):\n",
    "    if df_y is None:\n",
    "        return extract_features(df_X, encode=True)\n",
    "    return extract_features(df_X, encode=True), df_y.values\n",
    "\n",
    "X_train, y_train = get_X_y(X_train, y_train)\n",
    "X_valid, y_valid = get_X_y(X_valid, y_valid)\n",
    "\n",
    "X_full, y_full = get_X_y(X_full, y_full)\n",
    "X_test = get_X_y(X_test)"
   ]
  },
  {
   "cell_type": "markdown",
   "metadata": {
    "deletable": true,
    "editable": true
   },
   "source": [
    "Check the dimensions"
   ]
  },
  {
   "cell_type": "code",
   "execution_count": null,
   "metadata": {
    "collapsed": false,
    "deletable": true,
    "editable": true
   },
   "outputs": [],
   "source": [
    "print(X_train.shape, X_valid.shape, X_test.shape)"
   ]
  },
  {
   "cell_type": "markdown",
   "metadata": {
    "deletable": true,
    "editable": true
   },
   "source": [
    "# Train, validate & apply regression"
   ]
  },
  {
   "cell_type": "markdown",
   "metadata": {
    "deletable": true,
    "editable": true
   },
   "source": [
    "Train/validate your ensemble model here"
   ]
  },
  {
   "cell_type": "markdown",
   "metadata": {
    "deletable": true,
    "editable": true
   },
   "source": [
    "Samples:\n",
    "* ``(X_train, y_train)`` -- train\n",
    "* ``(X_valid, y_valid)`` -- validation"
   ]
  },
  {
   "cell_type": "code",
   "execution_count": null,
   "metadata": {
    "collapsed": true,
    "deletable": true,
    "editable": true
   },
   "outputs": [],
   "source": [
    "###############################\n",
    "##### PUT YOUR MODEL HERE #####\n",
    "###############################"
   ]
  },
  {
   "cell_type": "markdown",
   "metadata": {
    "deletable": true,
    "editable": true
   },
   "source": [
    "## Make a submission"
   ]
  },
  {
   "cell_type": "markdown",
   "metadata": {
    "deletable": true,
    "editable": true
   },
   "source": [
    "Samples:\n",
    "* ``(X, y)`` -- full train dataset\n",
    "* ``X_test`` -- the test dataset (no target $y$)"
   ]
  },
  {
   "cell_type": "code",
   "execution_count": null,
   "metadata": {
    "collapsed": false,
    "deletable": true,
    "editable": true
   },
   "outputs": [],
   "source": [
    "###############################\n",
    "##### PUT YOUR MODEL HERE #####\n",
    "###############################\n",
    "\n",
    "y_pred = np.zeros(X_test.shape[0], dtype=np.int)"
   ]
  },
  {
   "cell_type": "markdown",
   "metadata": {
    "deletable": true,
    "editable": true
   },
   "source": [
    "Write the submission to ``\"my_submission.csv\"``\n",
    "* ``y_pred`` -- predictions on the test ``X_test``"
   ]
  },
  {
   "cell_type": "code",
   "execution_count": null,
   "metadata": {
    "collapsed": false,
    "deletable": true,
    "editable": true
   },
   "outputs": [],
   "source": [
    "pd.DataFrame(dict(datetime=test.datetime,\n",
    "                  count=y_pred.astype(int)),\n",
    "             columns=[\"datetime\", \"count\"])\\\n",
    "  .to_csv(\"my_submission.csv\", index=False)"
   ]
  },
  {
   "cell_type": "code",
   "execution_count": null,
   "metadata": {
    "collapsed": true,
    "deletable": true,
    "editable": true
   },
   "outputs": [],
   "source": []
  }
 ],
 "metadata": {
  "kernelspec": {
   "display_name": "Python 3",
   "language": "python",
   "name": "python3"
  },
  "language_info": {
   "codemirror_mode": {
    "name": "ipython",
    "version": 3
   },
   "file_extension": ".py",
   "mimetype": "text/x-python",
   "name": "python",
   "nbconvert_exporter": "python",
   "pygments_lexer": "ipython3",
   "version": "3.6.0"
  }
 },
 "nbformat": 4,
 "nbformat_minor": 0
}
