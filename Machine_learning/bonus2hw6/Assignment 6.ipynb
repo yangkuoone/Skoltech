{
 "cells": [
  {
   "cell_type": "code",
   "execution_count": 128,
   "metadata": {
    "collapsed": false
   },
   "outputs": [],
   "source": [
    "import numpy as np\n",
    "import pandas as pd\n",
    "import matplotlib.pyplot as plt\n",
    "import itertools as it\n",
    "\n",
    "from matplotlib import cm\n",
    "from sklearn.preprocessing import scale\n",
    "from sklearn.linear_model import LinearRegression \n",
    "from sklearn.decomposition import PCA\n",
    "from sklearn.manifold import LocallyLinearEmbedding\n",
    "from sklearn.manifold import MDS\n",
    "from sklearn.manifold import SpectralEmbedding\n",
    "from sklearn.manifold import TSNE\n",
    "from sklearn.linear_model import LassoCV, LassoLarsCV, LassoLarsIC\n",
    "from sklearn.model_selection import KFold\n",
    "from sklearn.model_selection import train_test_split\n",
    "from sklearn.model_selection import cross_val_score\n",
    "from statsmodels.regression.linear_model import OLS\n",
    "from statsmodels.regression.linear_model import RegressionResults\n",
    "\n",
    "%matplotlib inline"
   ]
  },
  {
   "cell_type": "markdown",
   "metadata": {
    "deletable": true,
    "editable": true
   },
   "source": [
    "## Assignment 6: model selection and manifold learning\n",
    "\n",
    "### Exercise 1\n",
    "* Load the data set from file prostate.csv\n",
    "* Carry out a best-subset linear regression analysis.\n",
    "* Compute the AIC, BIC, five- and tenfold cross-validation estimates of prediction error\n",
    "* Make conclusion\n",
    "\n",
    "Prostate data info:\n",
    "\n",
    "Predictors:\n",
    "* lcavol\n",
    "* lweight\n",
    "* age\n",
    "* lbph\n",
    "* svi\n",
    "* lcp\n",
    "* gleason\n",
    "* pgg45\n",
    "\n",
    "outcome:\n",
    "* lpsa"
   ]
  },
  {
   "cell_type": "markdown",
   "metadata": {},
   "source": [
    "#### Reading the data"
   ]
  },
  {
   "cell_type": "code",
   "execution_count": 129,
   "metadata": {
    "collapsed": false
   },
   "outputs": [
    {
     "data": {
      "text/html": [
       "<div>\n",
       "<table border=\"1\" class=\"dataframe\">\n",
       "  <thead>\n",
       "    <tr style=\"text-align: right;\">\n",
       "      <th></th>\n",
       "      <th>lcavol</th>\n",
       "      <th>lweight</th>\n",
       "      <th>age</th>\n",
       "      <th>lbph</th>\n",
       "      <th>svi</th>\n",
       "      <th>lcp</th>\n",
       "      <th>gleason</th>\n",
       "      <th>pgg45</th>\n",
       "      <th>lpsa</th>\n",
       "    </tr>\n",
       "  </thead>\n",
       "  <tbody>\n",
       "    <tr>\n",
       "      <th>0</th>\n",
       "      <td>-0.579818</td>\n",
       "      <td>2.769459</td>\n",
       "      <td>50</td>\n",
       "      <td>-1.386294</td>\n",
       "      <td>0</td>\n",
       "      <td>-1.386294</td>\n",
       "      <td>6</td>\n",
       "      <td>0</td>\n",
       "      <td>-0.430783</td>\n",
       "    </tr>\n",
       "    <tr>\n",
       "      <th>1</th>\n",
       "      <td>-0.994252</td>\n",
       "      <td>3.319626</td>\n",
       "      <td>58</td>\n",
       "      <td>-1.386294</td>\n",
       "      <td>0</td>\n",
       "      <td>-1.386294</td>\n",
       "      <td>6</td>\n",
       "      <td>0</td>\n",
       "      <td>-0.162519</td>\n",
       "    </tr>\n",
       "    <tr>\n",
       "      <th>2</th>\n",
       "      <td>-0.510826</td>\n",
       "      <td>2.691243</td>\n",
       "      <td>74</td>\n",
       "      <td>-1.386294</td>\n",
       "      <td>0</td>\n",
       "      <td>-1.386294</td>\n",
       "      <td>7</td>\n",
       "      <td>20</td>\n",
       "      <td>-0.162519</td>\n",
       "    </tr>\n",
       "    <tr>\n",
       "      <th>3</th>\n",
       "      <td>-1.203973</td>\n",
       "      <td>3.282789</td>\n",
       "      <td>58</td>\n",
       "      <td>-1.386294</td>\n",
       "      <td>0</td>\n",
       "      <td>-1.386294</td>\n",
       "      <td>6</td>\n",
       "      <td>0</td>\n",
       "      <td>-0.162519</td>\n",
       "    </tr>\n",
       "    <tr>\n",
       "      <th>4</th>\n",
       "      <td>0.751416</td>\n",
       "      <td>3.432373</td>\n",
       "      <td>62</td>\n",
       "      <td>-1.386294</td>\n",
       "      <td>0</td>\n",
       "      <td>-1.386294</td>\n",
       "      <td>6</td>\n",
       "      <td>0</td>\n",
       "      <td>0.371564</td>\n",
       "    </tr>\n",
       "    <tr>\n",
       "      <th>5</th>\n",
       "      <td>-1.049822</td>\n",
       "      <td>3.228826</td>\n",
       "      <td>50</td>\n",
       "      <td>-1.386294</td>\n",
       "      <td>0</td>\n",
       "      <td>-1.386294</td>\n",
       "      <td>6</td>\n",
       "      <td>0</td>\n",
       "      <td>0.765468</td>\n",
       "    </tr>\n",
       "    <tr>\n",
       "      <th>6</th>\n",
       "      <td>0.737164</td>\n",
       "      <td>3.473518</td>\n",
       "      <td>64</td>\n",
       "      <td>0.615186</td>\n",
       "      <td>0</td>\n",
       "      <td>-1.386294</td>\n",
       "      <td>6</td>\n",
       "      <td>0</td>\n",
       "      <td>0.765468</td>\n",
       "    </tr>\n",
       "    <tr>\n",
       "      <th>7</th>\n",
       "      <td>0.693147</td>\n",
       "      <td>3.539509</td>\n",
       "      <td>58</td>\n",
       "      <td>1.536867</td>\n",
       "      <td>0</td>\n",
       "      <td>-1.386294</td>\n",
       "      <td>6</td>\n",
       "      <td>0</td>\n",
       "      <td>0.854415</td>\n",
       "    </tr>\n",
       "    <tr>\n",
       "      <th>8</th>\n",
       "      <td>-0.776529</td>\n",
       "      <td>3.539509</td>\n",
       "      <td>47</td>\n",
       "      <td>-1.386294</td>\n",
       "      <td>0</td>\n",
       "      <td>-1.386294</td>\n",
       "      <td>6</td>\n",
       "      <td>0</td>\n",
       "      <td>1.047319</td>\n",
       "    </tr>\n",
       "    <tr>\n",
       "      <th>9</th>\n",
       "      <td>0.223144</td>\n",
       "      <td>3.244544</td>\n",
       "      <td>63</td>\n",
       "      <td>-1.386294</td>\n",
       "      <td>0</td>\n",
       "      <td>-1.386294</td>\n",
       "      <td>6</td>\n",
       "      <td>0</td>\n",
       "      <td>1.047319</td>\n",
       "    </tr>\n",
       "    <tr>\n",
       "      <th>10</th>\n",
       "      <td>0.254642</td>\n",
       "      <td>3.604138</td>\n",
       "      <td>65</td>\n",
       "      <td>-1.386294</td>\n",
       "      <td>0</td>\n",
       "      <td>-1.386294</td>\n",
       "      <td>6</td>\n",
       "      <td>0</td>\n",
       "      <td>1.266948</td>\n",
       "    </tr>\n",
       "    <tr>\n",
       "      <th>11</th>\n",
       "      <td>-1.347074</td>\n",
       "      <td>3.598681</td>\n",
       "      <td>63</td>\n",
       "      <td>1.266948</td>\n",
       "      <td>0</td>\n",
       "      <td>-1.386294</td>\n",
       "      <td>6</td>\n",
       "      <td>0</td>\n",
       "      <td>1.266948</td>\n",
       "    </tr>\n",
       "    <tr>\n",
       "      <th>12</th>\n",
       "      <td>1.613430</td>\n",
       "      <td>3.022861</td>\n",
       "      <td>63</td>\n",
       "      <td>-1.386294</td>\n",
       "      <td>0</td>\n",
       "      <td>-0.597837</td>\n",
       "      <td>7</td>\n",
       "      <td>30</td>\n",
       "      <td>1.266948</td>\n",
       "    </tr>\n",
       "    <tr>\n",
       "      <th>13</th>\n",
       "      <td>1.477049</td>\n",
       "      <td>2.998229</td>\n",
       "      <td>67</td>\n",
       "      <td>-1.386294</td>\n",
       "      <td>0</td>\n",
       "      <td>-1.386294</td>\n",
       "      <td>7</td>\n",
       "      <td>5</td>\n",
       "      <td>1.348073</td>\n",
       "    </tr>\n",
       "    <tr>\n",
       "      <th>14</th>\n",
       "      <td>1.205971</td>\n",
       "      <td>3.442019</td>\n",
       "      <td>57</td>\n",
       "      <td>-1.386294</td>\n",
       "      <td>0</td>\n",
       "      <td>-0.430783</td>\n",
       "      <td>7</td>\n",
       "      <td>5</td>\n",
       "      <td>1.398717</td>\n",
       "    </tr>\n",
       "    <tr>\n",
       "      <th>15</th>\n",
       "      <td>1.541159</td>\n",
       "      <td>3.061052</td>\n",
       "      <td>66</td>\n",
       "      <td>-1.386294</td>\n",
       "      <td>0</td>\n",
       "      <td>-1.386294</td>\n",
       "      <td>6</td>\n",
       "      <td>0</td>\n",
       "      <td>1.446919</td>\n",
       "    </tr>\n",
       "    <tr>\n",
       "      <th>16</th>\n",
       "      <td>-0.415515</td>\n",
       "      <td>3.516013</td>\n",
       "      <td>70</td>\n",
       "      <td>1.244155</td>\n",
       "      <td>0</td>\n",
       "      <td>-0.597837</td>\n",
       "      <td>7</td>\n",
       "      <td>30</td>\n",
       "      <td>1.470176</td>\n",
       "    </tr>\n",
       "    <tr>\n",
       "      <th>17</th>\n",
       "      <td>2.288486</td>\n",
       "      <td>3.649359</td>\n",
       "      <td>66</td>\n",
       "      <td>-1.386294</td>\n",
       "      <td>0</td>\n",
       "      <td>0.371564</td>\n",
       "      <td>6</td>\n",
       "      <td>0</td>\n",
       "      <td>1.492904</td>\n",
       "    </tr>\n",
       "    <tr>\n",
       "      <th>18</th>\n",
       "      <td>-0.562119</td>\n",
       "      <td>3.267666</td>\n",
       "      <td>41</td>\n",
       "      <td>-1.386294</td>\n",
       "      <td>0</td>\n",
       "      <td>-1.386294</td>\n",
       "      <td>6</td>\n",
       "      <td>0</td>\n",
       "      <td>1.558145</td>\n",
       "    </tr>\n",
       "    <tr>\n",
       "      <th>19</th>\n",
       "      <td>0.182322</td>\n",
       "      <td>3.825375</td>\n",
       "      <td>70</td>\n",
       "      <td>1.658228</td>\n",
       "      <td>0</td>\n",
       "      <td>-1.386294</td>\n",
       "      <td>6</td>\n",
       "      <td>0</td>\n",
       "      <td>1.599388</td>\n",
       "    </tr>\n",
       "    <tr>\n",
       "      <th>20</th>\n",
       "      <td>1.147402</td>\n",
       "      <td>3.419365</td>\n",
       "      <td>59</td>\n",
       "      <td>-1.386294</td>\n",
       "      <td>0</td>\n",
       "      <td>-1.386294</td>\n",
       "      <td>6</td>\n",
       "      <td>0</td>\n",
       "      <td>1.638997</td>\n",
       "    </tr>\n",
       "    <tr>\n",
       "      <th>21</th>\n",
       "      <td>2.059239</td>\n",
       "      <td>3.501043</td>\n",
       "      <td>60</td>\n",
       "      <td>1.474763</td>\n",
       "      <td>0</td>\n",
       "      <td>1.348073</td>\n",
       "      <td>7</td>\n",
       "      <td>20</td>\n",
       "      <td>1.658228</td>\n",
       "    </tr>\n",
       "    <tr>\n",
       "      <th>22</th>\n",
       "      <td>-0.544727</td>\n",
       "      <td>3.375880</td>\n",
       "      <td>59</td>\n",
       "      <td>-0.798508</td>\n",
       "      <td>0</td>\n",
       "      <td>-1.386294</td>\n",
       "      <td>6</td>\n",
       "      <td>0</td>\n",
       "      <td>1.695616</td>\n",
       "    </tr>\n",
       "    <tr>\n",
       "      <th>23</th>\n",
       "      <td>1.781709</td>\n",
       "      <td>3.451574</td>\n",
       "      <td>63</td>\n",
       "      <td>0.438255</td>\n",
       "      <td>0</td>\n",
       "      <td>1.178655</td>\n",
       "      <td>7</td>\n",
       "      <td>60</td>\n",
       "      <td>1.713798</td>\n",
       "    </tr>\n",
       "    <tr>\n",
       "      <th>24</th>\n",
       "      <td>0.385262</td>\n",
       "      <td>3.667400</td>\n",
       "      <td>69</td>\n",
       "      <td>1.599388</td>\n",
       "      <td>0</td>\n",
       "      <td>-1.386294</td>\n",
       "      <td>6</td>\n",
       "      <td>0</td>\n",
       "      <td>1.731656</td>\n",
       "    </tr>\n",
       "    <tr>\n",
       "      <th>25</th>\n",
       "      <td>1.446919</td>\n",
       "      <td>3.124565</td>\n",
       "      <td>68</td>\n",
       "      <td>0.300105</td>\n",
       "      <td>0</td>\n",
       "      <td>-1.386294</td>\n",
       "      <td>6</td>\n",
       "      <td>0</td>\n",
       "      <td>1.766442</td>\n",
       "    </tr>\n",
       "    <tr>\n",
       "      <th>26</th>\n",
       "      <td>0.512824</td>\n",
       "      <td>3.719651</td>\n",
       "      <td>65</td>\n",
       "      <td>-1.386294</td>\n",
       "      <td>0</td>\n",
       "      <td>-0.798508</td>\n",
       "      <td>7</td>\n",
       "      <td>70</td>\n",
       "      <td>1.800058</td>\n",
       "    </tr>\n",
       "    <tr>\n",
       "      <th>27</th>\n",
       "      <td>-0.400478</td>\n",
       "      <td>3.865979</td>\n",
       "      <td>67</td>\n",
       "      <td>1.816452</td>\n",
       "      <td>0</td>\n",
       "      <td>-1.386294</td>\n",
       "      <td>7</td>\n",
       "      <td>20</td>\n",
       "      <td>1.816452</td>\n",
       "    </tr>\n",
       "    <tr>\n",
       "      <th>28</th>\n",
       "      <td>1.040277</td>\n",
       "      <td>3.128951</td>\n",
       "      <td>67</td>\n",
       "      <td>0.223144</td>\n",
       "      <td>0</td>\n",
       "      <td>0.048790</td>\n",
       "      <td>7</td>\n",
       "      <td>80</td>\n",
       "      <td>1.848455</td>\n",
       "    </tr>\n",
       "    <tr>\n",
       "      <th>29</th>\n",
       "      <td>2.409644</td>\n",
       "      <td>3.375880</td>\n",
       "      <td>65</td>\n",
       "      <td>-1.386294</td>\n",
       "      <td>0</td>\n",
       "      <td>1.619388</td>\n",
       "      <td>6</td>\n",
       "      <td>0</td>\n",
       "      <td>1.894617</td>\n",
       "    </tr>\n",
       "    <tr>\n",
       "      <th>...</th>\n",
       "      <td>...</td>\n",
       "      <td>...</td>\n",
       "      <td>...</td>\n",
       "      <td>...</td>\n",
       "      <td>...</td>\n",
       "      <td>...</td>\n",
       "      <td>...</td>\n",
       "      <td>...</td>\n",
       "      <td>...</td>\n",
       "    </tr>\n",
       "    <tr>\n",
       "      <th>67</th>\n",
       "      <td>2.198335</td>\n",
       "      <td>4.050915</td>\n",
       "      <td>72</td>\n",
       "      <td>2.307573</td>\n",
       "      <td>0</td>\n",
       "      <td>-0.430783</td>\n",
       "      <td>7</td>\n",
       "      <td>10</td>\n",
       "      <td>2.962692</td>\n",
       "    </tr>\n",
       "    <tr>\n",
       "      <th>68</th>\n",
       "      <td>-0.446287</td>\n",
       "      <td>4.408547</td>\n",
       "      <td>69</td>\n",
       "      <td>-1.386294</td>\n",
       "      <td>0</td>\n",
       "      <td>-1.386294</td>\n",
       "      <td>6</td>\n",
       "      <td>0</td>\n",
       "      <td>2.962692</td>\n",
       "    </tr>\n",
       "    <tr>\n",
       "      <th>69</th>\n",
       "      <td>1.193922</td>\n",
       "      <td>4.780383</td>\n",
       "      <td>72</td>\n",
       "      <td>2.326302</td>\n",
       "      <td>0</td>\n",
       "      <td>-0.798508</td>\n",
       "      <td>7</td>\n",
       "      <td>5</td>\n",
       "      <td>2.972975</td>\n",
       "    </tr>\n",
       "    <tr>\n",
       "      <th>70</th>\n",
       "      <td>1.864080</td>\n",
       "      <td>3.593194</td>\n",
       "      <td>60</td>\n",
       "      <td>-1.386294</td>\n",
       "      <td>1</td>\n",
       "      <td>1.321756</td>\n",
       "      <td>7</td>\n",
       "      <td>60</td>\n",
       "      <td>3.013081</td>\n",
       "    </tr>\n",
       "    <tr>\n",
       "      <th>71</th>\n",
       "      <td>1.160021</td>\n",
       "      <td>3.341093</td>\n",
       "      <td>77</td>\n",
       "      <td>1.749200</td>\n",
       "      <td>0</td>\n",
       "      <td>-1.386294</td>\n",
       "      <td>7</td>\n",
       "      <td>25</td>\n",
       "      <td>3.037354</td>\n",
       "    </tr>\n",
       "    <tr>\n",
       "      <th>72</th>\n",
       "      <td>1.214913</td>\n",
       "      <td>3.825375</td>\n",
       "      <td>69</td>\n",
       "      <td>-1.386294</td>\n",
       "      <td>1</td>\n",
       "      <td>0.223144</td>\n",
       "      <td>7</td>\n",
       "      <td>20</td>\n",
       "      <td>3.056357</td>\n",
       "    </tr>\n",
       "    <tr>\n",
       "      <th>73</th>\n",
       "      <td>1.838961</td>\n",
       "      <td>3.236716</td>\n",
       "      <td>60</td>\n",
       "      <td>0.438255</td>\n",
       "      <td>1</td>\n",
       "      <td>1.178655</td>\n",
       "      <td>9</td>\n",
       "      <td>90</td>\n",
       "      <td>3.075006</td>\n",
       "    </tr>\n",
       "    <tr>\n",
       "      <th>74</th>\n",
       "      <td>2.999226</td>\n",
       "      <td>3.849083</td>\n",
       "      <td>69</td>\n",
       "      <td>-1.386294</td>\n",
       "      <td>1</td>\n",
       "      <td>1.909542</td>\n",
       "      <td>7</td>\n",
       "      <td>20</td>\n",
       "      <td>3.275256</td>\n",
       "    </tr>\n",
       "    <tr>\n",
       "      <th>75</th>\n",
       "      <td>3.141130</td>\n",
       "      <td>3.263849</td>\n",
       "      <td>68</td>\n",
       "      <td>-0.051293</td>\n",
       "      <td>1</td>\n",
       "      <td>2.420368</td>\n",
       "      <td>7</td>\n",
       "      <td>50</td>\n",
       "      <td>3.337547</td>\n",
       "    </tr>\n",
       "    <tr>\n",
       "      <th>76</th>\n",
       "      <td>2.010895</td>\n",
       "      <td>4.433789</td>\n",
       "      <td>72</td>\n",
       "      <td>2.122262</td>\n",
       "      <td>0</td>\n",
       "      <td>0.500775</td>\n",
       "      <td>7</td>\n",
       "      <td>60</td>\n",
       "      <td>3.392829</td>\n",
       "    </tr>\n",
       "    <tr>\n",
       "      <th>77</th>\n",
       "      <td>2.537657</td>\n",
       "      <td>4.354784</td>\n",
       "      <td>78</td>\n",
       "      <td>2.326302</td>\n",
       "      <td>0</td>\n",
       "      <td>-1.386294</td>\n",
       "      <td>7</td>\n",
       "      <td>10</td>\n",
       "      <td>3.435599</td>\n",
       "    </tr>\n",
       "    <tr>\n",
       "      <th>78</th>\n",
       "      <td>2.648300</td>\n",
       "      <td>3.582129</td>\n",
       "      <td>69</td>\n",
       "      <td>-1.386294</td>\n",
       "      <td>1</td>\n",
       "      <td>2.583998</td>\n",
       "      <td>7</td>\n",
       "      <td>70</td>\n",
       "      <td>3.457893</td>\n",
       "    </tr>\n",
       "    <tr>\n",
       "      <th>79</th>\n",
       "      <td>2.779440</td>\n",
       "      <td>3.823192</td>\n",
       "      <td>63</td>\n",
       "      <td>-1.386294</td>\n",
       "      <td>0</td>\n",
       "      <td>0.371564</td>\n",
       "      <td>7</td>\n",
       "      <td>50</td>\n",
       "      <td>3.513037</td>\n",
       "    </tr>\n",
       "    <tr>\n",
       "      <th>80</th>\n",
       "      <td>1.467874</td>\n",
       "      <td>3.070376</td>\n",
       "      <td>66</td>\n",
       "      <td>0.559616</td>\n",
       "      <td>0</td>\n",
       "      <td>0.223144</td>\n",
       "      <td>7</td>\n",
       "      <td>40</td>\n",
       "      <td>3.516013</td>\n",
       "    </tr>\n",
       "    <tr>\n",
       "      <th>81</th>\n",
       "      <td>2.513656</td>\n",
       "      <td>3.473518</td>\n",
       "      <td>57</td>\n",
       "      <td>0.438255</td>\n",
       "      <td>0</td>\n",
       "      <td>2.327278</td>\n",
       "      <td>7</td>\n",
       "      <td>60</td>\n",
       "      <td>3.530763</td>\n",
       "    </tr>\n",
       "    <tr>\n",
       "      <th>82</th>\n",
       "      <td>2.613007</td>\n",
       "      <td>3.888754</td>\n",
       "      <td>77</td>\n",
       "      <td>-0.527633</td>\n",
       "      <td>1</td>\n",
       "      <td>0.559616</td>\n",
       "      <td>7</td>\n",
       "      <td>30</td>\n",
       "      <td>3.565298</td>\n",
       "    </tr>\n",
       "    <tr>\n",
       "      <th>83</th>\n",
       "      <td>2.677591</td>\n",
       "      <td>3.838376</td>\n",
       "      <td>65</td>\n",
       "      <td>1.115142</td>\n",
       "      <td>0</td>\n",
       "      <td>1.749200</td>\n",
       "      <td>9</td>\n",
       "      <td>70</td>\n",
       "      <td>3.570940</td>\n",
       "    </tr>\n",
       "    <tr>\n",
       "      <th>84</th>\n",
       "      <td>1.562346</td>\n",
       "      <td>3.709907</td>\n",
       "      <td>60</td>\n",
       "      <td>1.695616</td>\n",
       "      <td>0</td>\n",
       "      <td>0.810930</td>\n",
       "      <td>7</td>\n",
       "      <td>30</td>\n",
       "      <td>3.587677</td>\n",
       "    </tr>\n",
       "    <tr>\n",
       "      <th>85</th>\n",
       "      <td>3.302849</td>\n",
       "      <td>3.518980</td>\n",
       "      <td>64</td>\n",
       "      <td>-1.386294</td>\n",
       "      <td>1</td>\n",
       "      <td>2.327278</td>\n",
       "      <td>7</td>\n",
       "      <td>60</td>\n",
       "      <td>3.630986</td>\n",
       "    </tr>\n",
       "    <tr>\n",
       "      <th>86</th>\n",
       "      <td>2.024193</td>\n",
       "      <td>3.731699</td>\n",
       "      <td>58</td>\n",
       "      <td>1.638997</td>\n",
       "      <td>0</td>\n",
       "      <td>-1.386294</td>\n",
       "      <td>6</td>\n",
       "      <td>0</td>\n",
       "      <td>3.680091</td>\n",
       "    </tr>\n",
       "    <tr>\n",
       "      <th>87</th>\n",
       "      <td>1.731656</td>\n",
       "      <td>3.369018</td>\n",
       "      <td>62</td>\n",
       "      <td>-1.386294</td>\n",
       "      <td>1</td>\n",
       "      <td>0.300105</td>\n",
       "      <td>7</td>\n",
       "      <td>30</td>\n",
       "      <td>3.712352</td>\n",
       "    </tr>\n",
       "    <tr>\n",
       "      <th>88</th>\n",
       "      <td>2.807594</td>\n",
       "      <td>4.718052</td>\n",
       "      <td>65</td>\n",
       "      <td>-1.386294</td>\n",
       "      <td>1</td>\n",
       "      <td>2.463853</td>\n",
       "      <td>7</td>\n",
       "      <td>60</td>\n",
       "      <td>3.984344</td>\n",
       "    </tr>\n",
       "    <tr>\n",
       "      <th>89</th>\n",
       "      <td>1.562346</td>\n",
       "      <td>3.695110</td>\n",
       "      <td>76</td>\n",
       "      <td>0.936093</td>\n",
       "      <td>1</td>\n",
       "      <td>0.810930</td>\n",
       "      <td>7</td>\n",
       "      <td>75</td>\n",
       "      <td>3.993603</td>\n",
       "    </tr>\n",
       "    <tr>\n",
       "      <th>90</th>\n",
       "      <td>3.246491</td>\n",
       "      <td>4.101817</td>\n",
       "      <td>68</td>\n",
       "      <td>-1.386294</td>\n",
       "      <td>0</td>\n",
       "      <td>-1.386294</td>\n",
       "      <td>6</td>\n",
       "      <td>0</td>\n",
       "      <td>4.029806</td>\n",
       "    </tr>\n",
       "    <tr>\n",
       "      <th>91</th>\n",
       "      <td>2.532903</td>\n",
       "      <td>3.677566</td>\n",
       "      <td>61</td>\n",
       "      <td>1.348073</td>\n",
       "      <td>1</td>\n",
       "      <td>-1.386294</td>\n",
       "      <td>7</td>\n",
       "      <td>15</td>\n",
       "      <td>4.129551</td>\n",
       "    </tr>\n",
       "    <tr>\n",
       "      <th>92</th>\n",
       "      <td>2.830268</td>\n",
       "      <td>3.876396</td>\n",
       "      <td>68</td>\n",
       "      <td>-1.386294</td>\n",
       "      <td>1</td>\n",
       "      <td>1.321756</td>\n",
       "      <td>7</td>\n",
       "      <td>60</td>\n",
       "      <td>4.385147</td>\n",
       "    </tr>\n",
       "    <tr>\n",
       "      <th>93</th>\n",
       "      <td>3.821004</td>\n",
       "      <td>3.896909</td>\n",
       "      <td>44</td>\n",
       "      <td>-1.386294</td>\n",
       "      <td>1</td>\n",
       "      <td>2.169054</td>\n",
       "      <td>7</td>\n",
       "      <td>40</td>\n",
       "      <td>4.684443</td>\n",
       "    </tr>\n",
       "    <tr>\n",
       "      <th>94</th>\n",
       "      <td>2.907447</td>\n",
       "      <td>3.396185</td>\n",
       "      <td>52</td>\n",
       "      <td>-1.386294</td>\n",
       "      <td>1</td>\n",
       "      <td>2.463853</td>\n",
       "      <td>7</td>\n",
       "      <td>10</td>\n",
       "      <td>5.143124</td>\n",
       "    </tr>\n",
       "    <tr>\n",
       "      <th>95</th>\n",
       "      <td>2.882564</td>\n",
       "      <td>3.773910</td>\n",
       "      <td>68</td>\n",
       "      <td>1.558145</td>\n",
       "      <td>1</td>\n",
       "      <td>1.558145</td>\n",
       "      <td>7</td>\n",
       "      <td>80</td>\n",
       "      <td>5.477509</td>\n",
       "    </tr>\n",
       "    <tr>\n",
       "      <th>96</th>\n",
       "      <td>3.471966</td>\n",
       "      <td>3.974998</td>\n",
       "      <td>68</td>\n",
       "      <td>0.438255</td>\n",
       "      <td>1</td>\n",
       "      <td>2.904165</td>\n",
       "      <td>7</td>\n",
       "      <td>20</td>\n",
       "      <td>5.582932</td>\n",
       "    </tr>\n",
       "  </tbody>\n",
       "</table>\n",
       "<p>97 rows × 9 columns</p>\n",
       "</div>"
      ],
      "text/plain": [
       "      lcavol   lweight  age      lbph  svi       lcp  gleason  pgg45      lpsa\n",
       "0  -0.579818  2.769459   50 -1.386294    0 -1.386294        6      0 -0.430783\n",
       "1  -0.994252  3.319626   58 -1.386294    0 -1.386294        6      0 -0.162519\n",
       "2  -0.510826  2.691243   74 -1.386294    0 -1.386294        7     20 -0.162519\n",
       "3  -1.203973  3.282789   58 -1.386294    0 -1.386294        6      0 -0.162519\n",
       "4   0.751416  3.432373   62 -1.386294    0 -1.386294        6      0  0.371564\n",
       "5  -1.049822  3.228826   50 -1.386294    0 -1.386294        6      0  0.765468\n",
       "6   0.737164  3.473518   64  0.615186    0 -1.386294        6      0  0.765468\n",
       "7   0.693147  3.539509   58  1.536867    0 -1.386294        6      0  0.854415\n",
       "8  -0.776529  3.539509   47 -1.386294    0 -1.386294        6      0  1.047319\n",
       "9   0.223144  3.244544   63 -1.386294    0 -1.386294        6      0  1.047319\n",
       "10  0.254642  3.604138   65 -1.386294    0 -1.386294        6      0  1.266948\n",
       "11 -1.347074  3.598681   63  1.266948    0 -1.386294        6      0  1.266948\n",
       "12  1.613430  3.022861   63 -1.386294    0 -0.597837        7     30  1.266948\n",
       "13  1.477049  2.998229   67 -1.386294    0 -1.386294        7      5  1.348073\n",
       "14  1.205971  3.442019   57 -1.386294    0 -0.430783        7      5  1.398717\n",
       "15  1.541159  3.061052   66 -1.386294    0 -1.386294        6      0  1.446919\n",
       "16 -0.415515  3.516013   70  1.244155    0 -0.597837        7     30  1.470176\n",
       "17  2.288486  3.649359   66 -1.386294    0  0.371564        6      0  1.492904\n",
       "18 -0.562119  3.267666   41 -1.386294    0 -1.386294        6      0  1.558145\n",
       "19  0.182322  3.825375   70  1.658228    0 -1.386294        6      0  1.599388\n",
       "20  1.147402  3.419365   59 -1.386294    0 -1.386294        6      0  1.638997\n",
       "21  2.059239  3.501043   60  1.474763    0  1.348073        7     20  1.658228\n",
       "22 -0.544727  3.375880   59 -0.798508    0 -1.386294        6      0  1.695616\n",
       "23  1.781709  3.451574   63  0.438255    0  1.178655        7     60  1.713798\n",
       "24  0.385262  3.667400   69  1.599388    0 -1.386294        6      0  1.731656\n",
       "25  1.446919  3.124565   68  0.300105    0 -1.386294        6      0  1.766442\n",
       "26  0.512824  3.719651   65 -1.386294    0 -0.798508        7     70  1.800058\n",
       "27 -0.400478  3.865979   67  1.816452    0 -1.386294        7     20  1.816452\n",
       "28  1.040277  3.128951   67  0.223144    0  0.048790        7     80  1.848455\n",
       "29  2.409644  3.375880   65 -1.386294    0  1.619388        6      0  1.894617\n",
       "..       ...       ...  ...       ...  ...       ...      ...    ...       ...\n",
       "67  2.198335  4.050915   72  2.307573    0 -0.430783        7     10  2.962692\n",
       "68 -0.446287  4.408547   69 -1.386294    0 -1.386294        6      0  2.962692\n",
       "69  1.193922  4.780383   72  2.326302    0 -0.798508        7      5  2.972975\n",
       "70  1.864080  3.593194   60 -1.386294    1  1.321756        7     60  3.013081\n",
       "71  1.160021  3.341093   77  1.749200    0 -1.386294        7     25  3.037354\n",
       "72  1.214913  3.825375   69 -1.386294    1  0.223144        7     20  3.056357\n",
       "73  1.838961  3.236716   60  0.438255    1  1.178655        9     90  3.075006\n",
       "74  2.999226  3.849083   69 -1.386294    1  1.909542        7     20  3.275256\n",
       "75  3.141130  3.263849   68 -0.051293    1  2.420368        7     50  3.337547\n",
       "76  2.010895  4.433789   72  2.122262    0  0.500775        7     60  3.392829\n",
       "77  2.537657  4.354784   78  2.326302    0 -1.386294        7     10  3.435599\n",
       "78  2.648300  3.582129   69 -1.386294    1  2.583998        7     70  3.457893\n",
       "79  2.779440  3.823192   63 -1.386294    0  0.371564        7     50  3.513037\n",
       "80  1.467874  3.070376   66  0.559616    0  0.223144        7     40  3.516013\n",
       "81  2.513656  3.473518   57  0.438255    0  2.327278        7     60  3.530763\n",
       "82  2.613007  3.888754   77 -0.527633    1  0.559616        7     30  3.565298\n",
       "83  2.677591  3.838376   65  1.115142    0  1.749200        9     70  3.570940\n",
       "84  1.562346  3.709907   60  1.695616    0  0.810930        7     30  3.587677\n",
       "85  3.302849  3.518980   64 -1.386294    1  2.327278        7     60  3.630986\n",
       "86  2.024193  3.731699   58  1.638997    0 -1.386294        6      0  3.680091\n",
       "87  1.731656  3.369018   62 -1.386294    1  0.300105        7     30  3.712352\n",
       "88  2.807594  4.718052   65 -1.386294    1  2.463853        7     60  3.984344\n",
       "89  1.562346  3.695110   76  0.936093    1  0.810930        7     75  3.993603\n",
       "90  3.246491  4.101817   68 -1.386294    0 -1.386294        6      0  4.029806\n",
       "91  2.532903  3.677566   61  1.348073    1 -1.386294        7     15  4.129551\n",
       "92  2.830268  3.876396   68 -1.386294    1  1.321756        7     60  4.385147\n",
       "93  3.821004  3.896909   44 -1.386294    1  2.169054        7     40  4.684443\n",
       "94  2.907447  3.396185   52 -1.386294    1  2.463853        7     10  5.143124\n",
       "95  2.882564  3.773910   68  1.558145    1  1.558145        7     80  5.477509\n",
       "96  3.471966  3.974998   68  0.438255    1  2.904165        7     20  5.582932\n",
       "\n",
       "[97 rows x 9 columns]"
      ]
     },
     "execution_count": 129,
     "metadata": {},
     "output_type": "execute_result"
    }
   ],
   "source": [
    "data = pd.read_csv('prostate.csv')\n",
    "columns = list(data.columns)\n",
    "n_samples = data.shape[0]\n",
    "\n",
    "X, y = np.asarray(data)[:, :-1], np.asarray(data)[:, -1]\n",
    "\n",
    "data"
   ]
  },
  {
   "cell_type": "markdown",
   "metadata": {},
   "source": [
    "#### Generating all combinations"
   ]
  },
  {
   "cell_type": "code",
   "execution_count": 130,
   "metadata": {
    "collapsed": false
   },
   "outputs": [
    {
     "name": "stdout",
     "output_type": "stream",
     "text": [
      "num of combinations 255\n"
     ]
    }
   ],
   "source": [
    "combinations = []\n",
    "for k in range(1, 9):\n",
    "    comb = np.array(list(it.combinations(columns[:-1], k)))\n",
    "    combinations.append(comb)\n",
    "\n",
    "\n",
    "all_combinations = []\n",
    "for i in range(len(combinations)):\n",
    "    all_combinations += combinations[i].tolist()\n",
    "all_combinations = np.array(all_combinations)\n",
    "\n",
    "num_combinations = len(all_combinations)\n",
    "print('num of combinations', num_combinations)"
   ]
  },
  {
   "cell_type": "markdown",
   "metadata": {},
   "source": [
    "#### All scores"
   ]
  },
  {
   "cell_type": "code",
   "execution_count": 131,
   "metadata": {
    "collapsed": false
   },
   "outputs": [],
   "source": [
    "aic_scores, bic_scores, fivefold, tenfold = [], [], [], []\n",
    "for i in range(num_combinations):\n",
    "    combination = all_combinations[i]\n",
    "    X = np.asarray(data[combination])\n",
    "    LS = OLS(y, X)\n",
    "    regression = LS.fit()\n",
    "    aic_scores.append(regression.aic)\n",
    "    bic_scores.append(regression.bic)\n",
    "    fivefold.append(-cross_val_score(LinearRegression(), X, y, scoring=\"neg_mean_squared_error\", cv=5).mean())\n",
    "    tenfold.append(-cross_val_score(LinearRegression(), X, y, scoring=\"neg_mean_squared_error\", cv=10).mean())"
   ]
  },
  {
   "cell_type": "markdown",
   "metadata": {},
   "source": [
    "#### Result"
   ]
  },
  {
   "cell_type": "code",
   "execution_count": 132,
   "metadata": {
    "collapsed": false
   },
   "outputs": [
    {
     "name": "stdout",
     "output_type": "stream",
     "text": [
      "------------Best-subset solution for different scores------------\n",
      "AIC: ['lcavol', 'lweight', 'age', 'lbph', 'svi']\n",
      "BIC: ['lcavol', 'lweight', 'svi']\n",
      "Fivefold CV: ['lcavol', 'lweight', 'age', 'pgg45']\n",
      "Tenfold CV: ['lcavol', 'lweight', 'age', 'pgg45']\n"
     ]
    }
   ],
   "source": [
    "print('------------Best-subset solution for different scores------------')\n",
    "print('AIC:', all_combinations[np.argmin(np.abs(aic_scores))])\n",
    "print('BIC:', all_combinations[np.argmin(np.abs(bic_scores))])\n",
    "print('Fivefold CV:', all_combinations[np.argmin(np.abs(fivefold))])\n",
    "print('Tenfold CV:', all_combinations[np.argmin(np.abs(tenfold))])"
   ]
  },
  {
   "cell_type": "markdown",
   "metadata": {
    "deletable": true,
    "editable": true
   },
   "source": [
    "### Exercise 2\n",
    "* Apply dimensionality reduction, try PCA, LLE, MDS, Laplacian Eigenmaps and t-SNE. Visualize data set.\n",
    "* What can you say about clusters in the dataset?\n",
    "* Build linear regression models using output produced by for different dimensionalities. Compute quality of the models.\n",
    "* Make conclusion."
   ]
  },
  {
   "cell_type": "markdown",
   "metadata": {},
   "source": [
    "#### PCA"
   ]
  },
  {
   "cell_type": "code",
   "execution_count": 133,
   "metadata": {
    "collapsed": false,
    "deletable": true,
    "editable": true
   },
   "outputs": [],
   "source": [
    "pca = PCA(n_components=2)\n",
    "X_pca = pca.fit_transform(X)"
   ]
  },
  {
   "cell_type": "code",
   "execution_count": 134,
   "metadata": {
    "collapsed": true
   },
   "outputs": [],
   "source": [
    "color_labels = data['lcavol']\n",
    "colors = [cm.Vega10((y_) / max(color_labels)) for y_ in color_labels]"
   ]
  },
  {
   "cell_type": "code",
   "execution_count": 135,
   "metadata": {
    "collapsed": false
   },
   "outputs": [
    {
     "data": {
      "text/plain": [
       "<matplotlib.text.Text at 0x11cd95240>"
      ]
     },
     "execution_count": 135,
     "metadata": {},
     "output_type": "execute_result"
    },
    {
     "data": {
      "image/png": "[encoded data removed]",
      "text/plain": [
       "<matplotlib.figure.Figure at 0x11cc0c240>"
      ]
     },
     "metadata": {},
     "output_type": "display_data"
    }
   ],
   "source": [
    "plt.figure(figsize=(10, 7))\n",
    "plt.scatter(X_pca[:, 0], X_pca[:, 1], c=colors, s = 30)\n",
    "plt.xlabel('x0')\n",
    "plt.ylabel('x1')\n",
    "plt.title('PCA visualisation')"
   ]
  },
  {
   "cell_type": "code",
   "execution_count": 136,
   "metadata": {
    "collapsed": false
   },
   "outputs": [
    {
     "name": "stdout",
     "output_type": "stream",
     "text": [
      "-----Scores2D-----\n",
      "AIC = 471.035373372\n",
      "BIC = 476.184795329\n"
     ]
    }
   ],
   "source": [
    "LS = OLS(y, X_pca)\n",
    "regression_pca = LS.fit()\n",
    "print('-----Scores2D-----')\n",
    "print('AIC =', regression_pca.aic)\n",
    "print('BIC =', regression_pca.bic)"
   ]
  },
  {
   "cell_type": "markdown",
   "metadata": {},
   "source": [
    "#### LLE"
   ]
  },
  {
   "cell_type": "code",
   "execution_count": 137,
   "metadata": {
    "collapsed": false
   },
   "outputs": [],
   "source": [
    "lle = LocallyLinearEmbedding(n_components=2)\n",
    "X_lle = lle.fit_transform(X)"
   ]
  },
  {
   "cell_type": "code",
   "execution_count": 138,
   "metadata": {
    "collapsed": true
   },
   "outputs": [],
   "source": [
    "color_labels = data['lcavol']\n",
    "colors = [cm.Vega10((y_) / max(color_labels)) for y_ in color_labels]"
   ]
  },
  {
   "cell_type": "code",
   "execution_count": 139,
   "metadata": {
    "collapsed": false
   },
   "outputs": [
    {
     "data": {
      "text/plain": [
       "<matplotlib.text.Text at 0x11cf332b0>"
      ]
     },
     "execution_count": 139,
     "metadata": {},
     "output_type": "execute_result"
    },
    {
     "data": {
      "image/png": "[encoded data removed]",
      "text/plain": [
       "<matplotlib.figure.Figure at 0x11caa70b8>"
      ]
     },
     "metadata": {},
     "output_type": "display_data"
    }
   ],
   "source": [
    "plt.figure(figsize=(10, 7))\n",
    "plt.scatter(X_lle[:, 0], X_lle[:, 1], c=colors, s = 30)\n",
    "plt.xlabel('x0')\n",
    "plt.ylabel('x1')\n",
    "plt.title('LLE visualisation')"
   ]
  },
  {
   "cell_type": "code",
   "execution_count": 140,
   "metadata": {
    "collapsed": false
   },
   "outputs": [
    {
     "name": "stdout",
     "output_type": "stream",
     "text": [
      "-----Scores-----\n",
      "AIC = 473.963278561\n",
      "BIC = 479.112700518\n"
     ]
    }
   ],
   "source": [
    "LS = OLS(y, X_lle)\n",
    "regression_lle = LS.fit()\n",
    "print('-----Scores-----')\n",
    "print('AIC =', regression_lle.aic)\n",
    "print('BIC =', regression_lle.bic)"
   ]
  },
  {
   "cell_type": "markdown",
   "metadata": {},
   "source": [
    "#### MDS"
   ]
  },
  {
   "cell_type": "code",
   "execution_count": 141,
   "metadata": {
    "collapsed": true
   },
   "outputs": [],
   "source": [
    "mds = MDS(n_components=2)\n",
    "X_mds = mds.fit_transform(X)"
   ]
  },
  {
   "cell_type": "code",
   "execution_count": 142,
   "metadata": {
    "collapsed": true
   },
   "outputs": [],
   "source": [
    "color_labels = data['lcavol']\n",
    "colors = [cm.Vega10((y_) / max(color_labels)) for y_ in color_labels]"
   ]
  },
  {
   "cell_type": "code",
   "execution_count": 143,
   "metadata": {
    "collapsed": false
   },
   "outputs": [
    {
     "data": {
      "text/plain": [
       "<matplotlib.text.Text at 0x11bf59cc0>"
      ]
     },
     "execution_count": 143,
     "metadata": {},
     "output_type": "execute_result"
    },
    {
     "data": {
      "image/png": "[encoded data removed]",
      "text/plain": [
       "<matplotlib.figure.Figure at 0x11cf82d30>"
      ]
     },
     "metadata": {},
     "output_type": "display_data"
    }
   ],
   "source": [
    "plt.figure(figsize=(10, 7))\n",
    "plt.scatter(X_mds[:, 0], X_mds[:, 1], c=colors, s = 30)\n",
    "plt.xlabel('x0')\n",
    "plt.ylabel('x1')\n",
    "plt.title('MDS visualisation')"
   ]
  },
  {
   "cell_type": "code",
   "execution_count": 144,
   "metadata": {
    "collapsed": false
   },
   "outputs": [
    {
     "name": "stdout",
     "output_type": "stream",
     "text": [
      "-----Scores-----\n",
      "AIC = 471.016233605\n",
      "BIC = 476.165655562\n"
     ]
    }
   ],
   "source": [
    "LS = OLS(y, X_mds)\n",
    "regression_mds = LS.fit()\n",
    "print('-----Scores-----')\n",
    "print('AIC =', regression_mds.aic)\n",
    "print('BIC =', regression_mds.bic)"
   ]
  },
  {
   "cell_type": "markdown",
   "metadata": {},
   "source": [
    "#### Laplacian Eigenmaps (Spectral Embedding)"
   ]
  },
  {
   "cell_type": "code",
   "execution_count": 145,
   "metadata": {
    "collapsed": true
   },
   "outputs": [],
   "source": [
    "se = SpectralEmbedding(n_components=2)\n",
    "X_se = se.fit_transform(X)"
   ]
  },
  {
   "cell_type": "code",
   "execution_count": 146,
   "metadata": {
    "collapsed": true
   },
   "outputs": [],
   "source": [
    "color_labels = data['lcavol']\n",
    "colors = [cm.Vega10((y_) / max(color_labels)) for y_ in color_labels]"
   ]
  },
  {
   "cell_type": "code",
   "execution_count": 147,
   "metadata": {
    "collapsed": false,
    "scrolled": false
   },
   "outputs": [
    {
     "data": {
      "text/plain": [
       "<matplotlib.text.Text at 0x11d296160>"
      ]
     },
     "execution_count": 147,
     "metadata": {},
     "output_type": "execute_result"
    },
    {
     "data": {
      "image/png": "[encoded data removed]",
      "text/plain": [
       "<matplotlib.figure.Figure at 0x11cfd4160>"
      ]
     },
     "metadata": {},
     "output_type": "display_data"
    }
   ],
   "source": [
    "plt.figure(figsize=(10, 7))\n",
    "plt.scatter(X_se[:, 0], X_se[:, 1], c=colors, s = 30)\n",
    "plt.xlabel('x0')\n",
    "plt.ylabel('x1')\n",
    "plt.title('Laplacian Eigenmaps visualisation')"
   ]
  },
  {
   "cell_type": "code",
   "execution_count": 148,
   "metadata": {
    "collapsed": false
   },
   "outputs": [
    {
     "name": "stdout",
     "output_type": "stream",
     "text": [
      "-----Scores-----\n",
      "AIC = 469.956773085\n",
      "BIC = 475.106195042\n"
     ]
    }
   ],
   "source": [
    "LS = OLS(y, X_se)\n",
    "regression_se = LS.fit()\n",
    "print('-----Scores-----')\n",
    "print('AIC =', regression_se.aic)\n",
    "print('BIC =', regression_se.bic)"
   ]
  },
  {
   "cell_type": "markdown",
   "metadata": {},
   "source": [
    "#### t-SNE"
   ]
  },
  {
   "cell_type": "code",
   "execution_count": 149,
   "metadata": {
    "collapsed": false
   },
   "outputs": [],
   "source": [
    "tsne = TSNE(n_components=2)\n",
    "X_tsne = tsne.fit_transform(X)"
   ]
  },
  {
   "cell_type": "code",
   "execution_count": 151,
   "metadata": {
    "collapsed": true
   },
   "outputs": [],
   "source": [
    "color_labels = data['lcavol']\n",
    "colors = [cm.Vega10((y_) / max(color_labels)) for y_ in color_labels]"
   ]
  },
  {
   "cell_type": "code",
   "execution_count": 152,
   "metadata": {
    "collapsed": false
   },
   "outputs": [
    {
     "data": {
      "text/plain": [
       "<matplotlib.text.Text at 0x11d2df7b8>"
      ]
     },
     "execution_count": 152,
     "metadata": {},
     "output_type": "execute_result"
    },
    {
     "data": {
      "image/png": "[encoded data removed]",
      "text/plain": [
       "<matplotlib.figure.Figure at 0x11d251470>"
      ]
     },
     "metadata": {},
     "output_type": "display_data"
    }
   ],
   "source": [
    "plt.figure(figsize=(10, 7))\n",
    "plt.scatter(X_tsne[:, 0], X_tsne[:, 1], c=colors, s = 30)\n",
    "plt.xlabel('x0')\n",
    "plt.ylabel('x1')\n",
    "plt.title('t-SNE visualisation')"
   ]
  },
  {
   "cell_type": "code",
   "execution_count": 154,
   "metadata": {
    "collapsed": false
   },
   "outputs": [
    {
     "name": "stdout",
     "output_type": "stream",
     "text": [
      "-----Scores-----\n",
      "AIC = 473.309819817\n",
      "BIC = 478.459241774\n"
     ]
    }
   ],
   "source": [
    "LS = OLS(y, X_tsne)\n",
    "regression_tsne = LS.fit()\n",
    "print('-----Scores-----')\n",
    "print('AIC =', regression_tsne.aic)\n",
    "print('BIC =', regression_tsne.bic)"
   ]
  },
  {
   "cell_type": "code",
   "execution_count": 150,
   "metadata": {
    "collapsed": false
   },
   "outputs": [
    {
     "name": "stdout",
     "output_type": "stream",
     "text": [
      "Is NAN? False\n",
      "Is INF? False\n"
     ]
    }
   ],
   "source": [
    "print ('Is NAN?', np.isnan(X).any())\n",
    "print ('Is INF?', np.isinf(X).any())"
   ]
  },
  {
   "cell_type": "code",
   "execution_count": null,
   "metadata": {
    "collapsed": false
   },
   "outputs": [],
   "source": []
  },
  {
   "cell_type": "markdown",
   "metadata": {
    "collapsed": true
   },
   "source": [
    "#### Results"
   ]
  },
  {
   "cell_type": "code",
   "execution_count": 155,
   "metadata": {
    "collapsed": false
   },
   "outputs": [
    {
     "data": {
      "text/html": [
       "<div>\n",
       "<table border=\"1\" class=\"dataframe\">\n",
       "  <thead>\n",
       "    <tr style=\"text-align: right;\">\n",
       "      <th></th>\n",
       "      <th>AIC</th>\n",
       "      <th>BIC</th>\n",
       "    </tr>\n",
       "  </thead>\n",
       "  <tbody>\n",
       "    <tr>\n",
       "      <th>PCA</th>\n",
       "      <td>471.035373</td>\n",
       "      <td>476.184795</td>\n",
       "    </tr>\n",
       "    <tr>\n",
       "      <th>LLE</th>\n",
       "      <td>473.963279</td>\n",
       "      <td>479.112701</td>\n",
       "    </tr>\n",
       "    <tr>\n",
       "      <th>MDS</th>\n",
       "      <td>471.016234</td>\n",
       "      <td>476.165656</td>\n",
       "    </tr>\n",
       "    <tr>\n",
       "      <th>Laplacian Eigenmaps</th>\n",
       "      <td>469.956773</td>\n",
       "      <td>475.106195</td>\n",
       "    </tr>\n",
       "    <tr>\n",
       "      <th>t-SNE</th>\n",
       "      <td>473.309820</td>\n",
       "      <td>478.459242</td>\n",
       "    </tr>\n",
       "  </tbody>\n",
       "</table>\n",
       "</div>"
      ],
      "text/plain": [
       "                            AIC         BIC\n",
       "PCA                  471.035373  476.184795\n",
       "LLE                  473.963279  479.112701\n",
       "MDS                  471.016234  476.165656\n",
       "Laplacian Eigenmaps  469.956773  475.106195\n",
       "t-SNE                473.309820  478.459242"
      ]
     },
     "execution_count": 155,
     "metadata": {},
     "output_type": "execute_result"
    }
   ],
   "source": [
    "d = {'AIC': [regression_pca.aic, regression_lle.aic, regression_mds.aic, regression_se.aic, regression_tsne.aic], \n",
    "     'BIC': [regression_pca.bic, regression_lle.bic, regression_mds.bic, regression_se.bic, regression_tsne.bic]}\n",
    "df = pd.DataFrame(data=d, index=['PCA', 'LLE', 'MDS', 'Laplacian Eigenmaps', 't-SNE'])\n",
    "df"
   ]
  },
  {
   "cell_type": "markdown",
   "metadata": {},
   "source": [
    "We see that Laplacian Eigenmaps has the best result. "
   ]
  },
  {
   "cell_type": "code",
   "execution_count": null,
   "metadata": {
    "collapsed": true
   },
   "outputs": [],
   "source": []
  }
 ],
 "metadata": {
  "kernelspec": {
   "display_name": "Python 3",
   "language": "python",
   "name": "python3"
  },
  "language_info": {
   "codemirror_mode": {
    "name": "ipython",
    "version": 3
   },
   "file_extension": ".py",
   "mimetype": "text/x-python",
   "name": "python",
   "nbconvert_exporter": "python",
   "pygments_lexer": "ipython3",
   "version": "3.6.0"
  }
 },
 "nbformat": 4,
 "nbformat_minor": 2
}
