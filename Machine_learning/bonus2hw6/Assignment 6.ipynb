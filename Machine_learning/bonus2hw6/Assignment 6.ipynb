{
 "cells": [
  {
   "cell_type": "code",
   "execution_count": 38,
   "metadata": {
    "collapsed": true
   },
   "outputs": [],
   "source": [
    "import pandas as pd\n",
    "import numpy as np\n",
    "from sklearn.linear_model import LinearRegression, Lasso, LassoLarsIC, LassoLarsCV"
   ]
  },
  {
   "cell_type": "markdown",
   "metadata": {
    "deletable": true,
    "editable": true
   },
   "source": [
    "## Assignment 6: model selection and manifold learning\n",
    "\n",
    "### Exercise 1\n",
    "* Load the data set from file prostate.csv\n",
    "* Carry out a best-subset linear regression analysis.\n",
    "* Compute the AIC, BIC, five- and tenfold cross-validation estimates of prediction error\n",
    "* Make conclusion\n",
    "\n",
    "Prostate data info:\n",
    "\n",
    "Predictors:\n",
    "* lcavol\n",
    "* lweight\n",
    "* age\n",
    "* lbph\n",
    "* svi\n",
    "* lcp\n",
    "* gleason\n",
    "* pgg45\n",
    "\n",
    "outcome:\n",
    "* lpsa"
   ]
  },
  {
   "cell_type": "code",
   "execution_count": 12,
   "metadata": {
    "collapsed": false,
    "deletable": true,
    "editable": true
   },
   "outputs": [],
   "source": [
    "X, y = np.asarray(pd.read_csv('prostate.csv'))[:, :-1], np.asarray(pd.read_csv('prostate.csv'))[:, -1]"
   ]
  },
  {
   "cell_type": "code",
   "execution_count": 45,
   "metadata": {
    "collapsed": false
   },
   "outputs": [
    {
     "name": "stdout",
     "output_type": "stream",
     "text": [
      "LassoLarsIC(copy_X=True, criterion='aic', eps=2.2204460492503131e-16,\n",
      "      fit_intercept=True, max_iter=500, normalize=True, positive=False,\n",
      "      precompute='auto', verbose=False) \n",
      "\n",
      "LassoLarsIC(copy_X=True, criterion='bic', eps=2.2204460492503131e-16,\n",
      "      fit_intercept=True, max_iter=500, normalize=True, positive=False,\n",
      "      precompute='auto', verbose=False) \n",
      "\n",
      "LassoLarsCV(copy_X=True, cv=10, eps=2.2204460492503131e-16,\n",
      "      fit_intercept=True, max_iter=500, max_n_alphas=1000, n_jobs=1,\n",
      "      normalize=True, positive=False, precompute='auto', verbose=False)\n"
     ]
    },
    {
     "data": {
      "text/plain": [
       "array([ 0.08563708,  0.04309867,  0.03681019,  0.01450343,  0.01267381,\n",
       "        0.0064808 ,  0.00374317,  0.00223099,  0.        ])"
      ]
     },
     "execution_count": 45,
     "metadata": {},
     "output_type": "execute_result"
    }
   ],
   "source": [
    "AIC = LassoLarsIC(criterion='aic')\n",
    "BIC = LassoLarsIC(criterion='bic')\n",
    "CV = LassoLarsCV(cv=10)\n",
    "\n",
    "print (AIC.fit(X, y), '\\n')\n",
    "print (BIC.fit(X, y), '\\n')\n",
    "print (CV.fit(X, y))\n",
    "\n",
    "aic = AIC.criterion_\n",
    "alphas_aic = AIC.alphas_\n",
    "\n",
    "bic = BIC.criterion_\n",
    "alphas_bic = BIC.alphas_\n",
    "\n",
    "CV.alphas_"
   ]
  },
  {
   "cell_type": "code",
   "execution_count": 31,
   "metadata": {
    "collapsed": false
   },
   "outputs": [
    {
     "data": {
      "text/plain": [
       "array([ 0.08563708,  0.04309867,  0.03681019,  0.01450343,  0.01267381,\n",
       "        0.0064808 ,  0.00374317,  0.00223099,  0.        ])"
      ]
     },
     "execution_count": 31,
     "metadata": {},
     "output_type": "execute_result"
    }
   ],
   "source": []
  },
  {
   "cell_type": "markdown",
   "metadata": {
    "deletable": true,
    "editable": true
   },
   "source": [
    "### Exercise 2\n",
    "* Apply dimensionality reduction, try PCA, LLE, MDS, Laplacian Eigenmaps and t-SNE. Visualize data set.\n",
    "* What can you say about clusters in the dataset?\n",
    "* Build linear regression models using output produced by for different dimensionalities. Compute quality of the models.\n",
    "* Make conclusion."
   ]
  },
  {
   "cell_type": "code",
   "execution_count": null,
   "metadata": {
    "collapsed": true,
    "deletable": true,
    "editable": true
   },
   "outputs": [],
   "source": []
  }
 ],
 "metadata": {
  "kernelspec": {
   "display_name": "Python 3",
   "language": "python",
   "name": "python3"
  },
  "language_info": {
   "codemirror_mode": {
    "name": "ipython",
    "version": 3
   },
   "file_extension": ".py",
   "mimetype": "text/x-python",
   "name": "python",
   "nbconvert_exporter": "python",
   "pygments_lexer": "ipython3",
   "version": "3.6.0"
  }
 },
 "nbformat": 4,
 "nbformat_minor": 2
}
