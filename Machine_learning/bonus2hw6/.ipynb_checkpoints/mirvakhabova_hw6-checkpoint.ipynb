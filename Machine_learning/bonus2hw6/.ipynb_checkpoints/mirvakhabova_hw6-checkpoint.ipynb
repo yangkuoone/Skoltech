{
 "cells": [
  {
   "cell_type": "code",
   "execution_count": 1,
   "metadata": {
    "collapsed": false
   },
   "outputs": [],
   "source": [
    "import numpy as np\n",
    "import pandas as pd\n",
    "import matplotlib.pyplot as plt\n",
    "import itertools as it\n",
    "\n",
    "from matplotlib import cm\n",
    "from sklearn.preprocessing import scale\n",
    "from sklearn.linear_model import LinearRegression \n",
    "from sklearn.decomposition import PCA\n",
    "from sklearn.manifold import LocallyLinearEmbedding\n",
    "from sklearn.manifold import MDS\n",
    "from sklearn.manifold import SpectralEmbedding\n",
    "from sklearn.manifold import TSNE\n",
    "from sklearn.linear_model import LassoCV, LassoLarsCV, LassoLarsIC\n",
    "from sklearn.model_selection import KFold\n",
    "from sklearn.model_selection import train_test_split\n",
    "from sklearn.model_selection import cross_val_score\n",
    "from statsmodels.regression.linear_model import OLS\n",
    "from statsmodels.regression.linear_model import RegressionResults\n",
    "\n",
    "%matplotlib inline"
   ]
  },
  {
   "cell_type": "markdown",
   "metadata": {
    "collapsed": false,
    "deletable": true,
    "editable": true
   },
   "source": [
    "## Assignment 6: model selection and manifold learning\n",
    "\n",
    "### Exercise 1\n",
    "* Load the data set from file prostate.csv\n",
    "* Carry out a best-subset linear regression analysis.\n",
    "* Compute the AIC, BIC, five- and tenfold cross-validation estimates of prediction error\n",
    "* Make conclusion\n",
    "\n",
    "Prostate data info:\n",
    "\n",
    "Predictors:\n",
    "* lcavol\n",
    "* lweight\n",
    "* age\n",
    "* lbph\n",
    "* svi\n",
    "* lcp\n",
    "* gleason\n",
    "* pgg45\n",
    "\n",
    "outcome:\n",
    "* lpsa"
   ]
  },
  {
   "cell_type": "code",
   "execution_count": 11,
   "metadata": {
    "collapsed": false
   },
   "outputs": [],
   "source": [
    "df = pd.read_csv(open(\"prostate.csv\"))\n",
    "col = list(df.columns)\n",
    "\n",
    "#scaling the data\n",
    "df = scale(df)\n",
    "df1 = pd.DataFrame(df, columns=col)"
   ]
  },
  {
   "cell_type": "code",
   "execution_count": 12,
   "metadata": {
    "collapsed": true
   },
   "outputs": [],
   "source": [
    "X, y = np.asarray(df1)[:, :-1], np.asarray(df1)[:, -1]"
   ]
  },
  {
   "cell_type": "markdown",
   "metadata": {},
   "source": [
    "#### Best-subset linear regression analysis"
   ]
  },
  {
   "cell_type": "code",
   "execution_count": 13,
   "metadata": {
    "collapsed": true
   },
   "outputs": [],
   "source": [
    "col_predictors = col[:-1]"
   ]
  },
  {
   "cell_type": "code",
   "execution_count": 14,
   "metadata": {
    "collapsed": false
   },
   "outputs": [],
   "source": [
    "#all subsets\n",
    "def subsets(N):\n",
    "    combinations = []\n",
    "    for k in range(1, N):\n",
    "        comb = np.array(list(it.combinations(col_predictors, k)))\n",
    "        combinations.append(comb)\n",
    "    combinations = np.array(combinations).flatten()\n",
    "\n",
    "    all_combinations = combinations[0].tolist()\n",
    "    for i in range(1, len(combinations)):\n",
    "        all_combinations += combinations[i].tolist()\n",
    "    all_combinations = np.array(all_combinations)\n",
    "    return all_combinations"
   ]
  },
  {
   "cell_type": "code",
   "execution_count": 22,
   "metadata": {
    "collapsed": false,
    "scrolled": false
   },
   "outputs": [],
   "source": [
    "def all_scores(X, y, kfold=True):    \n",
    "    ols = OLS(y, X)\n",
    "    result = ols.fit()\n",
    "    AIC = RegressionResults(ols, result.params).aic\n",
    "    BIC = RegressionResults(ols, result.params).bic\n",
    "    if kfold == True:\n",
    "        fivefold_score = -cross_val_score(LinearRegression(), X, y, scoring=\"neg_mean_squared_error\", cv=5).mean()\n",
    "        tenfold_score = -cross_val_score(LinearRegression(), X, y, scoring=\"neg_mean_squared_error\", cv=10).mean()\n",
    "        return AIC, BIC, fivefold_score, tenfold_score\n",
    "    else:\n",
    "        return AIC, BIC"
   ]
  },
  {
   "cell_type": "code",
   "execution_count": 23,
   "metadata": {
    "collapsed": true
   },
   "outputs": [],
   "source": [
    "all_combinations = subsets(9)"
   ]
  },
  {
   "cell_type": "code",
   "execution_count": 24,
   "metadata": {
    "collapsed": false,
    "scrolled": true
   },
   "outputs": [],
   "source": [
    "AIC_scores, BIC_scores, fivefold, tenfold = [], [], [], []\n",
    "for i in range(len(all_combinations)):\n",
    "    combination = all_combinations[i]\n",
    "#     print (df1[combination])\n",
    "    X = np.asarray(df1[combination])\n",
    "    AIC, BIC, fivefold_score, tenfold_score = all_scores(X, y, kfold=True)\n",
    "    AIC_scores.append(AIC)\n",
    "    BIC_scores.append(BIC) \n",
    "    fivefold.append(fivefold_score)\n",
    "    tenfold.append(tenfold_score)\n",
    "#     print(cv_score)"
   ]
  },
  {
   "cell_type": "code",
   "execution_count": 25,
   "metadata": {
    "collapsed": false
   },
   "outputs": [
    {
     "name": "stdout",
     "output_type": "stream",
     "text": [
      " The best parameters are:\n",
      "\n",
      " AIC: ['lcavol', 'lweight', 'age', 'lbph', 'svi'] , score is:  182.713892633 \n",
      " BIC: ['lcavol', 'lweight', 'svi'] , score is:  190.983221133 \n",
      " fivefold: ['lcavol', 'lweight', 'age', 'pgg45'] , score is:  0.667301846503 \n",
      " tenfold: ['lcavol', 'lweight', 'age', 'pgg45'] , score is:  0.545295089749\n"
     ]
    }
   ],
   "source": [
    "print(\" The best parameters are:\\n\\n\",\n",
    "      \"AIC:\", all_combinations[np.argmin(np.abs(AIC_scores))], \", score is: \", np.min(np.abs(AIC_scores)), \"\\n\", \n",
    "      \"BIC:\", all_combinations[np.argmin(np.abs(BIC_scores))], \", score is: \", np.min(np.abs(BIC_scores)), \"\\n\",\n",
    "      \"fivefold:\", all_combinations[np.argmin(np.abs(fivefold))], \", score is: \", np.min(np.abs(fivefold)), \"\\n\", \n",
    "      \"tenfold:\", all_combinations[np.argmin(np.abs(tenfold))], \", score is: \", np.min(np.abs(tenfold)))"
   ]
  },
  {
   "cell_type": "code",
   "execution_count": 27,
   "metadata": {
    "collapsed": false
   },
   "outputs": [
    {
     "name": "stdout",
     "output_type": "stream",
     "text": [
      " cv score for aic subset is: 0.703536818918 \n",
      " cv score for bic subset is: 0.667425443862\n"
     ]
    }
   ],
   "source": [
    "aic_subset = np.asarray(df1[all_combinations[np.argmin(np.abs(AIC_scores))]])\n",
    "cv_score_aic_subset = -cross_val_score(LinearRegression(), aic_subset,\n",
    "                                       y, scoring=\"neg_mean_squared_error\", cv=5).mean()\n",
    "\n",
    "bic_subset = np.asarray(df1[all_combinations[np.argmin(np.abs(BIC_scores))]])\n",
    "cv_score_bic_subset = -cross_val_score(LinearRegression(), bic_subset,\n",
    "                                       y, scoring=\"neg_mean_squared_error\", cv=5).mean()\n",
    "\n",
    "print(\" cv score for aic subset is:\", cv_score_aic_subset, \"\\n\", \"cv score for bic subset is:\", cv_score_bic_subset)"
   ]
  },
  {
   "cell_type": "markdown",
   "metadata": {
    "deletable": true,
    "editable": true
   },
   "source": [
    "### Exercise 2\n",
    "* Apply dimensionality reduction, try PCA, LLE, MDS, Laplacian Eigenmaps and t-SNE. Visualize data set.\n",
    "* What can you say about clusters in the dataset?\n",
    "* Build linear regression models using output produced by for different dimensionalities. Compute quality of the models.\n",
    "* Make conclusion."
   ]
  },
  {
   "cell_type": "markdown",
   "metadata": {},
   "source": [
    "## Visualization "
   ]
  },
  {
   "cell_type": "code",
   "execution_count": 28,
   "metadata": {
    "collapsed": false,
    "deletable": true,
    "editable": true
   },
   "outputs": [],
   "source": [
    "pca = PCA(n_components=2)\n",
    "X_pca = pca.fit_transform(X)"
   ]
  },
  {
   "cell_type": "code",
   "execution_count": 29,
   "metadata": {
    "collapsed": false
   },
   "outputs": [
    {
     "data": {
      "text/plain": [
       "<matplotlib.text.Text at 0x114943908>"
      ]
     },
     "execution_count": 29,
     "metadata": {},
     "output_type": "execute_result"
    },
    {
     "data": {
      "image/png": "[encoded data removed]",
      "text/plain": [
       "<matplotlib.figure.Figure at 0x113ce5080>"
      ]
     },
     "metadata": {},
     "output_type": "display_data"
    }
   ],
   "source": [
    "plt.figure(figsize=(10, 7))\n",
    "colors = [cm.Vega10((y_) / max(y)) for y_ in y]\n",
    "plt.scatter(X_pca[:,0], X_pca[:,1], c=colors, s=30)\n",
    "plt.title(\"PCA visualization\")"
   ]
  },
  {
   "cell_type": "code",
   "execution_count": 30,
   "metadata": {
    "collapsed": false
   },
   "outputs": [],
   "source": [
    "lle = LocallyLinearEmbedding()\n",
    "X_lle = lle.fit_transform(X)"
   ]
  },
  {
   "cell_type": "code",
   "execution_count": 31,
   "metadata": {
    "collapsed": false
   },
   "outputs": [
    {
     "data": {
      "text/plain": [
       "<matplotlib.text.Text at 0x114b7af60>"
      ]
     },
     "execution_count": 31,
     "metadata": {},
     "output_type": "execute_result"
    },
    {
     "data": {
      "image/png": "[encoded data removed]",
      "text/plain": [
       "<matplotlib.figure.Figure at 0x114988ba8>"
      ]
     },
     "metadata": {},
     "output_type": "display_data"
    }
   ],
   "source": [
    "plt.figure(figsize=(10, 7))\n",
    "colors = [cm.Vega10((y_) / max(y)) for y_ in y]\n",
    "plt.scatter(X_lle[:,0], X_lle[:,1], c=colors, s=30)\n",
    "plt.title(\"LLE visualization\")"
   ]
  },
  {
   "cell_type": "code",
   "execution_count": 32,
   "metadata": {
    "collapsed": true
   },
   "outputs": [],
   "source": [
    "mds = MDS()\n",
    "X_mds = mds.fit_transform(X)"
   ]
  },
  {
   "cell_type": "code",
   "execution_count": 33,
   "metadata": {
    "collapsed": false
   },
   "outputs": [
    {
     "data": {
      "text/plain": [
       "<matplotlib.text.Text at 0x114d1d5c0>"
      ]
     },
     "execution_count": 33,
     "metadata": {},
     "output_type": "execute_result"
    },
    {
     "data": {
      "image/png": "[encoded data removed]",
      "text/plain": [
       "<matplotlib.figure.Figure at 0x114bba048>"
      ]
     },
     "metadata": {},
     "output_type": "display_data"
    }
   ],
   "source": [
    "plt.figure(figsize=(10, 7))\n",
    "colors = [cm.Vega10((y_) / max(y)) for y_ in y]\n",
    "plt.scatter(X_mds[:,0], X_mds[:,1], c=colors, s=30)\n",
    "plt.title(\"MDS visualization\")"
   ]
  },
  {
   "cell_type": "code",
   "execution_count": 34,
   "metadata": {
    "collapsed": true
   },
   "outputs": [],
   "source": [
    "se = SpectralEmbedding()\n",
    "X_se = se.fit_transform(X)"
   ]
  },
  {
   "cell_type": "code",
   "execution_count": 35,
   "metadata": {
    "collapsed": false,
    "scrolled": false
   },
   "outputs": [
    {
     "data": {
      "text/plain": [
       "<matplotlib.text.Text at 0x114db22e8>"
      ]
     },
     "execution_count": 35,
     "metadata": {},
     "output_type": "execute_result"
    },
    {
     "data": {
      "image/png": "[encoded data removed]",
      "text/plain": [
       "<matplotlib.figure.Figure at 0x114c08198>"
      ]
     },
     "metadata": {},
     "output_type": "display_data"
    }
   ],
   "source": [
    "plt.figure(figsize=(10, 7))\n",
    "colors = [cm.Vega10((y_) / max(y)) for y_ in y]\n",
    "plt.scatter(X_se[:,0], X_se[:,1], c=colors, s=30)\n",
    "plt.title(\"Spectral Embedding visualization\")"
   ]
  },
  {
   "cell_type": "code",
   "execution_count": 36,
   "metadata": {
    "collapsed": false
   },
   "outputs": [],
   "source": [
    "#it doesn't work -- I have no idea why.\n",
    "#the error is -- \"ValueError: array must not contain infs or NaNs\", but the array doesn't contain it\n",
    "\n",
    "tsne = TSNE()\n",
    "X_tsne = tsne.fit_transform(X)"
   ]
  },
  {
   "cell_type": "code",
   "execution_count": 37,
   "metadata": {
    "collapsed": false
   },
   "outputs": [
    {
     "data": {
      "text/plain": [
       "<matplotlib.text.Text at 0x114e037f0>"
      ]
     },
     "execution_count": 37,
     "metadata": {},
     "output_type": "execute_result"
    },
    {
     "data": {
      "image/png": "[encoded data removed]",
      "text/plain": [
       "<matplotlib.figure.Figure at 0x114988160>"
      ]
     },
     "metadata": {},
     "output_type": "display_data"
    }
   ],
   "source": [
    "plt.figure(figsize=(10, 7))\n",
    "colors = [cm.Vega10((y_) / max(y)) for y_ in y]\n",
    "plt.scatter(X_tsne[:,0], X_tsne[:,1], c=colors, s=30)\n",
    "plt.title(\"Spectral Embedding visualization\")"
   ]
  },
  {
   "cell_type": "markdown",
   "metadata": {},
   "source": [
    "I cannot see any clusters. Well, maybe the blue one only."
   ]
  },
  {
   "cell_type": "markdown",
   "metadata": {},
   "source": [
    "## Linear regression models using output produced by for different dimensionalities."
   ]
  },
  {
   "cell_type": "code",
   "execution_count": 6,
   "metadata": {
    "collapsed": false
   },
   "outputs": [],
   "source": [
    "models = [PCA(n_components=2), \n",
    "          PCA(n_components=3),\n",
    "          PCA(n_components=5),\n",
    "          LocallyLinearEmbedding(n_components=2),\n",
    "          LocallyLinearEmbedding(n_components=3), \n",
    "          LocallyLinearEmbedding(n_components=5),\n",
    "          MDS(n_components=2), \n",
    "          MDS(n_components=3), \n",
    "          MDS(n_components=5), \n",
    "          SpectralEmbedding(n_components=2),\n",
    "          SpectralEmbedding(n_components=3),\n",
    "          SpectralEmbedding(n_components=5)]\n",
    "\n",
    "rows = []\n",
    "for label in ['PCA', 'LLE', 'MDS', 'SE']:\n",
    "    for dim in [2, 3, 5]:\n",
    "        rows.append(label + \" dim \" + str(dim))\n",
    "        \n",
    "dims = [2, 3, 5] * 4\n",
    "models_labels = ['PCA'] * 3 + ['LLE'] * 3 + ['MDS'] * 3 + ['SE'] * 3\n",
    "columns = ['AIC score', 'BIC score']"
   ]
  },
  {
   "cell_type": "code",
   "execution_count": 14,
   "metadata": {
    "collapsed": false
   },
   "outputs": [],
   "source": [
    "values = np.zeros((12, 2))\n",
    "values_df = pd.DataFrame(data=values, index=rows, columns=columns)\n",
    "for i in range(len(models)):\n",
    "    model, dim = models[i], dims[i]\n",
    "    X_new = model.fit_transform(X)\n",
    "    AIC, BIC = all_scores(X_new, y, kfold=False)\n",
    "    values_df.loc[models_labels[i] + \" dim \" + str(dim), 'AIC score'] = AIC\n",
    "    values_df.loc[models_labels[i] + \" dim \" + str(dim), 'BIC score'] = BIC"
   ]
  },
  {
   "cell_type": "code",
   "execution_count": 15,
   "metadata": {
    "collapsed": false,
    "scrolled": false
   },
   "outputs": [
    {
     "data": {
      "text/html": [
       "<div>\n",
       "<table border=\"1\" class=\"dataframe\">\n",
       "  <thead>\n",
       "    <tr style=\"text-align: right;\">\n",
       "      <th></th>\n",
       "      <th>AIC score</th>\n",
       "      <th>BIC score</th>\n",
       "    </tr>\n",
       "  </thead>\n",
       "  <tbody>\n",
       "    <tr>\n",
       "      <th>PCA dim 2</th>\n",
       "      <td>232.573218</td>\n",
       "      <td>237.722640</td>\n",
       "    </tr>\n",
       "    <tr>\n",
       "      <th>PCA dim 3</th>\n",
       "      <td>216.841114</td>\n",
       "      <td>224.565247</td>\n",
       "    </tr>\n",
       "    <tr>\n",
       "      <th>PCA dim 5</th>\n",
       "      <td>218.698131</td>\n",
       "      <td>231.571686</td>\n",
       "    </tr>\n",
       "    <tr>\n",
       "      <th>LLE dim 2</th>\n",
       "      <td>264.214904</td>\n",
       "      <td>269.364326</td>\n",
       "    </tr>\n",
       "    <tr>\n",
       "      <th>LLE dim 3</th>\n",
       "      <td>233.686862</td>\n",
       "      <td>241.410995</td>\n",
       "    </tr>\n",
       "    <tr>\n",
       "      <th>LLE dim 5</th>\n",
       "      <td>238.449947</td>\n",
       "      <td>251.323501</td>\n",
       "    </tr>\n",
       "    <tr>\n",
       "      <th>MDS dim 2</th>\n",
       "      <td>231.329295</td>\n",
       "      <td>236.478717</td>\n",
       "    </tr>\n",
       "    <tr>\n",
       "      <th>MDS dim 3</th>\n",
       "      <td>217.911472</td>\n",
       "      <td>225.635605</td>\n",
       "    </tr>\n",
       "    <tr>\n",
       "      <th>MDS dim 5</th>\n",
       "      <td>216.826725</td>\n",
       "      <td>229.700280</td>\n",
       "    </tr>\n",
       "    <tr>\n",
       "      <th>SE dim 2</th>\n",
       "      <td>222.096325</td>\n",
       "      <td>227.245747</td>\n",
       "    </tr>\n",
       "    <tr>\n",
       "      <th>SE dim 3</th>\n",
       "      <td>219.607380</td>\n",
       "      <td>227.331513</td>\n",
       "    </tr>\n",
       "    <tr>\n",
       "      <th>SE dim 5</th>\n",
       "      <td>221.464952</td>\n",
       "      <td>234.338507</td>\n",
       "    </tr>\n",
       "  </tbody>\n",
       "</table>\n",
       "</div>"
      ],
      "text/plain": [
       "            AIC score   BIC score\n",
       "PCA dim 2  232.573218  237.722640\n",
       "PCA dim 3  216.841114  224.565247\n",
       "PCA dim 5  218.698131  231.571686\n",
       "LLE dim 2  264.214904  269.364326\n",
       "LLE dim 3  233.686862  241.410995\n",
       "LLE dim 5  238.449947  251.323501\n",
       "MDS dim 2  231.329295  236.478717\n",
       "MDS dim 3  217.911472  225.635605\n",
       "MDS dim 5  216.826725  229.700280\n",
       "SE dim 2   222.096325  227.245747\n",
       "SE dim 3   219.607380  227.331513\n",
       "SE dim 5   221.464952  234.338507"
      ]
     },
     "execution_count": 15,
     "metadata": {},
     "output_type": "execute_result"
    }
   ],
   "source": [
    "values_df"
   ]
  },
  {
   "cell_type": "code",
   "execution_count": 22,
   "metadata": {
    "collapsed": false
   },
   "outputs": [
    {
     "data": {
      "text/plain": [
       "AIC score    216.443478\n",
       "BIC score    224.167611\n",
       "dtype: float64"
      ]
     },
     "execution_count": 22,
     "metadata": {},
     "output_type": "execute_result"
    }
   ],
   "source": [
    "values_df.min()"
   ]
  },
  {
   "cell_type": "markdown",
   "metadata": {},
   "source": [
    "I have some problems with package: tSNE doesn't work. I know that it can work sometimes on other computers, so if yours can calculate tSNE transform for this data, please uncomment the code below."
   ]
  },
  {
   "cell_type": "code",
   "execution_count": 40,
   "metadata": {
    "collapsed": false
   },
   "outputs": [
    {
     "name": "stdout",
     "output_type": "stream",
     "text": [
      "             AIC score   BIC score\n",
      "PCA dim 2   216.449256  221.598678\n",
      "PCA dim 3   195.700509  203.424642\n",
      "PCA dim 5   194.606969  207.480524\n",
      "LLE dim 2   262.311559  267.460981\n",
      "LLE dim 3   262.649111  270.373244\n",
      "LLE dim 5   263.451989  276.325543\n",
      "MDS dim 2   218.706342  223.855764\n",
      "MDS dim 3   196.690769  204.414902\n",
      "MDS dim 5   194.315712  207.189267\n",
      "SE dim 2    215.719686  220.869108\n",
      "SE dim 3    216.127002  223.851135\n",
      "SE dim 5    218.366230  231.239785\n",
      "TSNE dim 2  261.943043  267.092465\n",
      "TSNE dim 3  264.216209  271.940342\n",
      "TSNE dim 5  258.067688  270.941243\n",
      "AIC score    194.315712\n",
      "BIC score    203.424642\n",
      "dtype: float64\n"
     ]
    }
   ],
   "source": [
    "#in case if tSNE worked well for you: uncomment this code please\n",
    "\n",
    "models = [PCA(n_components=2), \n",
    "          PCA(n_components=3),\n",
    "          PCA(n_components=5),\n",
    "          LocallyLinearEmbedding(n_components=2),\n",
    "          LocallyLinearEmbedding(n_components=3), \n",
    "          LocallyLinearEmbedding(n_components=5),\n",
    "          MDS(n_components=2), \n",
    "          MDS(n_components=3), \n",
    "          MDS(n_components=5), \n",
    "          SpectralEmbedding(n_components=2),\n",
    "          SpectralEmbedding(n_components=3),\n",
    "          SpectralEmbedding(n_components=5),\n",
    "          TSNE(n_components=2),\n",
    "          TSNE(n_components=3),\n",
    "          TSNE(n_components=5)]\n",
    "\n",
    "rows = []\n",
    "for label in ['PCA', 'LLE', 'MDS', 'SE', 'TSNE']:\n",
    "    for dim in [2, 3, 5]:\n",
    "        rows.append(label + \" dim \" + str(dim))\n",
    "        \n",
    "dims = [2, 3, 5] * 5\n",
    "models_labels = ['PCA'] * 3 + ['LLE'] * 3 + ['MDS'] * 3 + ['SE'] * 3 + ['TSNE'] * 3\n",
    "columns = ['AIC score', 'BIC score']\n",
    "\n",
    "\n",
    "values = np.zeros((15, 2))\n",
    "values_df = pd.DataFrame(data=values, index=rows, columns=columns)\n",
    "for i in range(len(models)):\n",
    "    model, dim = models[i], dims[i]\n",
    "    X_new = model.fit_transform(X)\n",
    "    AIC, BIC = all_scores(X_new, y, kfold=False)\n",
    "    values_df.loc[models_labels[i] + \" dim \" + str(dim), 'AIC score'] = AIC\n",
    "    values_df.loc[models_labels[i] + \" dim \" + str(dim), 'BIC score'] = BIC\n",
    "\n",
    "print(values_df)\n",
    "print(values_df.min())"
   ]
  },
  {
   "cell_type": "markdown",
   "metadata": {},
   "source": [
    "### Conclusion"
   ]
  },
  {
   "cell_type": "markdown",
   "metadata": {},
   "source": [
    "The best AIC and BIC scores are listed above (I've noticed that the results may change from time to time, so I do not write them exactly). \n",
    "However, the result is worse than in the case of combining the different predictors."
   ]
  },
  {
   "cell_type": "code",
   "execution_count": 41,
   "metadata": {
    "collapsed": false
   },
   "outputs": [
    {
     "name": "stdout",
     "output_type": "stream",
     "text": [
      "AIC score    194.315712\n",
      "BIC score    203.424642\n",
      "dtype: float64\n"
     ]
    }
   ],
   "source": [
    "print(values_df.min())"
   ]
  },
  {
   "cell_type": "code",
   "execution_count": null,
   "metadata": {
    "collapsed": true
   },
   "outputs": [],
   "source": []
  }
 ],
 "metadata": {
  "kernelspec": {
   "display_name": "Python 3",
   "language": "python",
   "name": "python3"
  },
  "language_info": {
   "codemirror_mode": {
    "name": "ipython",
    "version": 3
   },
   "file_extension": ".py",
   "mimetype": "text/x-python",
   "name": "python",
   "nbconvert_exporter": "python",
   "pygments_lexer": "ipython3",
   "version": "3.6.0"
  }
 },
 "nbformat": 4,
 "nbformat_minor": 2
}
