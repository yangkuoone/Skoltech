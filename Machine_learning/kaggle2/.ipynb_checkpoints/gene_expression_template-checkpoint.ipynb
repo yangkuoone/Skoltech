{
 "cells": [
  {
   "cell_type": "markdown",
   "metadata": {
    "deletable": true,
    "editable": true
   },
   "source": [
    "# Download train and test data from here\n",
    "https://inclass.kaggle.com/c/gene-expression-prediction/"
   ]
  },
  {
   "cell_type": "code",
   "execution_count": 25,
   "metadata": {
    "collapsed": false,
    "deletable": true,
    "editable": true
   },
   "outputs": [],
   "source": [
    "#coding: utf-8"
   ]
  },
  {
   "cell_type": "code",
   "execution_count": 1,
   "metadata": {
    "collapsed": false,
    "deletable": true,
    "editable": true
   },
   "outputs": [],
   "source": [
    "import numpy as np\n",
    "import os\n",
    "from sklearn.model_selection import train_test_split\n",
    "from sklearn.neighbors import KNeighborsClassifier\n",
    "from sklearn.metrics import roc_auc_score"
   ]
  },
  {
   "cell_type": "markdown",
   "metadata": {
    "deletable": true,
    "editable": true
   },
   "source": [
    "# Read data\n",
    "here the reader was prepared by @author: lingyu, hehu"
   ]
  },
  {
   "cell_type": "code",
   "execution_count": 27,
   "metadata": {
    "collapsed": false,
    "deletable": true,
    "editable": true
   },
   "outputs": [
    {
     "name": "stdout",
     "output_type": "stream",
     "text": [
      "Loading data...\n",
      "All files have been loaded.\n"
     ]
    }
   ],
   "source": [
    "data_path = \".\" # This folder holds the csv files\n",
    "\n",
    "# load csv files. We use np.loadtxt. Delimiter is \",\"\n",
    "# and the text-only header row will be skipped.\n",
    "\n",
    "print(\"Loading data...\")\n",
    "x_train = np.loadtxt(data_path + os.sep + \"x_train.csv\", \n",
    "                     delimiter = \",\", skiprows = 1)\n",
    "x_test  = np.loadtxt(data_path + os.sep + \"x_test.csv\", \n",
    "                     delimiter = \",\", skiprows = 1)    \n",
    "y_train = np.loadtxt(data_path + os.sep + \"y_train.csv\", \n",
    "                     delimiter = \",\", skiprows = 1)\n",
    "\n",
    "print(\"All files have been loaded.\")"
   ]
  },
  {
   "cell_type": "code",
   "execution_count": 28,
   "metadata": {
    "collapsed": true,
    "deletable": true,
    "editable": true
   },
   "outputs": [],
   "source": [
    "# remove the first column(Id)\n",
    "x_train = x_train[:,1:] \n",
    "x_test  = x_test[:,1:]   \n",
    "y_train = y_train[:,1:] "
   ]
  },
  {
   "cell_type": "code",
   "execution_count": 29,
   "metadata": {
    "collapsed": false,
    "deletable": true,
    "editable": true
   },
   "outputs": [
    {
     "name": "stdout",
     "output_type": "stream",
     "text": [
      "Train / test data has 15485 / 3871 genes.\n"
     ]
    }
   ],
   "source": [
    "# Every 100 rows correspond to one gene.\n",
    "# Extract all 100-row-blocks into a list using np.split.\n",
    "num_genes_train = x_train.shape[0] / 100\n",
    "num_genes_test  = x_test.shape[0] / 100\n",
    "\n",
    "print(\"Train / test data has %d / %d genes.\" % \\\n",
    "      (num_genes_train, num_genes_test))\n",
    "\n",
    "x_train = np.split(x_train, num_genes_train)\n",
    "x_test  = np.split(x_test, num_genes_test)"
   ]
  },
  {
   "cell_type": "code",
   "execution_count": 30,
   "metadata": {
    "collapsed": true,
    "deletable": true,
    "editable": true
   },
   "outputs": [],
   "source": [
    "# Reshape by raveling each 100x5 array into a 500-length vector\n",
    "x_train = [g.ravel() for g in x_train]\n",
    "x_test  = [g.ravel() for g in x_test]"
   ]
  },
  {
   "cell_type": "code",
   "execution_count": 31,
   "metadata": {
    "collapsed": true,
    "deletable": true,
    "editable": true
   },
   "outputs": [],
   "source": [
    "# convert data from list to array\n",
    "x_train = np.array(x_train)\n",
    "y_train = np.array(y_train)\n",
    "x_test  = np.array(x_test)\n",
    "y_train = np.ravel(y_train)"
   ]
  },
  {
   "cell_type": "code",
   "execution_count": 32,
   "metadata": {
    "collapsed": false,
    "deletable": true,
    "editable": true
   },
   "outputs": [
    {
     "name": "stdout",
     "output_type": "stream",
     "text": [
      "x_train shape is (15485, 500)\n",
      "y_train shape is (15485,)\n",
      "x_test shape is (3871, 500)\n",
      "Data preprocessing done...\n"
     ]
    }
   ],
   "source": [
    "# Now x_train should be 15485 x 500 and x_test 3871 x 500.\n",
    "# y_train is 15485-long vector.\n",
    "\n",
    "print(\"x_train shape is %s\" % str(x_train.shape))    \n",
    "print(\"y_train shape is %s\" % str(y_train.shape))\n",
    "print(\"x_test shape is %s\" % str(x_test.shape))\n",
    "\n",
    "print('Data preprocessing done...')"
   ]
  },
  {
   "cell_type": "markdown",
   "metadata": {
    "deletable": true,
    "editable": true
   },
   "source": [
    "# Play with the learned methods\n",
    "Using k-fold cross-validation compare the performance (train and prediction time, roc_auc_score, accuracy) of these ones:\n",
    "* LDA\n",
    "* QDA\n",
    "* Logistic Regression (with different regularizations)\n",
    "* xgboost"
   ]
  },
  {
   "cell_type": "code",
   "execution_count": 33,
   "metadata": {
    "collapsed": true,
    "deletable": true,
    "editable": true
   },
   "outputs": [],
   "source": [
    "# Your code here..."
   ]
  },
  {
   "cell_type": "code",
   "execution_count": null,
   "metadata": {
    "collapsed": true,
    "deletable": true,
    "editable": true
   },
   "outputs": [],
   "source": []
  },
  {
   "cell_type": "code",
   "execution_count": null,
   "metadata": {
    "collapsed": true,
    "deletable": true,
    "editable": true
   },
   "outputs": [],
   "source": []
  },
  {
   "cell_type": "code",
   "execution_count": null,
   "metadata": {
    "collapsed": true,
    "deletable": true,
    "editable": true
   },
   "outputs": [],
   "source": []
  },
  {
   "cell_type": "markdown",
   "metadata": {
    "deletable": true,
    "editable": true
   },
   "source": [
    "# Prepare a submission file for the best method\n",
    "## <font color='red'>There are only 2 submissions allowed per day, use them wisely</font>\n",
    "For example, try to submit a tuned Logistic Regression and xgboost Classifier"
   ]
  },
  {
   "cell_type": "code",
   "execution_count": null,
   "metadata": {
    "collapsed": false,
    "deletable": true,
    "editable": true
   },
   "outputs": [],
   "source": [
    "y_test_pred_proba = clf.predict_proba(x_test)[:, 1]\n",
    "with open('submission.csv', 'w') as out:\n",
    "    out.write('GeneId,Prediction\\n')\n",
    "    for i in range(len(y_test_pred_proba)):\n",
    "        out.write(str(i + 1) + ',' + ('%.5f' % y_test_pred_proba[i]) + '\\n')"
   ]
  },
  {
   "cell_type": "code",
   "execution_count": null,
   "metadata": {
    "collapsed": true,
    "deletable": true,
    "editable": true
   },
   "outputs": [],
   "source": []
  }
 ],
 "metadata": {
  "kernelspec": {
   "display_name": "Python 3",
   "language": "python",
   "name": "python3"
  },
  "language_info": {
   "codemirror_mode": {
    "name": "ipython",
    "version": 3
   },
   "file_extension": ".py",
   "mimetype": "text/x-python",
   "name": "python",
   "nbconvert_exporter": "python",
   "pygments_lexer": "ipython3",
   "version": "3.6.0"
  }
 },
 "nbformat": 4,
 "nbformat_minor": 0
}
