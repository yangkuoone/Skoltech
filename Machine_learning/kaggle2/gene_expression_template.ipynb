{
 "cells": [
  {
   "cell_type": "markdown",
   "metadata": {
    "deletable": true,
    "editable": true
   },
   "source": [
    "# Download train and test data from here\n",
    "https://inclass.kaggle.com/c/gene-expression-prediction/"
   ]
  },
  {
   "cell_type": "code",
   "execution_count": 11,
   "metadata": {
    "collapsed": false,
    "deletable": true,
    "editable": true
   },
   "outputs": [],
   "source": [
    "#coding: utf-8"
   ]
  },
  {
   "cell_type": "code",
   "execution_count": 12,
   "metadata": {
    "collapsed": false,
    "deletable": true,
    "editable": true
   },
   "outputs": [],
   "source": [
    "import numpy as np\n",
    "import os\n",
    "from sklearn.model_selection import train_test_split\n",
    "from sklearn.neighbors import KNeighborsClassifier\n",
    "from sklearn.metrics import roc_auc_score"
   ]
  },
  {
   "cell_type": "code",
   "execution_count": 13,
   "metadata": {
    "collapsed": true
   },
   "outputs": [],
   "source": [
    "from sklearn import metrics\n",
    "from sklearn.linear_model import LogisticRegression\n",
    "from sklearn.discriminant_analysis import LinearDiscriminantAnalysis as LDA, QuadraticDiscriminantAnalysis as QDA\n",
    "from sklearn.model_selection import train_test_split"
   ]
  },
  {
   "cell_type": "code",
   "execution_count": 14,
   "metadata": {
    "collapsed": false
   },
   "outputs": [],
   "source": [
    "from sklearn.decomposition import PCA, KernelPCA\n",
    "from xgboost import XGBClassifier"
   ]
  },
  {
   "cell_type": "markdown",
   "metadata": {
    "deletable": true,
    "editable": true
   },
   "source": [
    "# Read data\n",
    "here the reader was prepared by @author: lingyu, hehu"
   ]
  },
  {
   "cell_type": "code",
   "execution_count": 53,
   "metadata": {
    "collapsed": false,
    "deletable": true,
    "editable": true
   },
   "outputs": [
    {
     "name": "stdout",
     "output_type": "stream",
     "text": [
      "Loading data...\n",
      "All files have been loaded.\n"
     ]
    }
   ],
   "source": [
    "data_path = \"/Users/kl0niq/Documents/Skoltech/Machine_learning/kaggle2\" # This folder holds the csv files\n",
    "\n",
    "# load csv files. We use np.loadtxt. Delimiter is \",\"\n",
    "# and the text-only header row will be skipped.\n",
    "\n",
    "print(\"Loading data...\")\n",
    "x_train = np.loadtxt(data_path + os.sep + \"x_train.csv\", \n",
    "                     delimiter = \",\", skiprows = 1)\n",
    "x_test  = np.loadtxt(data_path + os.sep + \"x_test.csv\", \n",
    "                     delimiter = \",\", skiprows = 1)    \n",
    "y_train = np.loadtxt(data_path + os.sep + \"y_train.csv\", \n",
    "                     delimiter = \",\", skiprows = 1)\n",
    "\n",
    "print(\"All files have been loaded.\")"
   ]
  },
  {
   "cell_type": "code",
   "execution_count": 54,
   "metadata": {
    "collapsed": true,
    "deletable": true,
    "editable": true
   },
   "outputs": [],
   "source": [
    "# remove the first column(Id)\n",
    "x_train = x_train[:,1:] \n",
    "x_test  = x_test[:,1:]   \n",
    "y_train = y_train[:,1:] "
   ]
  },
  {
   "cell_type": "code",
   "execution_count": 56,
   "metadata": {
    "collapsed": false,
    "deletable": true,
    "editable": true
   },
   "outputs": [
    {
     "name": "stdout",
     "output_type": "stream",
     "text": [
      "Train / test data has 15485 / 3871 genes.\n"
     ]
    }
   ],
   "source": [
    "# Every 100 rows correspond to one gene.\n",
    "# Extract all 100-row-blocks into a list using np.split.\n",
    "num_genes_train = x_train.shape[0] / 100\n",
    "num_genes_test  = x_test.shape[0] / 100\n",
    "\n",
    "print(\"Train / test data has %d / %d genes.\" % \\\n",
    "      (num_genes_train, num_genes_test))\n",
    "\n",
    "x_train = np.split(x_train, num_genes_train)\n",
    "x_test  = np.split(x_test, num_genes_test)"
   ]
  },
  {
   "cell_type": "code",
   "execution_count": 57,
   "metadata": {
    "collapsed": true,
    "deletable": true,
    "editable": true
   },
   "outputs": [],
   "source": [
    "# Reshape by raveling each 100x5 array into a 500-length vector\n",
    "x_train = [g.ravel() for g in x_train]\n",
    "x_test  = [g.ravel() for g in x_test]"
   ]
  },
  {
   "cell_type": "code",
   "execution_count": 58,
   "metadata": {
    "collapsed": true,
    "deletable": true,
    "editable": true
   },
   "outputs": [],
   "source": [
    "# convert data from list to array\n",
    "x_train = np.array(x_train)\n",
    "y_train = np.array(y_train)\n",
    "x_test  = np.array(x_test)\n",
    "y_train = np.ravel(y_train)"
   ]
  },
  {
   "cell_type": "code",
   "execution_count": 59,
   "metadata": {
    "collapsed": false,
    "deletable": true,
    "editable": true
   },
   "outputs": [
    {
     "name": "stdout",
     "output_type": "stream",
     "text": [
      "x_train shape is (15485, 500)\n",
      "y_train shape is (15485,)\n",
      "x_test shape is (3871, 500)\n",
      "Data preprocessing done...\n"
     ]
    }
   ],
   "source": [
    "# Now x_train should be 15485 x 500 and x_test 3871 x 500.\n",
    "# y_train is 15485-long vector.\n",
    "\n",
    "print(\"x_train shape is %s\" % str(x_train.shape))    \n",
    "print(\"y_train shape is %s\" % str(y_train.shape))\n",
    "print(\"x_test shape is %s\" % str(x_test.shape))\n",
    "\n",
    "print('Data preprocessing done...')"
   ]
  },
  {
   "cell_type": "code",
   "execution_count": 60,
   "metadata": {
    "collapsed": false
   },
   "outputs": [],
   "source": [
    "x_train_train, x_train_test, y_train_train, y_train_test = train_test_split(x_train, y_train, train_size = 0.7)"
   ]
  },
  {
   "cell_type": "markdown",
   "metadata": {
    "deletable": true,
    "editable": true
   },
   "source": [
    "# Play with the learned methods\n",
    "Using k-fold cross-validation compare the performance (train and prediction time, roc_auc_score, accuracy) of these ones:\n",
    "* LDA\n",
    "* QDA\n",
    "* Logistic Regression (with different regularizations)\n",
    "* xgboost"
   ]
  },
  {
   "cell_type": "code",
   "execution_count": 67,
   "metadata": {
    "collapsed": true
   },
   "outputs": [],
   "source": [
    "def test_methods(X_train, X_test, y_train, y_test):\n",
    "    methods = [XGBClassifier(max_depth=10, n_estimators=500)]\n",
    "#     LDA(), QDA(), LogisticRegression(C=0.01, warm_start=True, penalty='l1'), \n",
    "    method_names = ['XGBOOST']\n",
    "#     'LDA', 'QDA', 'LR', \n",
    "    accuracies = []\n",
    "    roc_aucs = []\n",
    "    for i in range(len(methods)):\n",
    "        methods[i].fit(X_train, y_train)\n",
    "        y_pred = methods[i].predict(X_test)\n",
    "        y_prob = methods[i].predict_proba(X_test)[:, 1]\n",
    "        accuracies.append(metrics.accuracy_score(y_test, y_pred))\n",
    "        roc_aucs.append(metrics.roc_auc_score(y_test, y_prob))\n",
    "    print('accuracy:')\n",
    "    for i in range(len(methods)):\n",
    "        print(method_names[i], accuracies[i])\n",
    "    print('\\nroc_auc:')\n",
    "    for i in range(len(methods)):\n",
    "        print(method_names[i], roc_aucs[i])"
   ]
  },
  {
   "cell_type": "code",
   "execution_count": 68,
   "metadata": {
    "collapsed": false,
    "deletable": true,
    "editable": true
   },
   "outputs": [
    {
     "name": "stdout",
     "output_type": "stream",
     "text": [
      "accuracy:\n",
      "XGBOOST 0.854068015497\n",
      "\n",
      "roc_auc:\n",
      "XGBOOST 0.920419270846\n"
     ]
    }
   ],
   "source": [
    "test_methods(x_train_train, x_train_test, y_train_train, y_train_test)"
   ]
  },
  {
   "cell_type": "code",
   "execution_count": 69,
   "metadata": {
    "collapsed": false
   },
   "outputs": [
    {
     "data": {
      "text/plain": [
       "XGBClassifier(base_score=0.5, colsample_bylevel=1, colsample_bytree=1,\n",
       "       gamma=0, learning_rate=0.1, max_delta_step=0, max_depth=10,\n",
       "       min_child_weight=1, missing=None, n_estimators=500, nthread=-1,\n",
       "       objective='binary:logistic', reg_alpha=0, reg_lambda=1,\n",
       "       scale_pos_weight=1, seed=0, silent=True, subsample=1)"
      ]
     },
     "execution_count": 69,
     "metadata": {},
     "output_type": "execute_result"
    }
   ],
   "source": [
    "method = XGBClassifier(max_depth=10, n_estimators=500)\n",
    "method.fit(x_train, y_train)"
   ]
  },
  {
   "cell_type": "markdown",
   "metadata": {
    "deletable": true,
    "editable": true
   },
   "source": [
    "# Prepare a submission file for the best method\n",
    "## <font color='red'>There are only 2 submissions allowed per day, use them wisely</font>\n",
    "For example, try to submit a tuned Logistic Regression and xgboost Classifier"
   ]
  },
  {
   "cell_type": "code",
   "execution_count": 71,
   "metadata": {
    "collapsed": false,
    "deletable": true,
    "editable": true
   },
   "outputs": [],
   "source": [
    "y_test_pred_proba = method.predict_proba(x_test)[:, 1]\n",
    "with open('submission.csv', 'w') as out:\n",
    "    out.write('GeneId,Prediction\\n')\n",
    "    for i in range(len(y_test_pred_proba)):\n",
    "        out.write(str(i + 1) + ',' + ('%.5f' % y_test_pred_proba[i]) + '\\n')"
   ]
  },
  {
   "cell_type": "code",
   "execution_count": null,
   "metadata": {
    "collapsed": true,
    "deletable": true,
    "editable": true
   },
   "outputs": [],
   "source": []
  }
 ],
 "metadata": {
  "kernelspec": {
   "display_name": "Python 3",
   "language": "python",
   "name": "python3"
  },
  "language_info": {
   "codemirror_mode": {
    "name": "ipython",
    "version": 3
   },
   "file_extension": ".py",
   "mimetype": "text/x-python",
   "name": "python",
   "nbconvert_exporter": "python",
   "pygments_lexer": "ipython3",
   "version": "3.6.0"
  }
 },
 "nbformat": 4,
 "nbformat_minor": 0
}
