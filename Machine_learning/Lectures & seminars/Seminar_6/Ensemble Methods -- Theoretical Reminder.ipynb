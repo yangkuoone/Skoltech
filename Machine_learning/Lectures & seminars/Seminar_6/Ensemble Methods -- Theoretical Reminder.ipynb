{
 "cells": [
  {
   "cell_type": "markdown",
   "metadata": {
    "deletable": true,
    "editable": true,
    "slideshow": {
     "slide_type": "slide"
    }
   },
   "source": [
    "# Ensemble methods\n",
    "\n",
    "<!-- ### Bootstrap\n",
    "<img src=\"http://www.spg.tu-darmstadt.de/media/spg/pics/bootworld.jpg\"/> -->"
   ]
  },
  {
   "cell_type": "markdown",
   "metadata": {
    "deletable": true,
    "editable": true
   },
   "source": [
    "https://bit.ly/2kutBTH"
   ]
  },
  {
   "cell_type": "markdown",
   "metadata": {
    "deletable": true,
    "editable": true,
    "slideshow": {
     "slide_type": "slide"
    }
   },
   "source": [
    "### Bagging\n",
    "\n",
    "$$ \\hat{f}^{\\texttt{bag}}_T(x) = T^{-1}\\sum_{t=1}^T \\hat{f}^{*t}(x) $$\n",
    "\n",
    "* $\\hat{f}^{*t}$ is trained on **independent** bootstrap sample\n",
    "$S^{*t}$ of size $n$ from $S = (z_i)_{i=1}^m$.\n",
    "* Aggregation\n",
    "    * regression: averaging\n",
    "    * classification: majority vote $\\mathtt{maj}(w) = \\mathop{\\text{argmax}}_{k=1..K} w_k$"
   ]
  },
  {
   "cell_type": "markdown",
   "metadata": {
    "deletable": true,
    "editable": true,
    "slideshow": {
     "slide_type": "slide"
    }
   },
   "source": [
    "### AdaBoost: classification\n",
    "\n",
    "<img src=\"http://images.cnblogs.com/cnblogs_com/LeftNotEasy/201101/201101022146336801.png\" style=\"\"/>\n",
    "<!-- <img src=\"https://www.52ml.net/images/701aa1b168b39df8b0477e481a1febd8.png\"/> -->"
   ]
  },
  {
   "cell_type": "markdown",
   "metadata": {
    "deletable": true,
    "editable": true,
    "slideshow": {
     "slide_type": "skip"
    }
   },
   "source": [
    "<span style=\"color:red; font-weight:bolder;\">Note</span>:\n",
    "The picture shows $y_t(x)$ instead of $\\hat{h}_t(x)$, and $Y_M(x)$ instead of $\\hat{f}_T^{\\mathtt{ada}}(x)$"
   ]
  },
  {
   "cell_type": "markdown",
   "metadata": {
    "deletable": true,
    "editable": true,
    "slideshow": {
     "slide_type": "subslide"
    }
   },
   "source": [
    "$$ \\hat{f}_T^{\\mathtt{ada}}(x) = \\sum_{t=1}^T \\alpha_t \\hat{h}_t(x) $$\n",
    "\n",
    "Key steps:\n",
    "1. fit $\\hat{h}_t$ to $S$ with weights $(\\omega_{ti})_{i=1}^m$\n",
    "2. update $\\omega_{t+1,i} \\leftarrow\n",
    "    \\omega_{ti} \\text{exp}\\bigl( \\alpha_t 1_{\\{y_i\\neq \\hat{h}_t(x_i)\\}} \\bigr)$\n",
    "    * log-odds $\\alpha_t = \\log \\frac{1-\\epsilon_t}{\\epsilon_t}$\n",
    "    * error $\\epsilon_t = W_t^{-1} \\sum_{i\\,:\\,y_i\\neq \\hat{h}_t(x_i)} \\omega_{ti}$"
   ]
  },
  {
   "cell_type": "markdown",
   "metadata": {
    "deletable": true,
    "editable": true,
    "slideshow": {
     "slide_type": "slide"
    }
   },
   "source": [
    "## Gradient descent"
   ]
  },
  {
   "cell_type": "markdown",
   "metadata": {
    "deletable": true,
    "editable": true,
    "slideshow": {
     "slide_type": "subslide"
    }
   },
   "source": [
    "<center><img src=\"https://upload.wikimedia.org/wikipedia/commons/thumb/f/ff/Gradient_descent.svg/700px-Gradient_descent.svg.png\" style=\"width: 50%; height: 50%\"/></center>"
   ]
  },
  {
   "cell_type": "markdown",
   "metadata": {
    "deletable": true,
    "editable": true,
    "slideshow": {
     "slide_type": "slide"
    }
   },
   "source": [
    "## Gradient Boosting\n",
    "\n",
    "$$ \\hat{f}_T^{\\mathtt{GB}}(x) = f_0(x) + \\sum_{t=1}^T \\eta \\gamma_t \\hat{h}_t(x) $$"
   ]
  },
  {
   "cell_type": "markdown",
   "metadata": {
    "deletable": true,
    "editable": true,
    "slideshow": {
     "slide_type": "subslide"
    }
   },
   "source": [
    "`1`. **Descent direction**:\n",
    "$$ (\\hat{h}_t, \\beta_t)\n",
    "    \\leftarrow \\mathop{\\text{argmin}}_{h, \\beta}\n",
    "        \\sum_{i=1}^m \\bigl(r_{ti} - \\beta h(x_i) \\bigr)^2\n",
    "$$\n",
    "\n",
    "$$ r_{ti} = \\biggl.\n",
    "        - \\frac{\\partial}{\\partial g(x_i)} L\\bigl(y_i, g(x_i)\\bigr)\n",
    "    \\biggr\\rvert_{g=\\hat{f}_{t-1}^{\\mathtt{GB}}}\n",
    "    $$"
   ]
  },
  {
   "cell_type": "markdown",
   "metadata": {
    "deletable": true,
    "editable": true,
    "slideshow": {
     "slide_type": "subslide"
    }
   },
   "source": [
    "`2`. **Line search**:\n",
    "$$ \\gamma_t\n",
    "    \\leftarrow \\mathop{\\text{argmin}}_\\gamma\n",
    "        \\sum_{i=1}^m L\\bigl(y_i, \\hat{f}_{t-1}^{\\mathtt{GB}}(x_i) + \\gamma \\hat{h}_t(x_i)\\bigr)\n",
    "   $$\n",
    "\n",
    "* $\\hat{h}_t$ approximates the descent direction beyond its sample values\n",
    "and $\\hat{\\gamma}_t$ is the optimal stepsize for the loss at $\\hat{f}_{t-1}^{\\mathtt{GB}}$"
   ]
  },
  {
   "cell_type": "markdown",
   "metadata": {
    "deletable": true,
    "editable": true,
    "slideshow": {
     "slide_type": "slide"
    }
   },
   "source": [
    "## eXtreeme Gradient Boosting\n",
    "\n",
    "Implements **Gradient Boosting Regression Trees**\n",
    "* each $\\hat{h}_t$ is a regression tree $\\sum_{j=1}^J w_{tj} 1_{\\Pi_{tj}}(\\cdot)$ with weights\n",
    "$$ w_{tj} = \\mathop{\\text{argmin}}_w \\sum_{i\\,:\\,x_i\\in \\Pi_{tj}} L\\bigl(y_i, f_{t-1}(x_i) + w\\bigr) $$"
   ]
  },
  {
   "cell_type": "markdown",
   "metadata": {
    "deletable": true,
    "editable": true,
    "slideshow": {
     "slide_type": "subslide"
    }
   },
   "source": [
    "<img src=\"http://ww2.sinaimg.cn/orj480/5396ee05jw1f699aj0c5zj20sy087js2.jpg\"/>"
   ]
  },
  {
   "cell_type": "markdown",
   "metadata": {
    "deletable": true,
    "editable": true,
    "slideshow": {
     "slide_type": "subslide"
    }
   },
   "source": [
    "**XGBoost** a high performance GBRT library, which succeeds in almost any application\n",
    "\n",
    "* typcal loss functions\n",
    "* $l_1$ and $l_2$ regularization on leaf-weights\n",
    "* cost-complexity pruning of trees\n",
    "* random projections and bagging\n",
    "* Specialized tree growth procedure\n",
    "    * impurity based on the quadratic approximation"
   ]
  }
 ],
 "metadata": {
  "celltoolbar": "Slideshow",
  "kernelspec": {
   "display_name": "Python 3",
   "language": "python",
   "name": "python3"
  },
  "language_info": {
   "codemirror_mode": {
    "name": "ipython",
    "version": 3
   },
   "file_extension": ".py",
   "mimetype": "text/x-python",
   "name": "python",
   "nbconvert_exporter": "python",
   "pygments_lexer": "ipython3",
   "version": "3.6.0"
  }
 },
 "nbformat": 4,
 "nbformat_minor": 2
}
