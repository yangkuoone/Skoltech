{
 "cells": [
  {
   "cell_type": "markdown",
   "metadata": {},
   "source": [
    "### Goal \n",
    "Apply dimensionality reduction techniques to datasets and see the difference between PCA and KPCA."
   ]
  },
  {
   "cell_type": "markdown",
   "metadata": {},
   "source": [
    "#### Exercise 1\n",
    "* Load data using `sklearn.datasets.make_blobs` generator ([reference](http://scikit-learn.org/stable/modules/classes.html#samples)). Choose 1000 observations, and 100 dimension.  \n",
    "* Visualize data for the first two dimensions and color them according to their class. \n",
    "* Apply PCA so that 90% of the variance is explained. What is the number of principal components? \n",
    "* Visualize transformed data for the first 2 components. Is it linearly separable? \n",
    "* Apply KPCA with RBF kernel with 2 components. Plot data on first 2 components. Did it change a lot the picture? \n",
    "\n",
    "#### Exercise 2\n",
    "* Load data using `sklearn.datasets.make_circles` generator ([reference](http://scikit-learn.org/stable/modules/classes.html#samples)). Choose 1000 observations, noise=0.1, factor=0.3.  \n",
    "* Visualize data and color points them according to their class. \n",
    "* Apply PCA with 1 principal component. What is explained variance ratio? \n",
    "* Visualize transformed data for the first principal component. Is it linearly separable? \n",
    "* Apply KPCA with RBF kernel with 1 component. Use `for` loop to select the best `gamma` argument for RBF kernel (try range [1,10].). For this, plot projection of data on the first principal component. What is the first `gamma` when data become linearly separable?  "
   ]
  }
 ],
 "metadata": {
  "kernelspec": {
   "display_name": "Python 2",
   "language": "python",
   "name": "python2"
  },
  "language_info": {
   "codemirror_mode": {
    "name": "ipython",
    "version": 2
   },
   "file_extension": ".py",
   "mimetype": "text/x-python",
   "name": "python",
   "nbconvert_exporter": "python",
   "pygments_lexer": "ipython2",
   "version": "2.7.12"
  }
 },
 "nbformat": 4,
 "nbformat_minor": 0
}
