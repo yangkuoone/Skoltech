{
 "cells": [
  {
   "cell_type": "code",
   "execution_count": null,
   "metadata": {
    "collapsed": true
   },
   "outputs": [],
   "source": [
    "import numpy as np\n",
    "import pandas as pd\n",
    "import matplotlib.pyplot as plt\n",
    "import csv\n",
    "from matplotlib import cm\n",
    "from mpl_toolkits.mplot3d import Axes3D\n",
    "from time import time\n",
    "import copy as copy\n",
    "\n",
    "from sklearn.linear_model import LinearRegression\n",
    "from sklearn.model_selection import GridSearchCV, train_test_split, cross_val_score\n",
    "from sklearn.svm import SVC\n",
    "from sklearn.neural_network import MLPClassifier\n",
    "from sklearn.preprocessing import LabelEncoder, label_binarize\n",
    "from sklearn.decomposition import PCA, KernelPCA\n",
    "from sklearn.linear_model import LogisticRegression\n",
    "from sklearn.manifold import TSNE\n",
    "from sklearn.multiclass import OneVsRestClassifier, OutputCodeClassifier\n",
    "from sklearn.naive_bayes import GaussianNB, BernoulliNB\n",
    "from sklearn.discriminant_analysis import LinearDiscriminantAnalysis, QuadraticDiscriminantAnalysis\n",
    "from sklearn.ensemble import AdaBoostClassifier, RandomForestClassifier\n",
    "from sklearn.metrics import precision_recall_curve, f1_score, accuracy_score\n",
    "from imblearn.under_sampling import RandomUnderSampler"
   ]
  },
  {
   "cell_type": "code",
   "execution_count": null,
   "metadata": {
    "collapsed": false
   },
   "outputs": [],
   "source": [
    "data = pd.read_csv(open(\"diabetic_data.csv\"))\n",
    "# print('Columns', data.columns)\n",
    "data.drop('weight', axis=1, inplace=True)\n",
    "data.drop('payer_code', axis=1, inplace=True)\n",
    "data.drop('medical_specialty', axis=1, inplace=True)\n",
    "n_samples = data.shape[0]\n",
    "\n",
    "\n",
    "# In[18]:\n",
    "\n",
    "LE = LabelEncoder()\n",
    "\n",
    "s = 1\n",
    "for column in data.columns[:-1]:\n",
    "    LE.fit(data[column])\n",
    "    data[column] = s * LE.transform(data[column])\n",
    "\n",
    "\n",
    "med_col = data.columns[9:-1]\n",
    "drug_col = data.columns[21:-3]\n",
    "X_med = np.asarray(data[med_col])\n",
    "X_drug = np.asarray(data[drug_col])\n",
    "\n",
    "LE.fit(data['readmitted'])\n",
    "data['readmitted'] = LE.transform(data['readmitted'])\n",
    "\n",
    "X, y = np.asarray(data[data.columns[2:-1]]), np.asarray(data['readmitted'])\n",
    "\n",
    "\n",
    "# In[ ]:\n",
    "X_train, X_test, y_train, y_test = train_test_split(X, y, test_size=0.5, random_state=1, stratify=y)"
   ]
  },
  {
   "cell_type": "code",
   "execution_count": null,
   "metadata": {
    "collapsed": false
   },
   "outputs": [],
   "source": [
    "n_components = 2\n",
    "\n",
    "t0 = time()\n",
    "pca = PCA(n_components=n_components, svd_solver='randomized', whiten=True).fit(X_train)\n",
    "print(\"PCA is done in %0.3fs\" % (time() - t0))\n",
    "\n",
    "X_train_pca = pca.transform(X_train)\n",
    "file = open(file='PCA.txt', mode='w')\n",
    "np.savetxt('PCA.txt', X_train_pca)\n",
    "file.close()"
   ]
  },
  {
   "cell_type": "code",
   "execution_count": null,
   "metadata": {
    "collapsed": true
   },
   "outputs": [],
   "source": []
  }
 ],
 "metadata": {
  "kernelspec": {
   "display_name": "Python 3",
   "language": "python",
   "name": "python3"
  },
  "language_info": {
   "codemirror_mode": {
    "name": "ipython",
    "version": 3
   },
   "file_extension": ".py",
   "mimetype": "text/x-python",
   "name": "python",
   "nbconvert_exporter": "python",
   "pygments_lexer": "ipython3",
   "version": "3.6.0"
  }
 },
 "nbformat": 4,
 "nbformat_minor": 2
}
