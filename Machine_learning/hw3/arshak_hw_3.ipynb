{
 "cells": [
  {
   "cell_type": "markdown",
   "metadata": {
    "deletable": true,
    "editable": true
   },
   "source": [
    "## Assignment 3: Neural Networks\n",
    "\n",
    "\n",
    "In this task you will predict concrete compressive strength as a function of age and its ingredients using neural networks"
   ]
  },
  {
   "cell_type": "code",
   "execution_count": 87,
   "metadata": {
    "collapsed": false,
    "deletable": true,
    "editable": true
   },
   "outputs": [
    {
     "name": "stdout",
     "output_type": "stream",
     "text": [
      "Populating the interactive namespace from numpy and matplotlib\n"
     ]
    }
   ],
   "source": [
    "import pandas as pd\n",
    "import numpy as np\n",
    "\n",
    "from matplotlib import pyplot as plt\n",
    "from sklearn.model_selection import train_test_split\n",
    "from sklearn.neural_network import MLPRegressor\n",
    "%matplotlib notebook\n",
    "\n",
    "%pylab inline"
   ]
  },
  {
   "cell_type": "markdown",
   "metadata": {},
   "source": [
    "#### Load the dataset"
   ]
  },
  {
   "cell_type": "code",
   "execution_count": 76,
   "metadata": {
    "collapsed": false
   },
   "outputs": [
    {
     "name": "stdout",
     "output_type": "stream",
     "text": [
      "N features: 8\n",
      "N samples: 1030\n"
     ]
    }
   ],
   "source": [
    "data = pd.read_excel('Concrete_Data.xls')\n",
    "\n",
    "x = data.iloc[:, :-1].values\n",
    "y = data.iloc[:, -1].values\n",
    "print(\"N features: {}\\nN samples: {}\".format(x.shape[1], x.shape[0]))"
   ]
  },
  {
   "cell_type": "markdown",
   "metadata": {},
   "source": [
    "### Exercise 1\n",
    "\n",
    "* Using scikit-learn function train_test_split() split the data set randomly into train and test sets in ratio 3:1\n",
    "* Build a multilayer perceptron (using MLPRegressor from scikit-learn) with 1 hidden layer with sigmoid activation function, the top layer has one output with linear activation"
   ]
  },
  {
   "cell_type": "code",
   "execution_count": 77,
   "metadata": {
    "collapsed": false
   },
   "outputs": [
    {
     "data": {
      "text/plain": [
       "MLPRegressor(activation='logistic', alpha=0.0001, batch_size='auto',\n",
       "       beta_1=0.9, beta_2=0.999, early_stopping=False, epsilon=1e-08,\n",
       "       hidden_layer_sizes=(100,), learning_rate='constant',\n",
       "       learning_rate_init=0.001, max_iter=5000, momentum=0.9,\n",
       "       nesterovs_momentum=True, power_t=0.5, random_state=42, shuffle=True,\n",
       "       solver='lbfgs', tol=0.0001, validation_fraction=0.1, verbose=False,\n",
       "       warm_start=True)"
      ]
     },
     "execution_count": 77,
     "metadata": {},
     "output_type": "execute_result"
    }
   ],
   "source": [
    "# ============= Your code here =============\n",
    "# assign training and test sets to variables\n",
    "# x_train, x_test, y_train, y_test\n",
    "\n",
    "X_train, X_test, y_train, y_test = train_test_split(x, y, test_size=0.33, random_state=42)\n",
    "\n",
    "\n",
    "# ============= Your code here =============\n",
    "# train an MLP, assign an MLP model mlp varable\n",
    "mlp = MLPRegressor(activation='logistic', max_iter=5000, warm_start=True, \n",
    "                   random_state=42, solver='lbfgs')\n",
    "mlp.fit(X_train, y_train)"
   ]
  },
  {
   "cell_type": "code",
   "execution_count": 78,
   "metadata": {
    "collapsed": false
   },
   "outputs": [],
   "source": [
    "mlp.predict(X_test);"
   ]
  },
  {
   "cell_type": "code",
   "execution_count": 79,
   "metadata": {
    "collapsed": false
   },
   "outputs": [
    {
     "name": "stdout",
     "output_type": "stream",
     "text": [
      "Testing error: 0.30674216258\n"
     ]
    }
   ],
   "source": [
    "print \"Testing error:\", np.linalg.norm(mlp.predict(X_test) - y_test) / np.linalg.norm(y_test)"
   ]
  },
  {
   "cell_type": "markdown",
   "metadata": {},
   "source": [
    "### Exercise 2\n",
    "* Let p be a number of neurons in hidden layer. For $p \\in \\{1, 2, ..., 20\\}$ fit a neural network and calculate quality of approximation (mean absolute error, MAE) using test set x_test, y_test\n",
    "* Plot figure \"p vs. MAE\""
   ]
  },
  {
   "cell_type": "code",
   "execution_count": 91,
   "metadata": {
    "collapsed": false
   },
   "outputs": [],
   "source": [
    "# 1. Complete function calc_mae(y_pred, y_test):\n",
    "#    this function takes as arguments predicted\n",
    "#    values and actual values and returns MAE\n",
    "# 2. For each p in [1, 2, ... 20] fit an MLP and\n",
    "#    calculate MAE\n",
    "# 3. Plot figure \"p vs. MAE\"\n",
    "\n",
    "\n",
    "# ================ Your code here ================\n",
    "# 1. Complete function calc_mae(y_pred, y_test)\n",
    "def calc_mae(y_pred, y_test):\n",
    "    mae = np.linalg.norm(y_pred - y_test, 1) / len(y_pred)\n",
    "    return mae\n",
    "\n",
    "\n",
    "# ================= Your code here =================\n",
    "# 2. For each p in [1, 2, ... 20] fit an MLP and\n",
    "#    calculate MAE\n",
    "\n",
    "mae = np.zeros(20)\n",
    "for p in range(1, 21):\n",
    "    mlp = MLPRegressor(hidden_layer_sizes=(p), activation='logistic', max_iter=5000, warm_start=True, \n",
    "                   random_state=42, solver='lbfgs')\n",
    "    mlp.fit(X_train, y_train)\n",
    "    \n",
    "    mae[p - 1] = calc_mae(mlp.predict(X_test), y_test)\n"
   ]
  },
  {
   "cell_type": "code",
   "execution_count": 93,
   "metadata": {
    "collapsed": false
   },
   "outputs": [
    {
     "data": {
      "text/plain": [
       "array([ 13.54791269,  13.54791253,  13.54791253,  13.54791206,\n",
       "        10.58530412,  13.54791256,  13.40637962,  13.54791259,\n",
       "        13.54791723,  13.54791261,  13.54791241,  13.54791258,\n",
       "        13.54791261,  13.54791259,  13.54791259,  13.54791261,\n",
       "        13.54791261,  13.54791262,   9.66692376,  13.54791261])"
      ]
     },
     "execution_count": 93,
     "metadata": {},
     "output_type": "execute_result"
    }
   ],
   "source": [
    "mae"
   ]
  },
  {
   "cell_type": "code",
   "execution_count": 92,
   "metadata": {
    "collapsed": false,
    "scrolled": false
   },
   "outputs": [
    {
     "data": {
      "text/plain": [
       "<matplotlib.text.Text at 0x119848890>"
      ]
     },
     "execution_count": 92,
     "metadata": {},
     "output_type": "execute_result"
    },
    {
     "data": {
      "image/png": "[encoded data removed]",
      "text/plain": [
       "<matplotlib.figure.Figure at 0x1189bfa90>"
      ]
     },
     "metadata": {},
     "output_type": "display_data"
    }
   ],
   "source": [
    "# ================= Your code here =================\n",
    "# 3. Plot figure \"p vs. MAE\"\n",
    "p = range(1, 21)\n",
    "plt.plot(p, mae, '--')\n",
    "plt.ylabel('MAE')\n",
    "plt.xlabel(\"Number of hidden layers\")\n",
    "plt.title(\"Testing error (MAE) of MLP trained model\")"
   ]
  },
  {
   "cell_type": "markdown",
   "metadata": {},
   "source": [
    "We observe that the number of hidden layers that gives us the minimum MAE error is $5$. "
   ]
  },
  {
   "cell_type": "markdown",
   "metadata": {},
   "source": [
    "### Exercise 3\n",
    "\n",
    "During model fit\n",
    "* Random splitting of the training set into training set (used for parameters fitting) and validation set (used for stopping of fitting procedure) is used\n",
    "* The parameters of MLP are initialized randomly\n",
    "\n",
    "Due to these reasons the resulting MLP can vary from run to run.\n",
    "Therefore, to obtain more reliable results it is proposed to train ensemble of MLPs.\n",
    "Prediction of ensemble of MLPs is an average of predictions of all MLPs in ensemble\n",
    "\n",
    "Task\n",
    "* For chosen fixed number of neurons p* build an ensemble of MLPs of different sizes from 1 to 20\n",
    "* For each ensemble calculate MAE\n",
    "* Plot \"ensemble size vs. MAE\" figure: consider 2 cases:\n",
    "  1. the MLPs are added to the ensemble in random order\n",
    "  2. the MLPs are added to the ensemble in ascending order of the error on the training set"
   ]
  },
  {
   "cell_type": "code",
   "execution_count": 109,
   "metadata": {
    "collapsed": false
   },
   "outputs": [
    {
     "data": {
      "text/plain": [
       "<matplotlib.text.Text at 0x11ad49710>"
      ]
     },
     "execution_count": 109,
     "metadata": {},
     "output_type": "execute_result"
    },
    {
     "data": {
      "image/png": "[encoded data removed]",
      "text/plain": [
       "<matplotlib.figure.Figure at 0x119573690>"
      ]
     },
     "metadata": {},
     "output_type": "display_data"
    }
   ],
   "source": [
    "# ================ Your code here ================\n",
    "# 1. For chosen fixed number of neurons p* build\n",
    "# an ensemble of MLPs of different sizes\n",
    "# from 1 to 20\n",
    "p_star = 19\n",
    "\n",
    "ensemble_mae = np.zeros(20)\n",
    "for ensemble_size in range(1, 21):\n",
    "    mae_error = 0\n",
    "    for i in range(ensemble_size):\n",
    "        mlp = MLPRegressor(hidden_layer_sizes=(p_star), activation='logistic', \n",
    "                           max_iter=5000, warm_start=True, solver='lbfgs')\n",
    "        mlp.fit(X_train, y_train)\n",
    "        mae_error += calc_mae(mlp.predict(X_test), y_test)\n",
    "        size_ = i\n",
    "    ensemble_mae[ensemble_size - 1] = mae_error / size_\n",
    "\n",
    "p = range(1, 21)\n",
    "plt.plot(p, ensemble_mae, '--')\n",
    "plt.ylabel('Ensemble MAE')\n",
    "plt.xlabel(\"Number of ensemble models for p = 5\")\n",
    "plt.title(\"Testing error (MAE) of trained MLP\")\n",
    "\n",
    "# ================ Your code here ================\n",
    "# 2. For each ensemble calculate MAE\n",
    "\n",
    "\n",
    "# ================ Your code here ================\n",
    "# 3. Plot \"ensemble size vs. MAE\" figure: consider 2 cases:\n",
    "#   1. the MLPs are added to the ensemble in random order\n",
    "#   2. the MLPs are added to the ensemble in ascending order of the error on the training set"
   ]
  },
  {
   "cell_type": "code",
   "execution_count": 110,
   "metadata": {
    "collapsed": false
   },
   "outputs": [
    {
     "data": {
      "text/plain": [
       "array([         inf,  26.17823476,  20.3218746 ,  16.14698808,\n",
       "        15.47872776,  15.69274255,  15.55127594,  15.16026613,\n",
       "        14.79998025,  13.44216975,  14.38778238,  14.03883339,\n",
       "        14.56833391,  13.59641466,  13.78400465,  13.5640836 ,\n",
       "        13.62748202,  14.07209439,  13.79709978,  13.11606208])"
      ]
     },
     "execution_count": 110,
     "metadata": {},
     "output_type": "execute_result"
    }
   ],
   "source": [
    "ensemble_mae"
   ]
  },
  {
   "cell_type": "code",
   "execution_count": 98,
   "metadata": {
    "collapsed": false
   },
   "outputs": [
    {
     "data": {
      "text/plain": [
       "array([ 13.54791269,  13.54791253,  13.54791253,  13.54791206,\n",
       "        10.58530412,  13.54791256,  13.40637962,  13.54791259,\n",
       "        13.54791723,  13.54791261,  13.54791241,  13.54791258,\n",
       "        13.54791261,  13.54791259,  13.54791259,  13.54791261,\n",
       "        13.54791261,  13.54791262,   9.66692376,  13.54791261])"
      ]
     },
     "execution_count": 98,
     "metadata": {},
     "output_type": "execute_result"
    }
   ],
   "source": [
    "mae"
   ]
  },
  {
   "cell_type": "code",
   "execution_count": 105,
   "metadata": {
    "collapsed": false
   },
   "outputs": [
    {
     "data": {
      "text/plain": [
       "MLPRegressor(activation='logistic', alpha=0.0001, batch_size='auto',\n",
       "       beta_1=0.9, beta_2=0.999, early_stopping=False, epsilon=1e-08,\n",
       "       hidden_layer_sizes=5, learning_rate='constant',\n",
       "       learning_rate_init=0.001, max_iter=5000, momentum=0.9,\n",
       "       nesterovs_momentum=True, power_t=0.5, random_state=None,\n",
       "       shuffle=True, solver='lbfgs', tol=0.0001, validation_fraction=0.1,\n",
       "       verbose=False, warm_start=False)"
      ]
     },
     "execution_count": 105,
     "metadata": {},
     "output_type": "execute_result"
    }
   ],
   "source": [
    "mlp = MLPRegressor(hidden_layer_sizes=(p_star), activation='logistic', \n",
    "                           max_iter=5000, solver='lbfgs')\n",
    "mlp.fit(X_train, y_train)"
   ]
  },
  {
   "cell_type": "code",
   "execution_count": 106,
   "metadata": {
    "collapsed": false
   },
   "outputs": [
    {
     "data": {
      "text/plain": [
       "13.54790464850781"
      ]
     },
     "execution_count": 106,
     "metadata": {},
     "output_type": "execute_result"
    }
   ],
   "source": [
    "calc_mae(mlp.predict(X_test), y_test)"
   ]
  },
  {
   "cell_type": "code",
   "execution_count": null,
   "metadata": {
    "collapsed": true
   },
   "outputs": [],
   "source": []
  }
 ],
 "metadata": {
  "anaconda-cloud": {},
  "kernelspec": {
   "display_name": "Python 3",
   "language": "python",
   "name": "python3"
  },
  "language_info": {
   "codemirror_mode": {
    "name": "ipython",
    "version": 3
   },
   "file_extension": ".py",
   "mimetype": "text/x-python",
   "name": "python",
   "nbconvert_exporter": "python",
   "pygments_lexer": "ipython3",
   "version": "3.6.0"
  }
 },
 "nbformat": 4,
 "nbformat_minor": 2
}
