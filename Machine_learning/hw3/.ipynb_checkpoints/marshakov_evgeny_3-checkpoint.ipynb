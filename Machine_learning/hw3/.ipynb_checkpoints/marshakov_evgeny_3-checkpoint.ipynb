{
 "cells": [
  {
   "cell_type": "markdown",
   "metadata": {
    "deletable": true,
    "editable": true
   },
   "source": [
    "## Assignment 3: Neural Networks\n",
    "\n",
    "\n",
    "In this task you will predict concrete compressive strength as a function of age and its ingredients using neural networks"
   ]
  },
  {
   "cell_type": "code",
   "execution_count": 1,
   "metadata": {
    "collapsed": true,
    "deletable": true,
    "editable": true
   },
   "outputs": [],
   "source": [
    "import pandas as pd\n",
    "import numpy as np\n",
    "\n",
    "from matplotlib import pyplot as plt\n",
    "%matplotlib inline"
   ]
  },
  {
   "cell_type": "markdown",
   "metadata": {},
   "source": [
    "#### Load the dataset"
   ]
  },
  {
   "cell_type": "code",
   "execution_count": 2,
   "metadata": {
    "collapsed": false
   },
   "outputs": [
    {
     "name": "stdout",
     "output_type": "stream",
     "text": [
      "N features: 8\n",
      "N samples: 1030\n"
     ]
    }
   ],
   "source": [
    "data = pd.read_excel('Concrete_Data.xls')\n",
    "\n",
    "x = data.iloc[:, :-1].values\n",
    "y = data.iloc[:, -1].values\n",
    "print(\"N features: {}\\nN samples: {}\".format(x.shape[1], x.shape[0]))"
   ]
  },
  {
   "cell_type": "markdown",
   "metadata": {},
   "source": [
    "### Exercise 1\n",
    "\n",
    "* Using scikit-learn function train_test_split() split the data set randomly into train and test sets in ratio 3:1\n",
    "* Build a multilayer perceptron (using MLPRegressor from scikit-learn) with 1 hidden layer with sigmoid activation function, the top layer has one output with linear activation"
   ]
  },
  {
   "cell_type": "code",
   "execution_count": 3,
   "metadata": {
    "collapsed": true
   },
   "outputs": [],
   "source": [
    "from sklearn.model_selection import train_test_split"
   ]
  },
  {
   "cell_type": "code",
   "execution_count": 4,
   "metadata": {
    "collapsed": false
   },
   "outputs": [],
   "source": [
    "from sklearn.neural_network import MLPRegressor"
   ]
  },
  {
   "cell_type": "code",
   "execution_count": 5,
   "metadata": {
    "collapsed": false
   },
   "outputs": [
    {
     "data": {
      "text/plain": [
       "MLPRegressor(activation='logistic', alpha=0.0001, batch_size='auto',\n",
       "       beta_1=0.9, beta_2=0.999, early_stopping=False, epsilon=1e-08,\n",
       "       hidden_layer_sizes=(100,), learning_rate='constant',\n",
       "       learning_rate_init=0.001, max_iter=200, momentum=0.9,\n",
       "       nesterovs_momentum=True, power_t=0.5, random_state=1, shuffle=True,\n",
       "       solver='lbfgs', tol=0.0001, validation_fraction=0.1, verbose=False,\n",
       "       warm_start=False)"
      ]
     },
     "execution_count": 5,
     "metadata": {},
     "output_type": "execute_result"
    }
   ],
   "source": [
    "x_train, x_test, y_train, y_test = train_test_split(x, y, train_size=0.25, random_state=1)\n",
    "\n",
    "MLP = MLPRegressor(activation='logistic', solver='lbfgs', random_state=1)\n",
    "MLP.fit(x_train, y_train)"
   ]
  },
  {
   "cell_type": "markdown",
   "metadata": {},
   "source": [
    "### Exercise 2\n",
    "* Let p be a number of neurons in hidden layer. For $p \\in \\{1, 2, ..., 20\\}$ fit a neural network and calculate quality of approximation (mean absolute error, MAE) using test set x_test, y_test\n",
    "* Plot figure \"p vs. MAE\""
   ]
  },
  {
   "cell_type": "code",
   "execution_count": 6,
   "metadata": {
    "collapsed": false,
    "scrolled": false
   },
   "outputs": [],
   "source": [
    "# 1. Complete function calc_mae(y_pred, y_test):\n",
    "#    this function takes as arguments predicted\n",
    "#    values and actual values and returns MAE\n",
    "# 2. For each p in [1, 2, ... 20] fit an MLP and\n",
    "#    calculate MAE\n",
    "# 3. Plot figure \"p vs. MAE\"\n",
    "\n",
    "\n",
    "# ================ Your code here ================\n",
    "# 1. Complete function calc_mae(y_pred, y_test)\n",
    "def calc_mae(y_pred, y_test):\n",
    "    N = len(y_pred)\n",
    "    \n",
    "    mae = (np.abs(y_pred - y_test) / N).sum()\n",
    "    return mae\n",
    "\n",
    "\n",
    "# ================= Your code here =================\n",
    "# 2. For each p in [1, 2, ... 20] fit an MLP and\n",
    "#    calculate MAE\n",
    "MAEs = []\n",
    "for p in range(1, 21):\n",
    "    MLP = MLPRegressor(hidden_layer_sizes=(p), random_state=1, activation='logistic', solver='lbfgs')\n",
    "    MLP.fit(x_train, y_train)\n",
    "    y_pred = MLP.predict(x_test)\n",
    "    MAEs.append(calc_mae(y_pred, y_test))\n",
    "\n",
    "# ================= Your code here =================\n",
    "# 3. Plot figure \"p vs. MAE\""
   ]
  },
  {
   "cell_type": "code",
   "execution_count": 7,
   "metadata": {
    "collapsed": false,
    "scrolled": true
   },
   "outputs": [
    {
     "data": {
      "image/png": "[encoded data removed]",
      "text/plain": [
       "<matplotlib.figure.Figure at 0x115e82400>"
      ]
     },
     "metadata": {},
     "output_type": "display_data"
    }
   ],
   "source": [
    "plt.plot(range(1, 21, 1), MAEs)\n",
    "plt.xlabel('hidden layer size')\n",
    "plt.ylabel('MAE')\n",
    "plt.show()"
   ]
  },
  {
   "cell_type": "code",
   "execution_count": 8,
   "metadata": {
    "collapsed": true
   },
   "outputs": [],
   "source": [
    "p_star = np.argmin(MAEs) + 1"
   ]
  },
  {
   "cell_type": "markdown",
   "metadata": {},
   "source": [
    "### Exercise 3\n",
    "\n",
    "During model fit\n",
    "* Random splitting of the training set into training set (used for parameters fitting) and validation set (used for stopping of fitting procedure) is used\n",
    "* The parameters of MLP are initialized randomly\n",
    "\n",
    "Due to these reasons the resulting MLP can vary from run to run.\n",
    "Therefore, to obtain more reliable results it is proposed to train ensemble of MLPs.\n",
    "Prediction of ensemble of MLPs is an average of predictions of all MLPs in ensemble\n",
    "\n",
    "Task\n",
    "* For chosen fixed number of neurons p* build an ensemble of MLPs of different sizes from 1 to 20\n",
    "* For each ensemble calculate MAE\n",
    "* Plot \"ensemble size vs. MAE\" figure: consider 2 cases:\n",
    "  1. the MLPs are added to the ensemble in random order\n",
    "  2. the MLPs are added to the ensemble in ascending order of the error on the training set"
   ]
  },
  {
   "cell_type": "code",
   "execution_count": 17,
   "metadata": {
    "collapsed": false
   },
   "outputs": [],
   "source": [
    "# 1. For chosen fixed number of neurons p* build\n",
    "# an ensemble of MLPs of different sizes\n",
    "# from 1 to 20\n",
    "\n",
    "predictions = []\n",
    "mae_train = []\n",
    "for i in range(20):\n",
    "    MLP = MLPRegressor(hidden_layer_sizes=(p_star,), activation='logistic', solver='lbfgs')\n",
    "    MLP.fit(x_train, y_train)\n",
    "    predictions.append(MLP.predict(x_test))\n",
    "    mae_train.append(calc_mae(MLP.predict(x_train), y_train))\n",
    "\n",
    "sorted_mae_indicies = np.argsort(mae_train)\n",
    "\n",
    "# 2. For each ensemble calculate MAE\n",
    "\n",
    "mae = []\n",
    "for size in range(1, 21):\n",
    "    y_pred = sum(predictions[j] for j in range(size)) / size\n",
    "    mae.append(calc_mae(y_pred, y_test))\n",
    "    \n",
    "mae_sort = []\n",
    "for size in range(1, 21):\n",
    "    y_pred = sum(predictions[j] for j in sorted_mae_indicies[:size]) / size\n",
    "    mae_sort.append(calc_mae(y_pred, y_test))\n",
    "\n",
    "# 3. Plot \"ensemble size vs. MAE\" figure: consider 2 cases:\n",
    "#   1. the MLPs are added to the ensemble in random order\n",
    "#   2. the MLPs are added to the ensemble in ascending order of the error on the training set"
   ]
  },
  {
   "cell_type": "code",
   "execution_count": 18,
   "metadata": {
    "collapsed": false
   },
   "outputs": [
    {
     "data": {
      "image/png": "[encoded data removed]",
      "text/plain": [
       "<matplotlib.figure.Figure at 0x119f61198>"
      ]
     },
     "metadata": {},
     "output_type": "display_data"
    }
   ],
   "source": [
    "plt.plot(range(1, 21), mae, '--')\n",
    "plt.plot(range(1, 21), mae_sort, '--')\n",
    "plt.show()"
   ]
  },
  {
   "cell_type": "code",
   "execution_count": null,
   "metadata": {
    "collapsed": true
   },
   "outputs": [],
   "source": []
  }
 ],
 "metadata": {
  "kernelspec": {
   "display_name": "Python 3",
   "language": "python",
   "name": "python3"
  },
  "language_info": {
   "codemirror_mode": {
    "name": "ipython",
    "version": 3
   },
   "file_extension": ".py",
   "mimetype": "text/x-python",
   "name": "python",
   "nbconvert_exporter": "python",
   "pygments_lexer": "ipython3",
   "version": "3.6.0"
  }
 },
 "nbformat": 4,
 "nbformat_minor": 2
}
