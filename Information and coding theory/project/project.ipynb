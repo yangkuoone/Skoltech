{
 "cells": [
  {
   "cell_type": "code",
   "execution_count": 1,
   "metadata": {
    "collapsed": true
   },
   "outputs": [],
   "source": [
    "import pandas as pd\n",
    "import numpy as np\n",
    "import networkx as nx\n",
    "import scipy.linalg as linalg"
   ]
  },
  {
   "cell_type": "code",
   "execution_count": 34,
   "metadata": {
    "collapsed": false
   },
   "outputs": [],
   "source": [
    "edges1_str = pd.read_csv('sl27edges1.txt')\n",
    "edges1 = np.zeros((1008, 2))\n",
    "edges2_str = pd.read_csv('sl27edges2.txt')\n",
    "edges2 = np.zeros((1008, 2))"
   ]
  },
  {
   "cell_type": "code",
   "execution_count": 35,
   "metadata": {
    "collapsed": false
   },
   "outputs": [
    {
     "data": {
      "text/plain": [
       "array([[ 0.,  0.],\n",
       "       [ 0.,  0.],\n",
       "       [ 0.,  0.],\n",
       "       ..., \n",
       "       [ 0.,  0.],\n",
       "       [ 0.,  0.],\n",
       "       [ 0.,  0.]])"
      ]
     },
     "execution_count": 35,
     "metadata": {},
     "output_type": "execute_result"
    }
   ],
   "source": [
    "edges1"
   ]
  },
  {
   "cell_type": "code",
   "execution_count": 36,
   "metadata": {
    "collapsed": false
   },
   "outputs": [],
   "source": [
    "for i in range(1008):\n",
    "    edges1[i][0] = int(edges1_str['1'][i].replace('(', ''))\n",
    "    edges1[i][1] = int(edges1_str[' 2'][i].replace(')', ''))\n",
    "    edges2[i][0] = int(edges2_str['1'][i].replace('(', ''))\n",
    "    edges2[i][1] = int(edges2_str[' 2'][i].replace(')', ''))"
   ]
  },
  {
   "cell_type": "code",
   "execution_count": 37,
   "metadata": {
    "collapsed": false
   },
   "outputs": [],
   "source": [
    "adj_matrix1 = np.zeros((336, 336))\n",
    "adj_matrix2 = np.zeros((336, 336))\n",
    "zeros = np.zeros((336, 336))"
   ]
  },
  {
   "cell_type": "code",
   "execution_count": 38,
   "metadata": {
    "collapsed": false
   },
   "outputs": [],
   "source": [
    "for i in range(1008):\n",
    "    pair1 = edges1[i]\n",
    "    pair2 = edges2[i]\n",
    "    adj_matrix1[int(pair1[0]), int(pair1[1])] = 1\n",
    "    adj_matrix2[int(pair2[0]), int(pair2[1])] = 1"
   ]
  },
  {
   "cell_type": "code",
   "execution_count": 66,
   "metadata": {
    "collapsed": false
   },
   "outputs": [],
   "source": [
    "adj_bip_matrix = np.concatenate((adj_matrix1, adj_matrix2), axis=1)"
   ]
  },
  {
   "cell_type": "code",
   "execution_count": 67,
   "metadata": {
    "collapsed": false
   },
   "outputs": [],
   "source": [
    "np.savetxt('adj_bip_matrix.txt', adj_matrix)"
   ]
  },
  {
   "cell_type": "code",
   "execution_count": 69,
   "metadata": {
    "collapsed": true
   },
   "outputs": [],
   "source": [
    "adj_matrix012 = np.concatenate((zeros, adj_matrix1, adj_matrix2), axis=1)\n",
    "adj_matrix100 = np.concatenate((zeros, zeros, zeros), axis=1)\n",
    "adj_matrix200 = np.concatenate((zeros, zeros, zeros), axis=1)\n",
    "adj_matrix = np.concatenate((adj_matrix012, adj_matrix100, adj_matrix200), axis=0)"
   ]
  },
  {
   "cell_type": "code",
   "execution_count": 74,
   "metadata": {
    "collapsed": false
   },
   "outputs": [
    {
     "data": {
      "text/plain": [
       "336"
      ]
     },
     "execution_count": 74,
     "metadata": {},
     "output_type": "execute_result"
    }
   ],
   "source": [
    "np.linalg.matrix_rank(adj_bip_matrix)"
   ]
  },
  {
   "cell_type": "code",
   "execution_count": 71,
   "metadata": {
    "collapsed": false
   },
   "outputs": [],
   "source": [
    "g = nx.from_numpy_matrix(adj_matrix, create_using=nx.Graph())"
   ]
  },
  {
   "cell_type": "code",
   "execution_count": 72,
   "metadata": {
    "collapsed": false
   },
   "outputs": [
    {
     "data": {
      "text/plain": [
       "array([[613, 329, 986, 285], [657, 329, 986, 285, 908, 335],\n",
       "       [580, 257, 937, 329], ..., [367, 43, 940, 257],\n",
       "       [553, 229, 908, 335], [24, 657, 335, 898]], dtype=object)"
      ]
     },
     "execution_count": 72,
     "metadata": {},
     "output_type": "execute_result"
    }
   ],
   "source": [
    "np.array(nx.cycle_basis(g))"
   ]
  },
  {
   "cell_type": "code",
   "execution_count": null,
   "metadata": {
    "collapsed": false
   },
   "outputs": [],
   "source": [
    "min_len = 1008 \n",
    "for cycle in nx.simple_cycles(g):\n",
    "    if len(cycle) < min_len:\n",
    "        min"
   ]
  }
 ],
 "metadata": {
  "kernelspec": {
   "display_name": "Python 3",
   "language": "python",
   "name": "python3"
  },
  "language_info": {
   "codemirror_mode": {
    "name": "ipython",
    "version": 3
   },
   "file_extension": ".py",
   "mimetype": "text/x-python",
   "name": "python",
   "nbconvert_exporter": "python",
   "pygments_lexer": "ipython3",
   "version": "3.6.0"
  }
 },
 "nbformat": 4,
 "nbformat_minor": 2
}
