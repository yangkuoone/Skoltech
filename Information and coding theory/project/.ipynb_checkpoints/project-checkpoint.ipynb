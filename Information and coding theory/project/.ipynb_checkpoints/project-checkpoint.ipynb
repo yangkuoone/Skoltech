{
 "cells": [
  {
   "cell_type": "code",
   "execution_count": 1,
   "metadata": {
    "collapsed": true
   },
   "outputs": [],
   "source": [
    "import pandas as pd\n",
    "import numpy as np\n",
    "import networkx as nx\n",
    "import scipy.linalg as linalg"
   ]
  },
  {
   "cell_type": "code",
   "execution_count": 9,
   "metadata": {
    "collapsed": false
   },
   "outputs": [],
   "source": [
    "data = np.loadtxt('adj_matrix.txt')\n",
    "n = 56"
   ]
  },
  {
   "cell_type": "code",
   "execution_count": 64,
   "metadata": {
    "collapsed": false
   },
   "outputs": [],
   "source": [
    "adj_matrix = np.zeros((n, n))\n",
    "\n",
    "for i in range(n):\n",
    "    for j in range(n):\n",
    "        adj_matrix[i][j] = data[i * n + j]"
   ]
  },
  {
   "cell_type": "code",
   "execution_count": 37,
   "metadata": {
    "collapsed": false
   },
   "outputs": [],
   "source": [
    "G = nx.from_numpy_matrix(adj_matrix)\n",
    "k = len(G.edges())"
   ]
  },
  {
   "cell_type": "code",
   "execution_count": 33,
   "metadata": {
    "collapsed": false
   },
   "outputs": [],
   "source": [
    "num_adj_matrix = np.zeros((n, n))\n",
    "k = 1\n",
    "for i in range(n):\n",
    "    for j in range(i, n):\n",
    "        if adj_matrix[i][j] == 1:\n",
    "            num_adj_matrix[i][j] = k\n",
    "            k += 1\n",
    "\n",
    "num_adj_matrix += num_adj_matrix.T\n",
    "G_num = nx.from_numpy_matrix(num_adj_matrix)"
   ]
  },
  {
   "cell_type": "code",
   "execution_count": 48,
   "metadata": {
    "collapsed": false
   },
   "outputs": [],
   "source": [
    "bip_adj_matrix = np.zeros((n+k, n+k))"
   ]
  },
  {
   "cell_type": "code",
   "execution_count": 49,
   "metadata": {
    "collapsed": false
   },
   "outputs": [],
   "source": [
    "for i in range(len(G.edges())):\n",
    "    edge = G.edges()[i]\n",
    "    bip_adj_matrix[edge[0]][n + i] = 1\n",
    "    bip_adj_matrix[edge[1]][n + i] = 1\n",
    "\n",
    "bip_adj_matrix += bip_adj_matrix.T"
   ]
  },
  {
   "cell_type": "code",
   "execution_count": 57,
   "metadata": {
    "collapsed": false
   },
   "outputs": [],
   "source": [
    "eigenvalues = np.sort(linalg.eigvals(bip_adj_matrix))"
   ]
  },
  {
   "cell_type": "code",
   "execution_count": null,
   "metadata": {
    "collapsed": true
   },
   "outputs": [],
   "source": []
  },
  {
   "cell_type": "code",
   "execution_count": null,
   "metadata": {
    "collapsed": true
   },
   "outputs": [],
   "source": []
  },
  {
   "cell_type": "code",
   "execution_count": 2,
   "metadata": {
    "collapsed": false
   },
   "outputs": [],
   "source": [
    "edges1_str = pd.read_csv('sl27edges1.txt')\n",
    "edges1 = np.zeros((1008, 2))\n",
    "edges2_str = pd.read_csv('sl27edges2.txt')\n",
    "edges2 = np.zeros((1008, 2))"
   ]
  },
  {
   "cell_type": "code",
   "execution_count": 3,
   "metadata": {
    "collapsed": false
   },
   "outputs": [],
   "source": [
    "for i in range(1008):\n",
    "    edges1[i][0] = int(edges1_str['1'][i].replace('(', ''))\n",
    "    edges1[i][1] = int(edges1_str[' 2'][i].replace(')', ''))\n",
    "    edges2[i][0] = int(edges2_str['1'][i].replace('(', ''))\n",
    "    edges2[i][1] = int(edges2_str[' 2'][i].replace(')', ''))"
   ]
  },
  {
   "cell_type": "code",
   "execution_count": 7,
   "metadata": {
    "collapsed": false
   },
   "outputs": [],
   "source": [
    "adj_matrix1 = np.zeros((336, 336))\n",
    "adj_matrix2 = np.zeros((336, 336))\n",
    "zeros = np.zeros((336, 336))"
   ]
  },
  {
   "cell_type": "code",
   "execution_count": 19,
   "metadata": {
    "collapsed": false
   },
   "outputs": [],
   "source": [
    "for i in range(1008):\n",
    "    pair1 = edges1[i]\n",
    "    pair2 = edges2[i]\n",
    "    adj_matrix1[int(pair1[0]), int(pair1[1])] = 1\n",
    "    adj_matrix2[int(pair2[0]), int(pair2[1])] = 1"
   ]
  },
  {
   "cell_type": "code",
   "execution_count": 20,
   "metadata": {
    "collapsed": false
   },
   "outputs": [],
   "source": [
    "adj_matrix012 = np.concatenate((zeros, adj_matrix1, adj_matrix2), axis=1)\n",
    "adj_matrix100 = np.concatenate((adj_matrix1, zeros, zeros), axis=1)\n",
    "adj_matrix200 = np.concatenate((adj_matrix2, zeros, zeros), axis=1)\n",
    "adj_matrix = np.concatenate((adj_matrix012, adj_matrix100, adj_matrix200), axis=0)"
   ]
  },
  {
   "cell_type": "code",
   "execution_count": 29,
   "metadata": {
    "collapsed": false
   },
   "outputs": [],
   "source": [
    "LDPC_matrix = np.zeros((1008, 2016))"
   ]
  },
  {
   "cell_type": "code",
   "execution_count": null,
   "metadata": {
    "collapsed": true
   },
   "outputs": [],
   "source": []
  }
 ],
 "metadata": {
  "kernelspec": {
   "display_name": "Python 3",
   "language": "python",
   "name": "python3"
  },
  "language_info": {
   "codemirror_mode": {
    "name": "ipython",
    "version": 3
   },
   "file_extension": ".py",
   "mimetype": "text/x-python",
   "name": "python",
   "nbconvert_exporter": "python",
   "pygments_lexer": "ipython3",
   "version": "3.6.0"
  }
 },
 "nbformat": 4,
 "nbformat_minor": 2
}
