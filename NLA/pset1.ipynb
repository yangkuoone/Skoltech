{
 "cells": [
  {
   "cell_type": "markdown",
   "metadata": {},
   "source": [
    "# Problem 0\n",
    "\n",
    "### You will get 0 for the whole pset unless you finish this problem :)\n",
    "\n",
    "You were invited to Piazza, where you can find [announcement](https://piazza.com/class/iuiaquv3t0y6vy?cid=8) on the course project. In case you didn't get an invitation to your @skoltech.ru email from Piazza, ask TA to set you up there. \n",
    "* Register in Piazza with your @skoltech.ru email.\n",
    "* Find a post with [homework rules](https://piazza.com/class/iuiaquv3t0y6vy?cid=9) on piazza and read it carefully. <font color='red'>If you do not follow it you will likely be penalized.</font>\n",
    "* Write a private post to TA in Piazza describing your background in mathematics (e.g. courses you took and enjoyed, etc). "
   ]
  },
  {
   "cell_type": "code",
   "execution_count": null,
   "metadata": {
    "collapsed": false
   },
   "outputs": [],
   "source": []
  },
  {
   "cell_type": "markdown",
   "metadata": {},
   "source": [
    "# Problem 1 (Python demo)\n",
    "\n",
    "## 45 pts\n",
    "\n",
    "## Data preparation\n",
    "\n",
    "* First of all download $\\verb|.wav|$ file with starcraft sound from [here](TMaRdy00.wav). Load it in python and play using functions from [demo](bss1.ipynb).\n",
    "\n",
    "Our next goal is to process this signal by multiplying it by a special type of matrix (convolution operation) that will smooth the signal. \n",
    "\n",
    "* Before processing this file let us estimate what size of matrix we can afford. Let $N$ be the size of the signal. Estimate analytically memory in megabytes required to store dense square matrix of size $N\\times N$ to fit in your operation memory and print this number. Cut the signal so that you will not have swap (overflow of the operation memory). **Note:** Cut the signal by taking every p-th number in array: ```signal[::p]```. \n",
    "\n",
    "\n",
    "* Write function ```gen_toeplitz```($N,\\alpha$) that outputs matrix $T$: $$T_{ij} = \\sqrt{\\frac{\\alpha}{\\pi}}e^{-\\alpha (i-j)^2}, \\quad i,j=1,\\dots,N$$ as numpy array. Avoid using loops or lists! The function [scipy.linalg.toeplitz](http://docs.scipy.org/doc/scipy-0.14.0/reference/generated/scipy.linalg.toeplitz.html) might be helpful for this task.\n",
    "**Note:** matrices that depend only on difference of indices: $T_{ij} \\equiv T_{i-j}$ are called **Toeplitz**. Toeplitz matrix-by-vector multiplication is **convolution** since it can be written as $y_i = \\sum_{j=1}^N T_{i-j} x_j$. It can be done faster than $\\mathcal{O}(N^2)$ complexity using Fast Fourier transform (will be covered later in our course, no need to implement it here).\n",
    "\n",
    "## Convolution\n",
    "\n",
    "* Multiply matrix $T$ by your signal (for matvec operations use $\\verb|numpy|$ package). Plot the first $100$ points of the result and the first $100$ points of your signal on the same figure. Do the same plots for $\\alpha = \\frac{1}{5}$, $\\alpha = \\frac{1}{100}$ using ```plt.subplots``` in matplotlib. Make sure that you got results that look like slighly smoothed initial signal.\n",
    "\n",
    "\n",
    "* Play the resulting signal. In order to do so format your array into $\\verb|int16|$ before playing by using\n",
    "```python\n",
    "your_array = your_array.astype(np.int16)\n",
    "```\n",
    "\n",
    "## Recovering signal from its convolution\n",
    "\n",
    "Given convolved signal $y$ and initial signal $x$ our goal now is to recover $x$ by solving the system\n",
    "$$\n",
    "    y = Tx.\n",
    "$$\n",
    "To do so we will run iterative process\n",
    "$$\n",
    "    x_{k+1} = x_{k} - \\tau_k (Tx_k - y), \\quad k=1,2,\\dots\n",
    "$$\n",
    "starting from zero vector $x_0$. There are different ways how to define parameters $\\tau_k$.\n",
    "Different choices lead to different methods (e.g. Richardson iteration, Chebyshev iteration, etc.).\n",
    "This topic will be covered in details later in our course.\n",
    "\n",
    "To get some intuition why this process converges to the solution of $Tx=y$ we can have the following considerations. Let us note that if  $x_k$ converges to some limit $x$, then so does $x_{k+1}$ and taking $k\\to \\infty$ we arrive at $x = x - \\tau (Tx -  y)$ and hence $x$ is the solution of $Tx = y$. \n",
    "\n",
    "Another important point is that iterative process require only matrix-vector porducts $Tx_k$ on each iteration instead of the whole matrix. In this problem we, however, work with the full matrix, but keep in mind, that convolution can be done efficiently without storing the whole matrix.\n",
    "\n",
    "* For each $k$ choose paremeter $\\tau_k$ such that the residual $r_{k+1}=Tx_{k+1} - y$ is minimal possible (*line search* with search direction $r_k$):\n",
    "$$\n",
    "    \\|Tx_{k+1} - y\\|_2 \\to \\min_{\\tau_k}\n",
    "$$\n",
    "found analytically. The answer to this bullet is derivation of $\\tau_k$. $\\tau_k$ should be expressed in terms of residuals $r_k = T x_k - y$.\n",
    "\n",
    "* Write a function ```iterative(N, num_iter,``` $\\alpha$) that outputs accuracy numpy array of relative errors $\\big\\{\\frac{\\|x_{k+1} - x\\|}{\\|x\\|}\\big\\}$ after ```num_iter``` iterations using $\\tau_k$ from the previous task. Set ```num_iter=1000``` and do a convergence plot for $\\alpha = \\frac{1}{2}$ and $\\alpha = \\frac{1}{5}$. **Note:** The only loop you are allowed to use here is a loop for $k$.\n",
    "\n",
    "* Explain what happens with the convergence if you add small random noise to $y$. The answer to this question should be an explanation supported by plots and/or tables."
   ]
  },
  {
   "cell_type": "code",
   "execution_count": 2,
   "metadata": {
    "code_folding": [
     0
    ],
    "collapsed": false
   },
   "outputs": [],
   "source": [
    "#Tech stuff\n",
    "from scipy.io import wavfile\n",
    "from scipy.signal import resample\n",
    "import numpy as np\n",
    "%matplotlib inline\n",
    "import sys\n",
    "def load_wav(filename,samplerate=44100):\n",
    "    \n",
    "    # load file\n",
    "    rate, data = wavfile.read(filename)\n",
    "\n",
    "    # convert stereo to mono\n",
    "    if len(data.shape) > 1:\n",
    "        data = data[:,0]/2 + data[:,1]/2\n",
    "\n",
    "    # re-interpolate samplerate    \n",
    "    ratio = float(samplerate) / float(rate)\n",
    "    data = resample(data, len(data) * ratio)\n",
    "    \n",
    "    return samplerate, data.astype(np.int16)\n",
    "\n",
    "\n",
    "#Reading the wavefile\n",
    "import StringIO\n",
    "\n",
    "import base64\n",
    "import struct  \n",
    "\n",
    "from IPython.core.display import HTML\n",
    "from IPython.core.display import display\n",
    "def wavPlayer(data, rate):\n",
    "    \"\"\" will display html 5 player for compatible browser\n",
    "    The browser need to know how to play wav through html5.\n",
    "    there is no autoplay to prevent file playing when the browser opens\n",
    "    Adapted from SciPy.io. and\n",
    "    github.com/Carreau/posts/blob/master/07-the-sound-of-hydrogen.ipynb\n",
    "    \"\"\"\n",
    "    \n",
    "    buffer = StringIO.StringIO()\n",
    "    buffer.write(b'RIFF')\n",
    "    buffer.write(b'\\x00\\x00\\x00\\x00')\n",
    "    buffer.write(b'WAVE')\n",
    "\n",
    "    buffer.write(b'fmt ')\n",
    "    if data.ndim == 1:\n",
    "        noc = 1\n",
    "    else:\n",
    "        noc = data.shape[1]\n",
    "    bits = data.dtype.itemsize * 8\n",
    "    sbytes = rate*(bits // 8)*noc\n",
    "    ba = noc * (bits // 8)\n",
    "    buffer.write(struct.pack('<ihHIIHH', 16, 1, noc, rate, sbytes, ba, bits))\n",
    "\n",
    "    # data chunk\n",
    "    buffer.write(b'data')\n",
    "    buffer.write(struct.pack('<i', data.nbytes))\n",
    "\n",
    "    if data.dtype.byteorder == '>' or (data.dtype.byteorder == '=' and sys.byteorder == 'big'):\n",
    "        data = data.byteswap()\n",
    "\n",
    "    buffer.write(data.tostring())\n",
    "    # return buffer.getvalue()\n",
    "    # Determine file size and place it in correct\n",
    "    # position at start of the file.\n",
    "    size = buffer.tell()\n",
    "    buffer.seek(4)\n",
    "    buffer.write(struct.pack('<i', size-8))\n",
    "    \n",
    "    val = buffer.getvalue()\n",
    "    \n",
    "    src = \"\"\"\n",
    "    <head>\n",
    "    <meta http-equiv=\"Content-Type\" content=\"text/html; charset=utf-8\">\n",
    "    <title>Simple Test</title>\n",
    "    </head>\n",
    "    \n",
    "    <body>\n",
    "    <audio controls=\"controls\" style=\"width:600px\" >\n",
    "      <source controls src=\"data:audio/wav;base64,{base64}\" type=\"audio/wav\" />\n",
    "      Your browser does not support the audio element.\n",
    "    </audio>\n",
    "    </body>\n",
    "    \"\"\".format(base64=base64.encodestring(val))\n",
    "    display(HTML(src))"
   ]
  },
  {
   "cell_type": "code",
   "execution_count": 3,
   "metadata": {
    "collapsed": false
   },
   "outputs": [],
   "source": [
    "import matplotlib.pyplot as plt"
   ]
  },
  {
   "cell_type": "code",
   "execution_count": 4,
   "metadata": {
    "collapsed": false
   },
   "outputs": [
    {
     "ename": "NameError",
     "evalue": "name 'fs1' is not defined",
     "output_type": "error",
     "traceback": [
      "\u001b[0;31m---------------------------------------------------------------------------\u001b[0m",
      "\u001b[0;31mNameError\u001b[0m                                 Traceback (most recent call last)",
      "\u001b[0;32m<ipython-input-4-bf49c5b51935>\u001b[0m in \u001b[0;36m<module>\u001b[0;34m()\u001b[0m\n\u001b[0;32m----> 1\u001b[0;31m \u001b[0mfs1\u001b[0m\u001b[1;33m*\u001b[0m\u001b[1;36m1.0\u001b[0m\u001b[1;33m/\u001b[0m\u001b[1;36m18\u001b[0m\u001b[1;33m\u001b[0m\u001b[0m\n\u001b[0m",
      "\u001b[0;31mNameError\u001b[0m: name 'fs1' is not defined"
     ]
    }
   ],
   "source": [
    "fs1*1.0/18"
   ]
  },
  {
   "cell_type": "code",
   "execution_count": 5,
   "metadata": {
    "collapsed": false
   },
   "outputs": [
    {
     "ename": "IOError",
     "evalue": "[Errno 2] No such file or directory: 'Sample.wav'",
     "output_type": "error",
     "traceback": [
      "\u001b[0;31m---------------------------------------------------------------------------\u001b[0m",
      "\u001b[0;31mIOError\u001b[0m                                   Traceback (most recent call last)",
      "\u001b[0;32m<ipython-input-5-9cce192cc173>\u001b[0m in \u001b[0;36m<module>\u001b[0;34m()\u001b[0m\n\u001b[0;32m----> 1\u001b[0;31m \u001b[0mfs1\u001b[0m\u001b[1;33m,\u001b[0m \u001b[0ms1\u001b[0m \u001b[1;33m=\u001b[0m \u001b[0mload_wav\u001b[0m\u001b[1;33m(\u001b[0m\u001b[1;34m'Sample.wav'\u001b[0m\u001b[1;33m)\u001b[0m\u001b[1;33m\u001b[0m\u001b[0m\n\u001b[0m\u001b[1;32m      2\u001b[0m \u001b[0mwavPlayer\u001b[0m\u001b[1;33m(\u001b[0m\u001b[0ms1\u001b[0m\u001b[1;33m[\u001b[0m\u001b[1;33m:\u001b[0m\u001b[1;33m:\u001b[0m\u001b[1;36m12\u001b[0m\u001b[1;33m]\u001b[0m\u001b[1;33m,\u001b[0m \u001b[0mfs1\u001b[0m\u001b[1;33m/\u001b[0m\u001b[1;36m12\u001b[0m\u001b[1;33m)\u001b[0m\u001b[1;33m\u001b[0m\u001b[0m\n",
      "\u001b[0;32m<ipython-input-2-830c6d44fbe4>\u001b[0m in \u001b[0;36mload_wav\u001b[0;34m(filename, samplerate)\u001b[0m\n\u001b[1;32m      8\u001b[0m \u001b[1;33m\u001b[0m\u001b[0m\n\u001b[1;32m      9\u001b[0m     \u001b[1;31m# load file\u001b[0m\u001b[1;33m\u001b[0m\u001b[1;33m\u001b[0m\u001b[0m\n\u001b[0;32m---> 10\u001b[0;31m     \u001b[0mrate\u001b[0m\u001b[1;33m,\u001b[0m \u001b[0mdata\u001b[0m \u001b[1;33m=\u001b[0m \u001b[0mwavfile\u001b[0m\u001b[1;33m.\u001b[0m\u001b[0mread\u001b[0m\u001b[1;33m(\u001b[0m\u001b[0mfilename\u001b[0m\u001b[1;33m)\u001b[0m\u001b[1;33m\u001b[0m\u001b[0m\n\u001b[0m\u001b[1;32m     11\u001b[0m \u001b[1;33m\u001b[0m\u001b[0m\n\u001b[1;32m     12\u001b[0m     \u001b[1;31m# convert stereo to mono\u001b[0m\u001b[1;33m\u001b[0m\u001b[1;33m\u001b[0m\u001b[0m\n",
      "\u001b[0;32mC:\\Users\\Evgeny\\Anaconda2\\lib\\site-packages\\scipy\\io\\wavfile.pyc\u001b[0m in \u001b[0;36mread\u001b[0;34m(filename, mmap)\u001b[0m\n\u001b[1;32m    231\u001b[0m         \u001b[0mmmap\u001b[0m \u001b[1;33m=\u001b[0m \u001b[0mFalse\u001b[0m\u001b[1;33m\u001b[0m\u001b[0m\n\u001b[1;32m    232\u001b[0m     \u001b[1;32melse\u001b[0m\u001b[1;33m:\u001b[0m\u001b[1;33m\u001b[0m\u001b[0m\n\u001b[0;32m--> 233\u001b[0;31m         \u001b[0mfid\u001b[0m \u001b[1;33m=\u001b[0m \u001b[0mopen\u001b[0m\u001b[1;33m(\u001b[0m\u001b[0mfilename\u001b[0m\u001b[1;33m,\u001b[0m \u001b[1;34m'rb'\u001b[0m\u001b[1;33m)\u001b[0m\u001b[1;33m\u001b[0m\u001b[0m\n\u001b[0m\u001b[1;32m    234\u001b[0m \u001b[1;33m\u001b[0m\u001b[0m\n\u001b[1;32m    235\u001b[0m     \u001b[1;32mtry\u001b[0m\u001b[1;33m:\u001b[0m\u001b[1;33m\u001b[0m\u001b[0m\n",
      "\u001b[0;31mIOError\u001b[0m: [Errno 2] No such file or directory: 'Sample.wav'"
     ]
    }
   ],
   "source": [
    "fs1, s1 = load_wav('Sample.wav')\n",
    "wavPlayer(s1[::12], fs1/12)"
   ]
  },
  {
   "cell_type": "code",
   "execution_count": 6,
   "metadata": {
    "collapsed": false
   },
   "outputs": [
    {
     "ename": "IOError",
     "evalue": "[Errno 2] No such file or directory: 'Sample.wav'",
     "output_type": "error",
     "traceback": [
      "\u001b[0;31m---------------------------------------------------------------------------\u001b[0m",
      "\u001b[0;31mIOError\u001b[0m                                   Traceback (most recent call last)",
      "\u001b[0;32m<ipython-input-6-ca9f502d44d8>\u001b[0m in \u001b[0;36m<module>\u001b[0;34m()\u001b[0m\n\u001b[0;32m----> 1\u001b[0;31m \u001b[0mfs1\u001b[0m\u001b[1;33m,\u001b[0m \u001b[0ms1\u001b[0m \u001b[1;33m=\u001b[0m \u001b[0mload_wav\u001b[0m\u001b[1;33m(\u001b[0m\u001b[1;34m'Sample.wav'\u001b[0m\u001b[1;33m)\u001b[0m\u001b[1;33m\u001b[0m\u001b[0m\n\u001b[0m\u001b[1;32m      2\u001b[0m \u001b[0ms1\u001b[0m \u001b[1;33m=\u001b[0m \u001b[0mnp\u001b[0m\u001b[1;33m.\u001b[0m\u001b[0marray\u001b[0m\u001b[1;33m(\u001b[0m\u001b[0ms1\u001b[0m\u001b[1;33m[\u001b[0m\u001b[1;33m:\u001b[0m\u001b[1;33m:\u001b[0m\u001b[1;36m20\u001b[0m\u001b[1;33m]\u001b[0m\u001b[1;33m,\u001b[0m \u001b[0mdtype\u001b[0m\u001b[1;33m=\u001b[0m\u001b[0mnp\u001b[0m\u001b[1;33m.\u001b[0m\u001b[0mfloat32\u001b[0m\u001b[1;33m)\u001b[0m\u001b[1;33m\u001b[0m\u001b[0m\n\u001b[1;32m      3\u001b[0m \u001b[0mplt\u001b[0m\u001b[1;33m.\u001b[0m\u001b[0mplot\u001b[0m\u001b[1;33m(\u001b[0m\u001b[0ms1\u001b[0m\u001b[1;33m[\u001b[0m\u001b[1;33m:\u001b[0m\u001b[1;36m100\u001b[0m\u001b[1;33m]\u001b[0m\u001b[1;33m)\u001b[0m\u001b[1;33m\u001b[0m\u001b[0m\n\u001b[1;32m      4\u001b[0m \u001b[0mn\u001b[0m \u001b[1;33m=\u001b[0m \u001b[0mlen\u001b[0m\u001b[1;33m(\u001b[0m\u001b[0ms1\u001b[0m\u001b[1;33m)\u001b[0m\u001b[1;33m\u001b[0m\u001b[0m\n",
      "\u001b[0;32m<ipython-input-2-830c6d44fbe4>\u001b[0m in \u001b[0;36mload_wav\u001b[0;34m(filename, samplerate)\u001b[0m\n\u001b[1;32m      8\u001b[0m \u001b[1;33m\u001b[0m\u001b[0m\n\u001b[1;32m      9\u001b[0m     \u001b[1;31m# load file\u001b[0m\u001b[1;33m\u001b[0m\u001b[1;33m\u001b[0m\u001b[0m\n\u001b[0;32m---> 10\u001b[0;31m     \u001b[0mrate\u001b[0m\u001b[1;33m,\u001b[0m \u001b[0mdata\u001b[0m \u001b[1;33m=\u001b[0m \u001b[0mwavfile\u001b[0m\u001b[1;33m.\u001b[0m\u001b[0mread\u001b[0m\u001b[1;33m(\u001b[0m\u001b[0mfilename\u001b[0m\u001b[1;33m)\u001b[0m\u001b[1;33m\u001b[0m\u001b[0m\n\u001b[0m\u001b[1;32m     11\u001b[0m \u001b[1;33m\u001b[0m\u001b[0m\n\u001b[1;32m     12\u001b[0m     \u001b[1;31m# convert stereo to mono\u001b[0m\u001b[1;33m\u001b[0m\u001b[1;33m\u001b[0m\u001b[0m\n",
      "\u001b[0;32mC:\\Users\\Evgeny\\Anaconda2\\lib\\site-packages\\scipy\\io\\wavfile.pyc\u001b[0m in \u001b[0;36mread\u001b[0;34m(filename, mmap)\u001b[0m\n\u001b[1;32m    231\u001b[0m         \u001b[0mmmap\u001b[0m \u001b[1;33m=\u001b[0m \u001b[0mFalse\u001b[0m\u001b[1;33m\u001b[0m\u001b[0m\n\u001b[1;32m    232\u001b[0m     \u001b[1;32melse\u001b[0m\u001b[1;33m:\u001b[0m\u001b[1;33m\u001b[0m\u001b[0m\n\u001b[0;32m--> 233\u001b[0;31m         \u001b[0mfid\u001b[0m \u001b[1;33m=\u001b[0m \u001b[0mopen\u001b[0m\u001b[1;33m(\u001b[0m\u001b[0mfilename\u001b[0m\u001b[1;33m,\u001b[0m \u001b[1;34m'rb'\u001b[0m\u001b[1;33m)\u001b[0m\u001b[1;33m\u001b[0m\u001b[0m\n\u001b[0m\u001b[1;32m    234\u001b[0m \u001b[1;33m\u001b[0m\u001b[0m\n\u001b[1;32m    235\u001b[0m     \u001b[1;32mtry\u001b[0m\u001b[1;33m:\u001b[0m\u001b[1;33m\u001b[0m\u001b[0m\n",
      "\u001b[0;31mIOError\u001b[0m: [Errno 2] No such file or directory: 'Sample.wav'"
     ]
    }
   ],
   "source": [
    "fs1, s1 = load_wav('Sample.wav')\n",
    "s1 = np.array(s1[::20], dtype=np.float32)\n",
    "plt.plot(s1[:100])\n",
    "n = len(s1)"
   ]
  },
  {
   "cell_type": "code",
   "execution_count": 7,
   "metadata": {
    "collapsed": false
   },
   "outputs": [
    {
     "name": "stdout",
     "output_type": "stream",
     "text": [
      "0.5\n"
     ]
    },
    {
     "ename": "NameError",
     "evalue": "name 'n' is not defined",
     "output_type": "error",
     "traceback": [
      "\u001b[0;31m---------------------------------------------------------------------------\u001b[0m",
      "\u001b[0;31mNameError\u001b[0m                                 Traceback (most recent call last)",
      "\u001b[0;32m<ipython-input-7-4f8aebcc0f06>\u001b[0m in \u001b[0;36m<module>\u001b[0;34m()\u001b[0m\n\u001b[1;32m      2\u001b[0m \u001b[0malpha\u001b[0m \u001b[1;33m=\u001b[0m \u001b[1;36m1.\u001b[0m\u001b[1;33m/\u001b[0m\u001b[1;36m2\u001b[0m\u001b[1;33m\u001b[0m\u001b[0m\n\u001b[1;32m      3\u001b[0m \u001b[1;32mprint\u001b[0m \u001b[0malpha\u001b[0m\u001b[1;33m\u001b[0m\u001b[0m\n\u001b[0;32m----> 4\u001b[0;31m \u001b[0ma\u001b[0m \u001b[1;33m=\u001b[0m \u001b[0mnp\u001b[0m\u001b[1;33m.\u001b[0m\u001b[0msqrt\u001b[0m\u001b[1;33m(\u001b[0m\u001b[0malpha\u001b[0m\u001b[1;33m/\u001b[0m\u001b[0mnp\u001b[0m\u001b[1;33m.\u001b[0m\u001b[0mpi\u001b[0m\u001b[1;33m)\u001b[0m \u001b[1;33m*\u001b[0m \u001b[0mnp\u001b[0m\u001b[1;33m.\u001b[0m\u001b[0mexp\u001b[0m\u001b[1;33m(\u001b[0m\u001b[1;33m-\u001b[0m\u001b[0malpha\u001b[0m\u001b[1;33m*\u001b[0m\u001b[0mnp\u001b[0m\u001b[1;33m.\u001b[0m\u001b[0marange\u001b[0m\u001b[1;33m(\u001b[0m\u001b[0mn\u001b[0m\u001b[1;33m)\u001b[0m\u001b[1;33m**\u001b[0m\u001b[1;36m2\u001b[0m\u001b[1;33m)\u001b[0m\u001b[1;33m\u001b[0m\u001b[0m\n\u001b[0m\u001b[1;32m      5\u001b[0m \u001b[0mA\u001b[0m \u001b[1;33m=\u001b[0m \u001b[0mla\u001b[0m\u001b[1;33m.\u001b[0m\u001b[0mtoeplitz\u001b[0m\u001b[1;33m(\u001b[0m\u001b[0ma\u001b[0m\u001b[1;33m,\u001b[0m \u001b[0ma\u001b[0m\u001b[1;33m)\u001b[0m\u001b[1;33m\u001b[0m\u001b[0m\n\u001b[1;32m      6\u001b[0m \u001b[0my\u001b[0m \u001b[1;33m=\u001b[0m \u001b[0mA\u001b[0m\u001b[1;33m.\u001b[0m\u001b[0mdot\u001b[0m\u001b[1;33m(\u001b[0m\u001b[0ms1\u001b[0m\u001b[1;33m)\u001b[0m \u001b[1;33m+\u001b[0m \u001b[1;36m0e-3\u001b[0m \u001b[1;33m*\u001b[0m\u001b[0mnp\u001b[0m\u001b[1;33m.\u001b[0m\u001b[0mmax\u001b[0m\u001b[1;33m(\u001b[0m\u001b[0ms1\u001b[0m\u001b[1;33m)\u001b[0m\u001b[1;33m*\u001b[0m \u001b[0mnp\u001b[0m\u001b[1;33m.\u001b[0m\u001b[0mrandom\u001b[0m\u001b[1;33m.\u001b[0m\u001b[0mrandom\u001b[0m\u001b[1;33m(\u001b[0m\u001b[0mn\u001b[0m\u001b[1;33m)\u001b[0m\u001b[1;33m\u001b[0m\u001b[0m\n",
      "\u001b[0;31mNameError\u001b[0m: name 'n' is not defined"
     ]
    }
   ],
   "source": [
    "import scipy.linalg as la\n",
    "alpha = 1./2\n",
    "print alpha\n",
    "a = np.sqrt(alpha/np.pi) * np.exp(-alpha*np.arange(n)**2)\n",
    "A = la.toeplitz(a, a)\n",
    "y = A.dot(s1) + 0e-3 *np.max(s1)* np.random.random(n)\n",
    "plt.plot(y[:100])\n",
    "plt.plot(s1[:100])"
   ]
  },
  {
   "cell_type": "code",
   "execution_count": 8,
   "metadata": {
    "collapsed": false
   },
   "outputs": [
    {
     "ename": "NameError",
     "evalue": "name 'A' is not defined",
     "output_type": "error",
     "traceback": [
      "\u001b[0;31m---------------------------------------------------------------------------\u001b[0m",
      "\u001b[0;31mNameError\u001b[0m                                 Traceback (most recent call last)",
      "\u001b[0;32m<ipython-input-8-4306d654d66e>\u001b[0m in \u001b[0;36m<module>\u001b[0;34m()\u001b[0m\n\u001b[0;32m----> 1\u001b[0;31m \u001b[0mwavPlayer\u001b[0m\u001b[1;33m(\u001b[0m\u001b[0mA\u001b[0m\u001b[1;33m.\u001b[0m\u001b[0mdot\u001b[0m\u001b[1;33m(\u001b[0m\u001b[0ms1\u001b[0m\u001b[1;33m)\u001b[0m\u001b[1;33m.\u001b[0m\u001b[0mastype\u001b[0m\u001b[1;33m(\u001b[0m\u001b[0mnp\u001b[0m\u001b[1;33m.\u001b[0m\u001b[0mint16\u001b[0m\u001b[1;33m)\u001b[0m\u001b[1;33m,\u001b[0m \u001b[0mfs1\u001b[0m\u001b[1;33m/\u001b[0m\u001b[1;36m12\u001b[0m\u001b[1;33m)\u001b[0m\u001b[1;33m\u001b[0m\u001b[0m\n\u001b[0m",
      "\u001b[0;31mNameError\u001b[0m: name 'A' is not defined"
     ]
    }
   ],
   "source": [
    "wavPlayer(A.dot(s1).astype(np.int16), fs1/12)"
   ]
  },
  {
   "cell_type": "code",
   "execution_count": 9,
   "metadata": {
    "collapsed": false
   },
   "outputs": [
    {
     "ename": "NameError",
     "evalue": "name 'n' is not defined",
     "output_type": "error",
     "traceback": [
      "\u001b[0;31m---------------------------------------------------------------------------\u001b[0m",
      "\u001b[0;31mNameError\u001b[0m                                 Traceback (most recent call last)",
      "\u001b[0;32m<ipython-input-9-5c0eef6d40b0>\u001b[0m in \u001b[0;36m<module>\u001b[0;34m()\u001b[0m\n\u001b[0;32m----> 1\u001b[0;31m \u001b[0mx\u001b[0m \u001b[1;33m=\u001b[0m \u001b[0mnp\u001b[0m\u001b[1;33m.\u001b[0m\u001b[0mzeros\u001b[0m\u001b[1;33m(\u001b[0m\u001b[0mn\u001b[0m\u001b[1;33m)\u001b[0m\u001b[1;33m\u001b[0m\u001b[0m\n\u001b[0m\u001b[1;32m      2\u001b[0m \u001b[0mlog\u001b[0m \u001b[1;33m=\u001b[0m \u001b[1;33m[\u001b[0m\u001b[1;33m]\u001b[0m\u001b[1;33m\u001b[0m\u001b[0m\n\u001b[1;32m      3\u001b[0m \u001b[1;32mfor\u001b[0m \u001b[0mi\u001b[0m \u001b[1;32min\u001b[0m \u001b[0mrange\u001b[0m\u001b[1;33m(\u001b[0m\u001b[1;36m1000\u001b[0m\u001b[1;33m)\u001b[0m\u001b[1;33m:\u001b[0m\u001b[1;33m\u001b[0m\u001b[0m\n\u001b[1;32m      4\u001b[0m     \u001b[0mr\u001b[0m \u001b[1;33m=\u001b[0m \u001b[0mA\u001b[0m\u001b[1;33m.\u001b[0m\u001b[0mdot\u001b[0m\u001b[1;33m(\u001b[0m\u001b[0mx\u001b[0m\u001b[1;33m)\u001b[0m \u001b[1;33m-\u001b[0m \u001b[0my\u001b[0m\u001b[1;33m\u001b[0m\u001b[0m\n\u001b[1;32m      5\u001b[0m     \u001b[0mAr\u001b[0m \u001b[1;33m=\u001b[0m \u001b[0mA\u001b[0m\u001b[1;33m.\u001b[0m\u001b[0mdot\u001b[0m\u001b[1;33m(\u001b[0m\u001b[0mr\u001b[0m\u001b[1;33m)\u001b[0m\u001b[1;33m\u001b[0m\u001b[0m\n",
      "\u001b[0;31mNameError\u001b[0m: name 'n' is not defined"
     ]
    }
   ],
   "source": [
    "x = np.zeros(n)\n",
    "log = []\n",
    "for i in range(1000):\n",
    "    r = A.dot(x) - y\n",
    "    Ar = A.dot(r)\n",
    "    tau = r.dot(Ar) / (Ar.dot(Ar))\n",
    "    x = x - tau * r\n",
    "    log.append(np.linalg.norm(x - s1)/np.linalg.norm(s1))"
   ]
  },
  {
   "cell_type": "code",
   "execution_count": 23,
   "metadata": {
    "collapsed": false
   },
   "outputs": [
    {
     "data": {
      "text/plain": [
       "[<matplotlib.lines.Line2D at 0x9bf7198>]"
      ]
     },
     "execution_count": 23,
     "metadata": {},
     "output_type": "execute_result"
    },
    {
     "data": {
      "image/png": "[encoded data removed]",
      "text/plain": [
       "<matplotlib.figure.Figure at 0x9bf7b38>"
      ]
     },
     "metadata": {},
     "output_type": "display_data"
    }
   ],
   "source": [
    "plt.plot(x[:100])\n",
    "plt.plot(s1[:100])"
   ]
  },
  {
   "cell_type": "code",
   "execution_count": 24,
   "metadata": {
    "collapsed": false
   },
   "outputs": [
    {
     "data": {
      "text/plain": [
       "[<matplotlib.lines.Line2D at 0xb6f7eb8>]"
      ]
     },
     "execution_count": 24,
     "metadata": {},
     "output_type": "execute_result"
    },
    {
     "data": {
      "image/png": "[encoded data removed]",
      "text/plain": [
       "<matplotlib.figure.Figure at 0xb7ba160>"
      ]
     },
     "metadata": {},
     "output_type": "display_data"
    }
   ],
   "source": [
    "plt.plot(log)"
   ]
  },
  {
   "cell_type": "markdown",
   "metadata": {},
   "source": [
    "# Problem 2 (Theoretical tasks)\n",
    "\n",
    "## Unitary invariance\n",
    "\n",
    "## 15 pts\n",
    "\n",
    "* Prove that the second vector norm $\\|\\cdot\\|_2$ is unitary invariant: $\\|Ux\\|_2 = \\|x\\|_2$ holds for any unitary matrix $U$ and any vector $x$. \n",
    "\n",
    "\n",
    "* Prove that the spectral matrix norm $\\|\\cdot\\|_2$ is unitary invariant: $\\|UAV\\|_2 \\equiv \\|A\\|_2$ holds for any unitary matrices $U$ and $V$ and for any matrix $A$. **Hint:** use definition of the operator norm.\n",
    "\n",
    "\n",
    "* In order to prove unitary invariance of the Frobenius norm prove first that $\\|A\\|^2_F = \\text{trace}(AA^*) = \\text{trace}(A^*A)$.\n",
    "Now prove that the Frobenius norm is unitary invariant. You can use the following property of the trace: $\\text{trace}(BC) \\equiv \\text{trace}(CB)$\n",
    "\n",
    "## SVD\n",
    "\n",
    "## 15 pts\n",
    "\n",
    "* Prove that $\\|A\\|_2 = \\sigma_1(A)$ and $\\|A\\|_F = \\sqrt{\\sigma_1^2(A) + \\dots + \\sigma_r^2(A)}$. **Note:** unitary invariance of the second and Frobenius norms might be helpful.\n",
    "\n",
    "\n",
    "* Matrix norm $\\|A\\|_* = \\sigma_1(A) + \\dots + \\sigma_r(A)$ is called *nuclear norm* and plays important role in approximation by low-rank matrices. Check if it is unitary invariant.\n",
    "\n",
    "\n",
    "* Find the distance in second and Frobenius norms between nonsingular matrix and the closest singular."
   ]
  },
  {
   "cell_type": "code",
   "execution_count": null,
   "metadata": {
    "collapsed": true
   },
   "outputs": [],
   "source": []
  },
  {
   "cell_type": "markdown",
   "metadata": {},
   "source": [
    "# Problem 3 (Strassen algorithm)\n",
    "\n",
    "## 15 pts\n",
    "\n",
    "* What is the complexity of naive matrix-matrix multiplication? What is the complexity of Strassen algorithm? Can complexity of matrix-matrix multiplication be asymptotically smaller than $\\mathcal{O}(n^2)$? Why?\n",
    "\n",
    "It might be a good idea not to do recursion in the Strassen algorithm to the bottom level. Sometimes only several levels of the recursion are used. This helps to reduce a constant outside $n^3$. \n",
    "\n",
    "* Find analytically constant outside $n^3$ after $2$ levels of recursion in Strassen algorithm. Compare it with the constant in the naive multiplication. **Note:** additions and multiplications of numbers are assumed to have the same computational cost."
   ]
  },
  {
   "cell_type": "code",
   "execution_count": null,
   "metadata": {
    "collapsed": true
   },
   "outputs": [],
   "source": []
  },
  {
   "cell_type": "markdown",
   "metadata": {},
   "source": [
    "# Problem 4 (SVD compression)\n",
    "\n",
    "## 10 pts\n",
    "\n",
    "* Find SVD decomposition of the [Lena image](http://www.ece.rice.edu/~wakin/images/lenaTest3.jpg) and plot its singular values.\n",
    "* Compress the image using truncation of singular values. Plot compressed images for $r=5,20,50,512$ ($r$ is a number of remaining singular values). Specify compression rate in the titles of images . **Note:** use `plt.subplots` and locate images as a $2\\times 2$ array."
   ]
  },
  {
   "cell_type": "code",
   "execution_count": null,
   "metadata": {
    "collapsed": true
   },
   "outputs": [],
   "source": []
  },
  {
   "cell_type": "markdown",
   "metadata": {},
   "source": [
    "# Problem 5 (Bonus)\n",
    "\n",
    "* The norm is called absolute if $\\|x\\|=\\| \\lvert x \\lvert \\|$ holds for any vector $x$, where $x=(x_1,\\dots,x_n)^T$ and $\\lvert x \\lvert = (\\lvert x_1 \\lvert,\\dots, \\lvert x_n \\lvert)^T$. Give an example of a norm which is not absolute.\n",
    "\n",
    "\n",
    "* Write a function ```HOSVD(n, epsilon)``` that calculates High-Order SVD (HOSVD) algorithm in 3D and returns core and 3 HOSVD factors (```epsilon``` is the relative accuracy in the Frobenius norm between approximated and initial tensors). Give ranks of the 3D Hilbert tensor\n",
    "$$\n",
    "a_{ijk} = \\frac{1}{i+j+k + 1}, \\quad i,j,k = 0,\\dots, n-1\n",
    "$$\n",
    "with $10^{-5}$ accuracy. Details can be found [here](http://ca.sandia.gov/~tgkolda/pubs/pubfiles/TensorReview.pdf) on Figure 4.3."
   ]
  },
  {
   "cell_type": "code",
   "execution_count": null,
   "metadata": {
    "collapsed": true
   },
   "outputs": [],
   "source": []
  }
 ],
 "metadata": {
  "anaconda-cloud": {},
  "kernelspec": {
   "display_name": "Python [conda root]",
   "language": "python",
   "name": "conda-root-py"
  },
  "language_info": {
   "codemirror_mode": {
    "name": "ipython",
    "version": 2
   },
   "file_extension": ".py",
   "mimetype": "text/x-python",
   "name": "python",
   "nbconvert_exporter": "python",
   "pygments_lexer": "ipython2",
   "version": "2.7.12"
  },
  "nav_menu": {},
  "toc": {
   "navigate_menu": true,
   "number_sections": false,
   "sideBar": true,
   "threshold": 6,
   "toc_cell": false,
   "toc_section_display": "block",
   "toc_window_display": false
  }
 },
 "nbformat": 4,
 "nbformat_minor": 0
}
