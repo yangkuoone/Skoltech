{
 "cells": [
  {
   "cell_type": "code",
   "execution_count": 3,
   "metadata": {
    "collapsed": false
   },
   "outputs": [],
   "source": [
    "import numpy as np\n",
    "import networkx as nx\n",
    "import matplotlib.pyplot as plt"
   ]
  },
  {
   "cell_type": "code",
   "execution_count": 26,
   "metadata": {
    "collapsed": false
   },
   "outputs": [
    {
     "name": "stdout",
     "output_type": "stream",
     "text": [
      "3.14000392578\n",
      "3.13711891213\n",
      "3.12307646533\n",
      "3.14410653649\n",
      "3.1260909926\n",
      "3.15231786387\n",
      "3.13542433232\n",
      "3.14322615435\n",
      "3.13243715291\n",
      "3.14711565395\n",
      "3.14736730935\n",
      "3.12585256591\n",
      "3.14384380748\n",
      "3.14401416373\n",
      "3.13228913715\n",
      "3.13677574635\n",
      "3.14921997046\n",
      "3.14237725671\n",
      "3.1424128492\n",
      "3.13983745014\n"
     ]
    }
   ],
   "source": [
    "for i in range(20):\n",
    "    np.random.seed(i)\n",
    "    max_iter = 100500\n",
    "    xs = np.zeros(max_iter)\n",
    "    for iter in range(max_iter):\n",
    "        xs[iter] = 2 * np.pi * np.min(np.random.rand(1, 3))\n",
    "    print(2 * xs.sum()/max_iter)"
   ]
  },
  {
   "cell_type": "code",
   "execution_count": null,
   "metadata": {
    "collapsed": true
   },
   "outputs": [],
   "source": []
  }
 ],
 "metadata": {
  "kernelspec": {
   "display_name": "Python 3",
   "language": "python",
   "name": "python3"
  },
  "language_info": {
   "codemirror_mode": {
    "name": "ipython",
    "version": 3
   },
   "file_extension": ".py",
   "mimetype": "text/x-python",
   "name": "python",
   "nbconvert_exporter": "python",
   "pygments_lexer": "ipython3",
   "version": "3.6.0"
  }
 },
 "nbformat": 4,
 "nbformat_minor": 2
}
